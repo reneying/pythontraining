{
 "cells": [
  {
   "cell_type": "markdown",
   "metadata": {},
   "source": [
    "# Logging with Python"
   ]
  },
  {
   "cell_type": "markdown",
   "metadata": {},
   "source": [
    "*Authors: Ra Inta*\n",
    "\n",
    "*Copyright 2019, BH Analytics, LLC*"
   ]
  },
  {
   "cell_type": "markdown",
   "metadata": {},
   "source": [
    "## Overview\n",
    "\n",
    "The purpose of this section is to provide an introduction to logging your Python code, in order to monitor and respond to events, based on the results of the logging process.\n",
    "\n",
    "We will cover:\n",
    "\n",
    " *  Why we should log processes \n",
    " *  How to log using the `logging` library "
   ]
  },
  {
   "cell_type": "markdown",
   "metadata": {},
   "source": [
    "## Why should I log?\n",
    "\n",
    "If you have any experience at all, you will know that not everything always goes right with software. However, if a critical piece of code fails, there are better means of mitigating the fall-out. This is where logging becomes invaluable. It is the analog of an airplane's black-box for your code or application---hopefully without the grim implications!\n",
    "\n",
    "Logging can also be useful for debugging or otherwise observing the behavior of your code.\n",
    "\n",
    "This is more than just putting `print()` statements at random locations in your code. There is a standard way to serve a log message, with increasing levels of importance or criticality.\n",
    "\n",
    "For this purpose, we will make use of the `logging` library in Python."
   ]
  },
  {
   "cell_type": "markdown",
   "metadata": {},
   "source": [
    "Import the `logging` library, part of the Python Standard Library:"
   ]
  },
  {
   "cell_type": "code",
   "execution_count": 2,
   "metadata": {},
   "outputs": [],
   "source": [
    "import logging"
   ]
  },
  {
   "cell_type": "markdown",
   "metadata": {},
   "source": [
    "First we'll check "
   ]
  },
  {
   "cell_type": "code",
   "execution_count": 3,
   "metadata": {},
   "outputs": [],
   "source": [
    "output_to_file = False\n",
    "\n",
    "if not output_to_file:\n",
    "    logging.basicConfig(level=logging.DEBUG,\n",
    "                        format=' %(asctime)s ----- %(levelname)s ----- %(message)s')\n",
    "else:\n",
    "    logging.basicConfig(filename='test_logging.log',\n",
    "                        level=logging.DEBUG,\n",
    "                        format=' %(asctime)s ----- %(levelname)s ----- %(message)s')"
   ]
  },
  {
   "cell_type": "code",
   "execution_count": 4,
   "metadata": {},
   "outputs": [
    {
     "name": "stderr",
     "output_type": "stream",
     "text": [
      " 2019-08-03 21:43:55,899 ----- DEBUG ----- Start of program\n"
     ]
    }
   ],
   "source": [
    "logging.debug('Start of program')"
   ]
  },
  {
   "cell_type": "code",
   "execution_count": 5,
   "metadata": {},
   "outputs": [],
   "source": [
    "def factorial(n):\n",
    "    logging.debug(f'Start of factorial({n})')\n",
    "    total = 1\n",
    "    for i in range(n + 1):\n",
    "        total *= i\n",
    "        logging.debug(f'i is {i} total is {total}')\n",
    "        logging.debug(f'End of factorial({n})')\n",
    "        return total"
   ]
  },
  {
   "cell_type": "code",
   "execution_count": 6,
   "metadata": {},
   "outputs": [
    {
     "name": "stderr",
     "output_type": "stream",
     "text": [
      " 2019-08-03 21:44:00,987 ----- DEBUG ----- Start of factorial(5)\n",
      " 2019-08-03 21:44:00,991 ----- DEBUG ----- i is 0 total is 0\n",
      " 2019-08-03 21:44:00,992 ----- DEBUG ----- End of factorial(5)\n"
     ]
    },
    {
     "name": "stdout",
     "output_type": "stream",
     "text": [
      "0\n"
     ]
    }
   ],
   "source": [
    "print(factorial(5))"
   ]
  },
  {
   "cell_type": "code",
   "execution_count": 7,
   "metadata": {},
   "outputs": [
    {
     "name": "stderr",
     "output_type": "stream",
     "text": [
      " 2019-08-03 21:44:07,121 ----- DEBUG ----- End of program\n"
     ]
    }
   ],
   "source": [
    "logging.debug('End of program')"
   ]
  },
  {
   "cell_type": "markdown",
   "metadata": {},
   "source": [
    "| Level | Syntax | Description |\n",
    "| --- | --- | --- | \n",
    "| DEBUG | logging.debug() | The most basic level. Generally useful for a diagnostic tool. |\n",
    "| INFO | logging.info() | Information on events within your program.|\n",
    "| WARNING | logging.warning() | Indicates a potential problem with your program. |\n",
    "| ERROR | logging.error() | Records an error that caused a failure somehwere in the program. |\n",
    "| CRITICAL | logging.critical() | The most serious level. Reports an imminent or actual fatal error. | "
   ]
  },
  {
   "cell_type": "code",
   "execution_count": 9,
   "metadata": {},
   "outputs": [
    {
     "name": "stderr",
     "output_type": "stream",
     "text": [
      " 2019-08-03 21:53:21,254 ----- DEBUG ----- Some debugging details.\n",
      " 2019-08-03 21:53:21,257 ----- INFO ----- Function seems to be working just fine\n",
      " 2019-08-03 21:53:21,258 ----- WARNING ----- An error is about to be logged\n",
      " 2019-08-03 21:53:21,260 ----- ERROR ----- An error had occurred\n",
      " 2019-08-03 21:53:21,260 ----- CRITICAL ----- The system has GONE CRITICAL!\n"
     ]
    }
   ],
   "source": [
    "logging.debug('Some debugging details.')\n",
    "logging.info('Function seems to be working just fine')\n",
    "logging.warning('An error is about to be logged')\n",
    "logging.error('An error had occurred')\n",
    "logging.critical('The system has GONE CRITICAL!')"
   ]
  },
  {
   "cell_type": "markdown",
   "metadata": {},
   "source": [
    "### The log file\n",
    "\n",
    "The above code was run interactively, on a Jupyter notebook. The actual intention of logging is to automatically capture the behavior of your program and to be able to act accordingly, in a timely fashion. \n",
    "\n",
    "Note the `output_to_file` flag above was set to `False`. If we were to produce a log file, it would look like:"
   ]
  },
  {
   "cell_type": "code",
   "execution_count": 10,
   "metadata": {},
   "outputs": [
    {
     "name": "stdout",
     "output_type": "stream",
     "text": [
      " 2019-06-06 14:57:31,193 ----- DEBUG ----- Start of program\r\n",
      " 2019-06-06 14:57:31,193 ----- DEBUG ----- Start of factorial(5)\r\n",
      " 2019-06-06 14:57:31,194 ----- DEBUG ----- i is 0 total is 0\r\n",
      " 2019-06-06 14:57:31,194 ----- DEBUG ----- End of factorial(5)\r\n",
      " 2019-06-06 14:57:31,194 ----- DEBUG ----- End of program\r\n",
      " 2019-06-06 14:57:31,194 ----- DEBUG ----- Some debugging details.\r\n",
      " 2019-06-06 14:57:31,194 ----- INFO ----- Function seems to be working just fine\r\n",
      " 2019-06-06 14:57:31,195 ----- WARNING ----- An error is about to be logged\r\n",
      " 2019-06-06 14:57:31,195 ----- ERROR ----- An error had occurred\r\n",
      " 2019-06-06 14:57:31,195 ----- CRITICAL ----- The system has GONE CRITICAL!\r\n",
      " 2019-06-06 14:57:31,195 ----- DEBUG ----- Some debugging details.\r\n",
      " 2019-06-06 14:57:31,195 ----- INFO ----- Function seems to be working just fine\r\n",
      " 2019-06-06 14:57:31,195 ----- WARNING ----- An error is about to be logged\r\n",
      " 2019-06-06 14:57:31,195 ----- ERROR ----- An error had occurred\r\n",
      " 2019-06-06 14:57:31,195 ----- CRITICAL ----- The system has GONE CRITICAL!\r\n"
     ]
    }
   ],
   "source": [
    "! cat code/test_logging.log"
   ]
  },
  {
   "cell_type": "markdown",
   "metadata": {},
   "source": [
    "Because this is run as a script, we will look at this in class."
   ]
  },
  {
   "cell_type": "markdown",
   "metadata": {},
   "source": [
    "## Conclusion\n",
    "\n",
    "We covered why we should log applications, how to log them in Python, using the `logging` library, and also looked at what is important to log in the first place."
   ]
  }
 ],
 "metadata": {
  "kernelspec": {
   "display_name": "Python 3",
   "language": "python",
   "name": "python3"
  },
  "language_info": {
   "codemirror_mode": {
    "name": "ipython",
    "version": 3
   },
   "file_extension": ".py",
   "mimetype": "text/x-python",
   "name": "python",
   "nbconvert_exporter": "python",
   "pygments_lexer": "ipython3",
   "version": "3.6.7"
  }
 },
 "nbformat": 4,
 "nbformat_minor": 2
}
