{
 "cells": [
  {
   "cell_type": "markdown",
   "metadata": {},
   "source": [
    "# Code Design Principles in Python"
   ]
  },
  {
   "cell_type": "markdown",
   "metadata": {},
   "source": [
    "*Author: Ra Inta, written for BH Analytics*\n",
    "\n",
    "*Copyright 2019, BH Analytics, LLC*"
   ]
  },
  {
   "cell_type": "markdown",
   "metadata": {},
   "source": [
    "## Overview \n",
    "\n",
    "The primary reason that Python is currently one of the most widely used (and widely loved) languages across virtually all technology stacks is because the language is _written for humans_. In other words, the primary goal is for the intent of the language to be clearly and immediately understood. A certain degree of readability is enforced in the very syntax itself.\n",
    "\n",
    "**Question:** How many of you were surprised---possibly offended---by the use of whitespace as a syntactic element?\n",
    "\n",
    "This is one of the many design principles that a great deal of thought, consideration and agnonization went into to achieve this over-arching goal.\n",
    "\n",
    "However, there are flexible elements within the language, so there are certainly more preferable practices than others. Here, we will cover a number of concepts and design patterns that provide clarity and rapidity of understanding the code by others, and also performance issues. These are often related! \n",
    "\n",
    "In particular, we will cover:\n",
    "\n",
    " *  How design decisions are made within the Python community \n",
    " *  Writing Pythonic code\n",
    " *  PEP8 compliance\n",
    " *  New design paradigms in Python (type hints, data classes and f-strings)\n",
    " \n",
    " Much of this will be covered in class itself. The following are three important new design paradigms in Python."
   ]
  },
  {
   "cell_type": "markdown",
   "metadata": {},
   "source": [
    "## New design paradigms in Python"
   ]
  },
  {
   "cell_type": "markdown",
   "metadata": {},
   "source": [
    "### Type Hints\n",
    "\n",
    "Python is a _dynamically typed_ language. This is a double-edged sword. On the one hand, it provides a great deal of flexibility compared to statically typed languages. However, this flexibility comes at the cost of clarity. One of the biggest issues with data pipelines is not being able to control the data-type of a variable or data structure. This is where _type hints_, or _type annotations_, come into play.\n",
    "\n",
    "The intention is not to force the language to be statically typed, but allow for checking (hence the 'hint' terminology).\n",
    "\n",
    "From [PEP 484](https://www.python.org/dev/peps/pep-0484/):\n",
    "> Python will remain a dynamically typed language, and the authors have no desire to ever make type hints mandatory, even by convention.\n",
    "\n",
    "We may define a function using type hints with the following syntax (Python 3.7+):"
   ]
  },
  {
   "cell_type": "code",
   "execution_count": 1,
   "metadata": {},
   "outputs": [],
   "source": [
    "import numpy as np\n",
    "def roll20(n: int) -> int:\n",
    "    \"\"\"Rolls a twenty-sided die n times.\"\"\"\n",
    "    return np.random.randint(1, 21, n)"
   ]
  },
  {
   "cell_type": "markdown",
   "metadata": {},
   "source": [
    "We take in a single variable, _n_, and expect it to be an `int`. We also expect an `int` output.\n",
    "\n",
    "We can run the function as expected with an integer input:"
   ]
  },
  {
   "cell_type": "code",
   "execution_count": 2,
   "metadata": {},
   "outputs": [
    {
     "data": {
      "text/plain": [
       "array([10,  2])"
      ]
     },
     "execution_count": 2,
     "metadata": {},
     "output_type": "execute_result"
    }
   ],
   "source": [
    "roll20(2)"
   ]
  },
  {
   "cell_type": "markdown",
   "metadata": {},
   "source": [
    "However, if we use a string input:"
   ]
  },
  {
   "cell_type": "code",
   "execution_count": 3,
   "metadata": {},
   "outputs": [
    {
     "ename": "TypeError",
     "evalue": "'str' object cannot be interpreted as an integer",
     "output_type": "error",
     "traceback": [
      "\u001b[1;31m---------------------------------------------------------------------------\u001b[0m",
      "\u001b[1;31mTypeError\u001b[0m                                 Traceback (most recent call last)",
      "\u001b[1;32m<ipython-input-3-3c168c7333a8>\u001b[0m in \u001b[0;36m<module>\u001b[1;34m\u001b[0m\n\u001b[1;32m----> 1\u001b[1;33m \u001b[0mroll20\u001b[0m\u001b[1;33m(\u001b[0m\u001b[1;34m\"2\"\u001b[0m\u001b[1;33m)\u001b[0m\u001b[1;33m\u001b[0m\u001b[1;33m\u001b[0m\u001b[0m\n\u001b[0m",
      "\u001b[1;32m<ipython-input-1-100a062a9f68>\u001b[0m in \u001b[0;36mroll20\u001b[1;34m(n)\u001b[0m\n\u001b[0;32m      2\u001b[0m \u001b[1;32mdef\u001b[0m \u001b[0mroll20\u001b[0m\u001b[1;33m(\u001b[0m\u001b[0mn\u001b[0m\u001b[1;33m:\u001b[0m \u001b[0mint\u001b[0m\u001b[1;33m)\u001b[0m \u001b[1;33m->\u001b[0m \u001b[0mint\u001b[0m\u001b[1;33m:\u001b[0m\u001b[1;33m\u001b[0m\u001b[1;33m\u001b[0m\u001b[0m\n\u001b[0;32m      3\u001b[0m     \u001b[1;34m\"\"\"Rolls a twenty-sided die n times.\"\"\"\u001b[0m\u001b[1;33m\u001b[0m\u001b[1;33m\u001b[0m\u001b[0m\n\u001b[1;32m----> 4\u001b[1;33m     \u001b[1;32mreturn\u001b[0m \u001b[0mnp\u001b[0m\u001b[1;33m.\u001b[0m\u001b[0mrandom\u001b[0m\u001b[1;33m.\u001b[0m\u001b[0mrandint\u001b[0m\u001b[1;33m(\u001b[0m\u001b[1;36m1\u001b[0m\u001b[1;33m,\u001b[0m \u001b[1;36m21\u001b[0m\u001b[1;33m,\u001b[0m \u001b[0mn\u001b[0m\u001b[1;33m)\u001b[0m\u001b[1;33m\u001b[0m\u001b[1;33m\u001b[0m\u001b[0m\n\u001b[0m",
      "\u001b[1;32mmtrand.pyx\u001b[0m in \u001b[0;36mmtrand.RandomState.randint\u001b[1;34m()\u001b[0m\n",
      "\u001b[1;32mmtrand.pyx\u001b[0m in \u001b[0;36mmtrand.RandomState.randint\u001b[1;34m()\u001b[0m\n",
      "\u001b[1;32mrandint_helpers.pxi\u001b[0m in \u001b[0;36mmtrand._rand_int32\u001b[1;34m()\u001b[0m\n",
      "\u001b[1;31mTypeError\u001b[0m: 'str' object cannot be interpreted as an integer"
     ]
    }
   ],
   "source": [
    "roll20(\"2\")"
   ]
  },
  {
   "cell_type": "markdown",
   "metadata": {},
   "source": [
    "We get a `TypeError`. Hence we can use our usual `try`.. `except` construct to trap this exception and handle it accordingly."
   ]
  },
  {
   "cell_type": "code",
   "execution_count": 4,
   "metadata": {},
   "outputs": [],
   "source": [
    "from typing import List\n",
    "CoolArray = List[int]\n",
    "\n",
    "def roll20_plus_r(r: int, array: CoolArray) -> CoolArray:\n",
    "    return [Idx + r for Idx in array]"
   ]
  },
  {
   "cell_type": "markdown",
   "metadata": {},
   "source": [
    "A list of `int` types is an Array type"
   ]
  },
  {
   "cell_type": "code",
   "execution_count": 5,
   "metadata": {},
   "outputs": [
    {
     "data": {
      "text/plain": [
       "[13, 23, 5]"
      ]
     },
     "execution_count": 5,
     "metadata": {},
     "output_type": "execute_result"
    }
   ],
   "source": [
    "array2 = roll20_plus_r(3, roll20(3))\n",
    "array2"
   ]
  },
  {
   "cell_type": "markdown",
   "metadata": {},
   "source": [
    "### Dataclasses\n",
    "\n",
    "Type hinting is useful for keeping track of data-types for specific instances. But what if we wanted to apply it to a whole class? \n",
    "\n",
    "This would make enforcement of attributes and types of data within custom data structures a lot easier. This is where _Dataclasses_ come in. "
   ]
  },
  {
   "cell_type": "code",
   "execution_count": 6,
   "metadata": {},
   "outputs": [],
   "source": [
    "from dataclasses import dataclass"
   ]
  },
  {
   "cell_type": "markdown",
   "metadata": {},
   "source": [
    "Currently (Python 3.7), Dataclasses are implemented as a decorator before the class definition:"
   ]
  },
  {
   "cell_type": "code",
   "execution_count": 7,
   "metadata": {},
   "outputs": [],
   "source": [
    "@dataclass\n",
    "class Character:\n",
    "    strength: int\n",
    "    intelligence: int\n",
    "    dexterity: int\n",
    "    wisdom: int\n",
    "    name: str"
   ]
  },
  {
   "cell_type": "markdown",
   "metadata": {},
   "source": [
    "This is a class definition for `Character`.\n",
    "\n",
    "\"But wait!\" I hear you ask. \"Where's all that boilerplate code? Where's your `__init__` method, at the very least?\"\n",
    "\n",
    "Exactly. This is the beauty of Dataclasses. We use type annotations for each input variable.\n",
    "\n",
    "We simply create a new instantiation of this class (making use of our `roll20()` function and a little bit of parameter unpacking):"
   ]
  },
  {
   "cell_type": "code",
   "execution_count": 8,
   "metadata": {},
   "outputs": [],
   "source": [
    "super_fighter = Character(*roll20(4), \"Mr Tough\")"
   ]
  },
  {
   "cell_type": "markdown",
   "metadata": {},
   "source": [
    "We have created a new instantiation of `Character`, with four random `int` and a name (`str`).\n",
    "\n",
    "We can access any of the attributes:"
   ]
  },
  {
   "cell_type": "code",
   "execution_count": 9,
   "metadata": {},
   "outputs": [
    {
     "data": {
      "text/plain": [
       "14"
      ]
     },
     "execution_count": 9,
     "metadata": {},
     "output_type": "execute_result"
    }
   ],
   "source": [
    "super_fighter.strength"
   ]
  },
  {
   "cell_type": "markdown",
   "metadata": {},
   "source": [
    "And query the object:"
   ]
  },
  {
   "cell_type": "code",
   "execution_count": 10,
   "metadata": {},
   "outputs": [
    {
     "data": {
      "text/plain": [
       "Character(strength=14, intelligence=15, dexterity=17, wisdom=19, name='Mr Tough')"
      ]
     },
     "execution_count": 10,
     "metadata": {},
     "output_type": "execute_result"
    }
   ],
   "source": [
    "super_fighter"
   ]
  },
  {
   "cell_type": "markdown",
   "metadata": {},
   "source": [
    "It is equivalent to itself being a specific instance of its own class..."
   ]
  },
  {
   "cell_type": "code",
   "execution_count": 11,
   "metadata": {},
   "outputs": [
    {
     "data": {
      "text/plain": [
       "False"
      ]
     },
     "execution_count": 11,
     "metadata": {},
     "output_type": "execute_result"
    }
   ],
   "source": [
    "super_fighter == Character(16, 17, 11, 18, 'Mr Tough')"
   ]
  },
  {
   "cell_type": "markdown",
   "metadata": {},
   "source": [
    "But this kept to be very particular about the data structure:"
   ]
  },
  {
   "cell_type": "code",
   "execution_count": 12,
   "metadata": {},
   "outputs": [
    {
     "data": {
      "text/plain": [
       "False"
      ]
     },
     "execution_count": 12,
     "metadata": {},
     "output_type": "execute_result"
    }
   ],
   "source": [
    "super_fighter == (16, 17, 11, 18, 'Mr Tough')"
   ]
  },
  {
   "cell_type": "markdown",
   "metadata": {},
   "source": [
    "We can very easily set default values:"
   ]
  },
  {
   "cell_type": "code",
   "execution_count": 13,
   "metadata": {},
   "outputs": [],
   "source": [
    "@dataclass\n",
    "class Character:\n",
    "    strength: int = 12\n",
    "    intelligence: int = 8\n",
    "    dexterity: int = 10\n",
    "    wisdom: int = 5\n",
    "    name: str = \"Typical Grunt\""
   ]
  },
  {
   "cell_type": "code",
   "execution_count": 14,
   "metadata": {},
   "outputs": [
    {
     "data": {
      "text/plain": [
       "Character(strength=12, intelligence=8, dexterity=10, wisdom=5, name='Typical Grunt')"
      ]
     },
     "execution_count": 14,
     "metadata": {},
     "output_type": "execute_result"
    }
   ],
   "source": [
    "red_shirt = Character()\n",
    "red_shirt"
   ]
  },
  {
   "cell_type": "code",
   "execution_count": 15,
   "metadata": {},
   "outputs": [],
   "source": [
    "@dataclass\n",
    "class Character:\n",
    "    strength: int = 12\n",
    "    intelligence: int = 8\n",
    "    dexterity: int = 10\n",
    "    wisdom: int = 5\n",
    "    name: str = \"Typical Grunt\"\n",
    "    def attack(self, roll):\n",
    "        if self.strength + roll > 20:\n",
    "            return \"You won!\"\n",
    "        else:\n",
    "            return \"You lost!\""
   ]
  },
  {
   "cell_type": "code",
   "execution_count": 16,
   "metadata": {},
   "outputs": [],
   "source": [
    "super_fighter = Character(*roll20(4), \"Mr Tough\")"
   ]
  },
  {
   "cell_type": "code",
   "execution_count": 17,
   "metadata": {},
   "outputs": [
    {
     "data": {
      "text/plain": [
       "'You won!'"
      ]
     },
     "execution_count": 17,
     "metadata": {},
     "output_type": "execute_result"
    }
   ],
   "source": [
    "super_fighter.attack(roll20(1))"
   ]
  },
  {
   "cell_type": "markdown",
   "metadata": {},
   "source": [
    "### f-strings\n",
    "\n",
    "We covered, or at least refreshed your memory of, how Python formats strings. Although the percent formatting syntax is still supported:"
   ]
  },
  {
   "cell_type": "code",
   "execution_count": 18,
   "metadata": {},
   "outputs": [
    {
     "name": "stdout",
     "output_type": "stream",
     "text": [
      "My roll was 10\n"
     ]
    }
   ],
   "source": [
    "print(\"My roll was %i\" % roll20(1))"
   ]
  },
  {
   "cell_type": "markdown",
   "metadata": {},
   "source": [
    "This has been largely superceded by the `.format()` string method, which was introduced for better readability and flexibility:"
   ]
  },
  {
   "cell_type": "code",
   "execution_count": 19,
   "metadata": {},
   "outputs": [
    {
     "name": "stdout",
     "output_type": "stream",
     "text": [
      "My roll for Mr Tough was 19\n"
     ]
    }
   ],
   "source": [
    "print(\"My roll for {} was {}\".format(super_fighter.name, roll20(1)[0]))"
   ]
  },
  {
   "cell_type": "markdown",
   "metadata": {},
   "source": [
    "However, as of Python 3.6, there is an _even better_ way of handling strings! This new format is known as an _f-string_. \n",
    "\n",
    "You create an f-string in a similar way you format a raw string: by pre-pending it with a character. \n",
    "\n",
    "This character is an _f_, hence the name:"
   ]
  },
  {
   "cell_type": "code",
   "execution_count": 20,
   "metadata": {},
   "outputs": [],
   "source": [
    "my_cool_f_string = f\"My roll for {super_fighter.name} was {roll20(1)[0]}\""
   ]
  },
  {
   "cell_type": "markdown",
   "metadata": {},
   "source": [
    "So we directly called variables and values in scope!\n",
    "This is mind-bending. Again, such nice syntax. The benefit is that f-strings are also slightly more performant than the other string formatting methods."
   ]
  },
  {
   "cell_type": "code",
   "execution_count": 21,
   "metadata": {},
   "outputs": [
    {
     "name": "stdout",
     "output_type": "stream",
     "text": [
      "My roll for Mr Tough was 5\n"
     ]
    }
   ],
   "source": [
    "print(my_cool_f_string)"
   ]
  },
  {
   "cell_type": "markdown",
   "metadata": {},
   "source": [
    "We can perform in-place manipulation of the variables too. Even better!"
   ]
  },
  {
   "cell_type": "code",
   "execution_count": 22,
   "metadata": {},
   "outputs": [
    {
     "name": "stdout",
     "output_type": "stream",
     "text": [
      "I can easily give Mr Tough a 10x roll, which was 110\n"
     ]
    }
   ],
   "source": [
    "print(f\"I can easily give {super_fighter.name} a 10x roll, which was {10 * roll20(1)[0]}\")"
   ]
  },
  {
   "cell_type": "markdown",
   "metadata": {},
   "source": [
    "You simply _cannot_ love f-strings!"
   ]
  },
  {
   "cell_type": "markdown",
   "metadata": {},
   "source": [
    "### Conclusion\n",
    "\n",
    "Here we covered some design principles that make the Python language what it is, including a discussion on how decisions are made in Python as a community, what constitutes 'Pythonic' code, and what is 'good' Python code, from the perspective of the famous PEP8 guidelines. Finally, we covered three important new design paradigms in the Python language.\n",
    "\n",
    "So, if you do not have to maintain older versions of Python, why would you not use f-strings?"
   ]
  }
 ],
 "metadata": {
  "kernelspec": {
   "display_name": "Python 3",
   "language": "python",
   "name": "python3"
  },
  "language_info": {
   "codemirror_mode": {
    "name": "ipython",
    "version": 3
   },
   "file_extension": ".py",
   "mimetype": "text/x-python",
   "name": "python",
   "nbconvert_exporter": "python",
   "pygments_lexer": "ipython3",
   "version": "3.6.7"
  }
 },
 "nbformat": 4,
 "nbformat_minor": 2
}
