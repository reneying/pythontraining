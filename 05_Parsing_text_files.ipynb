{
 "cells": [
  {
   "cell_type": "markdown",
   "metadata": {},
   "source": [
    "# Parsing text files \n",
    "\n",
    "There is a vast array of formats that are widely used to contain or transport data between applications. Here, we will examine parsing three of the most widely used of these formats in Python, namely:\n",
    "\n",
    " *  JSON\n",
    " *  XML\n",
    " *  HDF5"
   ]
  },
  {
   "cell_type": "markdown",
   "metadata": {},
   "source": [
    "## The json library\n",
    "\n",
    "JSON stands for <b>J</b>ava<b>S</b>cript <b>O</b>bject <b>N</b>otation\n",
    "\n",
    "This is such a widespread format for passing data between servers and clients. As the name implies, it has a basis on structures found in JavaScript, but has found wider application, especially for REST (<b>RE</b>presentational <b>S</b>tate <b>T</b>ransfer) APIs. It has a straight-forward structure; this simplicity has contributed to its popularity.\n",
    "\n",
    "It enabled dynamism within how web-pages access information, allowing structured data parsing for HTML documents.\n",
    "\n",
    "Python has a Standard Library package to interface with JSON structures, called `json`.\n",
    "\n",
    "Here, we will look at the exchange rate for major global currencies, comparing those to the USD. This information, accessed directly from the web via an API, is stored in a JSON file:\n",
    "\n",
    "Source: https://api.exchangeratesapi.io/latest?base=USD\n"
   ]
  },
  {
   "cell_type": "code",
   "execution_count": 1,
   "metadata": {},
   "outputs": [],
   "source": [
    "import os\n",
    "import json\n",
    "import pandas as pd"
   ]
  },
  {
   "cell_type": "markdown",
   "metadata": {},
   "source": [
    "Set your data directory:"
   ]
  },
  {
   "cell_type": "code",
   "execution_count": 2,
   "metadata": {},
   "outputs": [],
   "source": [
    "data_dir = \"/home/ra/host/BH_Analytics/Discover/DataEngineering/data/\""
   ]
  },
  {
   "cell_type": "code",
   "execution_count": 3,
   "metadata": {},
   "outputs": [],
   "source": [
    "json_name = os.path.join(data_dir, \"USD_comparison.json\")"
   ]
  },
  {
   "cell_type": "markdown",
   "metadata": {},
   "source": [
    "Here, we can very easily open the JSON file (with the usual context manager, just to be safe). \n",
    "\n",
    "Note the encoding specification is often necessary:"
   ]
  },
  {
   "cell_type": "code",
   "execution_count": 8,
   "metadata": {},
   "outputs": [],
   "source": [
    "with open(json_name, encoding='utf-8', errors='ignore') as json_file:\n",
    "     usd_data = json.load(json_file, strict=False)"
   ]
  },
  {
   "cell_type": "code",
   "execution_count": null,
   "metadata": {},
   "outputs": [],
   "source": [
    "f = open(json_name, 'r')\n",
    "type(f)"
   ]
  },
  {
   "cell_type": "code",
   "execution_count": 5,
   "metadata": {},
   "outputs": [
    {
     "data": {
      "text/plain": [
       "['{\"base\":\"USD\",\"rates\":{\"BGN\":1.747498213,\"NZD\":1.5268048606,\"ILS\":3.6137419585,\"RUB\":64.5899749821,\"CAD\":1.3465868477,\"USD\":1.0,\"PHP\":52.2596497498,\"CHF\":1.0055396712,\"AUD\":1.4440671909,\"JPY\":109.4085060758,\"TRY\":6.0337741244,\"HKD\":7.8483738385,\"MYR\":4.1885275197,\"HRK\":6.6346497498,\"CZK\":23.0906004289,\"IDR\":14375.0,\"DKK\":6.6734274482,\"NOK\":8.6816476054,\"HUF\":291.815582559,\"GBP\":0.789608649,\"MXN\":19.1026626162,\"THB\":31.8102215868,\"ISK\":123.9278055754,\"ZAR\":14.6081129378,\"BRL\":4.0479807005,\"SGD\":1.3777698356,\"PLN\":3.8376518942,\"INR\":69.6055218013,\"KRW\":1188.2505360972,\"RON\":4.2550929235,\"CNY\":6.9107398142,\"SEK\":9.5483380986,\"EUR\":0.8934953538},\"date\":\"2019-05-28\"}']"
      ]
     },
     "execution_count": 5,
     "metadata": {},
     "output_type": "execute_result"
    }
   ],
   "source": [
    "text = f.readlines()\n",
    "text"
   ]
  },
  {
   "cell_type": "code",
   "execution_count": 6,
   "metadata": {},
   "outputs": [],
   "source": [
    "f.close()"
   ]
  },
  {
   "cell_type": "markdown",
   "metadata": {},
   "source": [
    "Query the data structure:"
   ]
  },
  {
   "cell_type": "code",
   "execution_count": 7,
   "metadata": {},
   "outputs": [
    {
     "data": {
      "text/plain": [
       "<_io.TextIOWrapper name='/home/ra/host/BH_Analytics/Discover/DataEngineering/data/USD_comparison.json' mode='r' encoding='UTF-8'>"
      ]
     },
     "execution_count": 7,
     "metadata": {},
     "output_type": "execute_result"
    }
   ],
   "source": [
    "f"
   ]
  },
  {
   "cell_type": "code",
   "execution_count": 11,
   "metadata": {},
   "outputs": [
    {
     "data": {
      "text/plain": [
       "{'base': 'USD',\n",
       " 'rates': {'BGN': 1.747498213,\n",
       "  'NZD': 1.5268048606,\n",
       "  'ILS': 3.6137419585,\n",
       "  'RUB': 64.5899749821,\n",
       "  'CAD': 1.3465868477,\n",
       "  'USD': 1.0,\n",
       "  'PHP': 52.2596497498,\n",
       "  'CHF': 1.0055396712,\n",
       "  'AUD': 1.4440671909,\n",
       "  'JPY': 109.4085060758,\n",
       "  'TRY': 6.0337741244,\n",
       "  'HKD': 7.8483738385,\n",
       "  'MYR': 4.1885275197,\n",
       "  'HRK': 6.6346497498,\n",
       "  'CZK': 23.0906004289,\n",
       "  'IDR': 14375.0,\n",
       "  'DKK': 6.6734274482,\n",
       "  'NOK': 8.6816476054,\n",
       "  'HUF': 291.815582559,\n",
       "  'GBP': 0.789608649,\n",
       "  'MXN': 19.1026626162,\n",
       "  'THB': 31.8102215868,\n",
       "  'ISK': 123.9278055754,\n",
       "  'ZAR': 14.6081129378,\n",
       "  'BRL': 4.0479807005,\n",
       "  'SGD': 1.3777698356,\n",
       "  'PLN': 3.8376518942,\n",
       "  'INR': 69.6055218013,\n",
       "  'KRW': 1188.2505360972,\n",
       "  'RON': 4.2550929235,\n",
       "  'CNY': 6.9107398142,\n",
       "  'SEK': 9.5483380986,\n",
       "  'EUR': 0.8934953538},\n",
       " 'date': '2019-05-28'}"
      ]
     },
     "execution_count": 11,
     "metadata": {},
     "output_type": "execute_result"
    }
   ],
   "source": [
    "usd_data"
   ]
  },
  {
   "cell_type": "markdown",
   "metadata": {},
   "source": [
    "Or just the keys:"
   ]
  },
  {
   "cell_type": "code",
   "execution_count": 12,
   "metadata": {},
   "outputs": [
    {
     "data": {
      "text/plain": [
       "dict_keys(['base', 'rates', 'date'])"
      ]
     },
     "execution_count": 12,
     "metadata": {},
     "output_type": "execute_result"
    }
   ],
   "source": [
    "usd_data.keys()"
   ]
  },
  {
   "cell_type": "markdown",
   "metadata": {},
   "source": [
    "We can index as with any other Python object:"
   ]
  },
  {
   "cell_type": "code",
   "execution_count": 13,
   "metadata": {},
   "outputs": [
    {
     "data": {
      "text/plain": [
       "'2019-05-28'"
      ]
     },
     "execution_count": 13,
     "metadata": {},
     "output_type": "execute_result"
    }
   ],
   "source": [
    "usd_data[\"date\"]"
   ]
  },
  {
   "cell_type": "markdown",
   "metadata": {},
   "source": [
    "What is the going rate for the `BGN`? What currency _is_ that?"
   ]
  },
  {
   "cell_type": "code",
   "execution_count": 8,
   "metadata": {},
   "outputs": [
    {
     "data": {
      "text/plain": [
       "1.747498213"
      ]
     },
     "execution_count": 8,
     "metadata": {},
     "output_type": "execute_result"
    }
   ],
   "source": [
    "usd_data[\"rates\"][\"BGN\"]"
   ]
  },
  {
   "cell_type": "markdown",
   "metadata": {},
   "source": [
    "These codes aren't all that descriptive on their own.\n",
    "Let's join with some more information"
   ]
  },
  {
   "cell_type": "code",
   "execution_count": 14,
   "metadata": {},
   "outputs": [],
   "source": [
    "curr_codes_file = os.path.join(data_dir, \"XE_ISO4217_CurrencyCodes.csv\")"
   ]
  },
  {
   "cell_type": "markdown",
   "metadata": {},
   "source": [
    "Create a dataframe from these codes:"
   ]
  },
  {
   "cell_type": "code",
   "execution_count": 15,
   "metadata": {},
   "outputs": [],
   "source": [
    "curr_codes_df = pd.read_csv(curr_codes_file)"
   ]
  },
  {
   "cell_type": "markdown",
   "metadata": {},
   "source": [
    "And create another from our JSON data:"
   ]
  },
  {
   "cell_type": "code",
   "execution_count": 16,
   "metadata": {},
   "outputs": [],
   "source": [
    "usd_df = pd.DataFrame({\"code\": [x for x in usd_data['rates'].keys()]})"
   ]
  },
  {
   "cell_type": "code",
   "execution_count": 17,
   "metadata": {},
   "outputs": [],
   "source": [
    "usd_df[\"rate\"] = [usd_data['rates'][x] for x in usd_df[\"code\"]]"
   ]
  },
  {
   "cell_type": "markdown",
   "metadata": {},
   "source": [
    "Perform a left join to get the country code references:"
   ]
  },
  {
   "cell_type": "code",
   "execution_count": 18,
   "metadata": {},
   "outputs": [
    {
     "data": {
      "text/plain": [
       "'/home/ra/host/BH_Analytics/Discover/DataEngineering/data/XE_ISO4217_CurrencyCodes.csv'"
      ]
     },
     "execution_count": 18,
     "metadata": {},
     "output_type": "execute_result"
    }
   ],
   "source": [
    "curr_codes_file"
   ]
  },
  {
   "cell_type": "code",
   "execution_count": 19,
   "metadata": {},
   "outputs": [],
   "source": [
    "%less /home/ra/host/BH_Analytics/Discover/DataEngineering/data/XE_ISO4217_CurrencyCodes.csv"
   ]
  },
  {
   "cell_type": "code",
   "execution_count": 20,
   "metadata": {},
   "outputs": [],
   "source": [
    "usd_df = pd.merge(usd_df, curr_codes_df, left_on=\"code\", right_on=\"Code\", how=\"left\")"
   ]
  },
  {
   "cell_type": "markdown",
   "metadata": {},
   "source": [
    "Print out the countries and their rates, compared to USD"
   ]
  },
  {
   "cell_type": "code",
   "execution_count": 21,
   "metadata": {},
   "outputs": [
    {
     "name": "stdout",
     "output_type": "stream",
     "text": [
      "The Bulgaria Lev is at 1.747498213 USD\n",
      "The New Zealand Dollar is at 1.5268048606 USD\n",
      "The Israel Shekel is at 3.6137419585 USD\n",
      "The Russia Ruble is at 64.5899749821 USD\n",
      "The Canada Dollar is at 1.3465868477 USD\n",
      "The United States Dollar is at 1.0 USD\n",
      "The Philippines Peso is at 52.2596497498 USD\n",
      "The Switzerland Franc is at 1.0055396712 USD\n",
      "The Australia Dollar is at 1.4440671909 USD\n",
      "The Japan Yen is at 109.4085060758 USD\n",
      "The Turkey Lira is at 6.0337741244 USD\n",
      "The Hong Kong Dollar is at 7.8483738385 USD\n",
      "The Malaysia Ringgit is at 4.1885275197 USD\n",
      "The Croatia Kuna is at 6.6346497498 USD\n",
      "The Czech Republic Koruna is at 23.0906004289 USD\n",
      "The Indonesia Rupiah is at 14375.0 USD\n",
      "The Denmark Krone is at 6.6734274482 USD\n",
      "The Norway Krone is at 8.6816476054 USD\n",
      "The Hungary Forint is at 291.815582559 USD\n",
      "The United Kingdom Pound is at 0.789608649 USD\n",
      "The Mexico Peso is at 19.1026626162 USD\n",
      "The Thailand Baht is at 31.8102215868 USD\n",
      "The Iceland Krona is at 123.9278055754 USD\n",
      "The South Africa Rand is at 14.6081129378 USD\n",
      "The Brazil Real is at 4.0479807005 USD\n",
      "The Singapore Dollar is at 1.3777698356 USD\n",
      "The Poland Zloty is at 3.8376518942 USD\n",
      "The India Rupee is at 69.6055218013 USD\n",
      "The Korea (South) Won is at 1188.2505360972 USD\n",
      "The Romania Leu is at 4.2550929235 USD\n",
      "The China Yuan Renminbi is at 6.9107398142 USD\n",
      "The Sweden Krona is at 9.5483380986 USD\n",
      "The Euro Member Countries is at 0.8934953538 USD\n"
     ]
    }
   ],
   "source": [
    "for Idx in usd_df.index.values:\n",
    "    print(f\"The {usd_df.loc[Idx, 'Country Name']} is at {usd_df.loc[Idx, 'rate']} USD\")"
   ]
  },
  {
   "cell_type": "markdown",
   "metadata": {},
   "source": [
    "Or, more succinct -- and performant -- broadcasting:"
   ]
  },
  {
   "cell_type": "code",
   "execution_count": 15,
   "metadata": {},
   "outputs": [
    {
     "name": "stdout",
     "output_type": "stream",
     "text": [
      "0                The Bulgaria Lev is at 1.747498213 USD\n",
      "1         The New Zealand Dollar is at 1.5268048606 USD\n",
      "2              The Israel Shekel is at 3.6137419585 USD\n",
      "3              The Russia Ruble is at 64.5899749821 USD\n",
      "4              The Canada Dollar is at 1.3465868477 USD\n",
      "5                The United States Dollar is at 1.0 USD\n",
      "6          The Philippines Peso is at 52.2596497498 USD\n",
      "7          The Switzerland Franc is at 1.0055396712 USD\n",
      "8           The Australia Dollar is at 1.4440671909 USD\n",
      "9                The Japan Yen is at 109.4085060758 USD\n",
      "10               The Turkey Lira is at 6.0337741244 USD\n",
      "11          The Hong Kong Dollar is at 7.8483738385 USD\n",
      "12          The Malaysia Ringgit is at 4.1885275197 USD\n",
      "13              The Croatia Kuna is at 6.6346497498 USD\n",
      "14    The Czech Republic Koruna is at 23.0906004289 USD\n",
      "15               The Indonesia Rupiah is at 14375.0 USD\n",
      "16             The Denmark Krone is at 6.6734274482 USD\n",
      "17              The Norway Krone is at 8.6816476054 USD\n",
      "18           The Hungary Forint is at 291.815582559 USD\n",
      "19       The United Kingdom Pound is at 0.789608649 USD\n",
      "20              The Mexico Peso is at 19.1026626162 USD\n",
      "21            The Thailand Baht is at 31.8102215868 USD\n",
      "22           The Iceland Krona is at 123.9278055754 USD\n",
      "23        The South Africa Rand is at 14.6081129378 USD\n",
      "24               The Brazil Real is at 4.0479807005 USD\n",
      "25          The Singapore Dollar is at 1.3777698356 USD\n",
      "26              The Poland Zloty is at 3.8376518942 USD\n",
      "27              The India Rupee is at 69.6055218013 USD\n",
      "28      The Korea (South) Won is at 1188.2505360972 USD\n",
      "29               The Romania Leu is at 4.2550929235 USD\n",
      "30       The China Yuan Renminbi is at 6.9107398142 USD\n",
      "31              The Sweden Krona is at 9.5483380986 USD\n",
      "32     The Euro Member Countries is at 0.8934953538 USD\n",
      "dtype: object\n"
     ]
    }
   ],
   "source": [
    "print(\"The \" + usd_df['Country Name'] + \" is at \" + usd_df['rate'].astype('str') + \" USD\")"
   ]
  },
  {
   "cell_type": "markdown",
   "metadata": {},
   "source": [
    "So `BGN` was the Bulgarian Lev!"
   ]
  },
  {
   "cell_type": "markdown",
   "metadata": {},
   "source": [
    "## Parsing XML documents with xml.etree\n",
    "\n",
    "Another popular format for storing structured documents is the e<b>X</b>tended <b>M</b>ark-up <b>L</b>anguage (XML). This looks a lot like the HTML that encodes most static websites. It is capable of nested structures and can be almost human-readable!\n",
    "\n",
    "We will use the `xml.etree` library, although there is also `lxml`.\n",
    "\n",
    "Because these files may also be large, we have additionally zipped it with the `Bzip` utility. Hence we'll need to unzip it with the `bz2` Python library.\n",
    "\n",
    "We'll use the results of a tiny search for gravitational waves from the LIGO project."
   ]
  },
  {
   "cell_type": "code",
   "execution_count": 22,
   "metadata": {},
   "outputs": [],
   "source": [
    "import xml.etree\n",
    "\n",
    "import bz2\n",
    "\n",
    "xml_dir = \"../data\"\n",
    "\n",
    "input_file = bz2.BZ2File(os.path.join(xml_dir, 'search_bands.xml.bz2'), 'rb')"
   ]
  },
  {
   "cell_type": "markdown",
   "metadata": {},
   "source": [
    "The XML document is first parsed into a tree structure, with the `ElementTree` method:"
   ]
  },
  {
   "cell_type": "code",
   "execution_count": 23,
   "metadata": {},
   "outputs": [],
   "source": [
    "import xml.etree.ElementTree as ET\n",
    "tree = ET.parse( input_file )"
   ]
  },
  {
   "cell_type": "markdown",
   "metadata": {},
   "source": [
    "We need a starting point with which to navigate the tree. \n",
    "\n",
    "A common starting point is the root of the tree structure:"
   ]
  },
  {
   "cell_type": "code",
   "execution_count": 24,
   "metadata": {},
   "outputs": [],
   "source": [
    "root = tree.getroot()"
   ]
  },
  {
   "cell_type": "markdown",
   "metadata": {},
   "source": [
    "We'll set up some variables to catch the information stored in the XML:"
   ]
  },
  {
   "cell_type": "code",
   "execution_count": 29,
   "metadata": {},
   "outputs": [],
   "source": [
    "twoF = []\n",
    "freq = []\n",
    "jobId = []\n",
    "num_templates = []"
   ]
  },
  {
   "cell_type": "markdown",
   "metadata": {},
   "source": [
    "Walk through the XML tree for 2F and f0"
   ]
  },
  {
   "cell_type": "code",
   "execution_count": 20,
   "metadata": {},
   "outputs": [],
   "source": [
    "for jobNumber in root.iter('job'):\n",
    "    nodeInfo = root[int(jobNumber.text)].find('loudest_nonvetoed_template')\n",
    "    if nodeInfo.find('twoF') is not None:\n",
    "        twoF.append( float( nodeInfo.find('twoF').text ) )\n",
    "        freq.append( float( nodeInfo.find('freq').text ) )\n",
    "        jobId.append( jobNumber.text )"
   ]
  },
  {
   "cell_type": "code",
   "execution_count": 36,
   "metadata": {},
   "outputs": [
    {
     "data": {
      "text/plain": [
       "'0.0701275049410.0701275049410.070127504941'"
      ]
     },
     "execution_count": 36,
     "metadata": {},
     "output_type": "execute_result"
    }
   ],
   "source": [
    "root[0][0].text"
   ]
  },
  {
   "cell_type": "markdown",
   "metadata": {},
   "source": [
    "Get number of templates in each band"
   ]
  },
  {
   "cell_type": "code",
   "execution_count": 37,
   "metadata": {},
   "outputs": [],
   "source": [
    "for nTempl in root.iter('num_templates'):\n",
    "   num_templates.append( float( nTempl.text ) )"
   ]
  },
  {
   "cell_type": "code",
   "execution_count": 38,
   "metadata": {},
   "outputs": [
    {
     "data": {
      "text/plain": [
       "[919023910.0,\n",
       " 919077732.0,\n",
       " 919027936.0,\n",
       " 919028760.0,\n",
       " 918977341.0,\n",
       " 918977078.0,\n",
       " 919027559.0,\n",
       " 918973907.0,\n",
       " 918919543.0,\n",
       " 918968292.0,\n",
       " 918964322.0,\n",
       " 918959641.0,\n",
       " 918954282.0,\n",
       " 918896528.0,\n",
       " 283795892.0]"
      ]
     },
     "execution_count": 38,
     "metadata": {},
     "output_type": "execute_result"
    }
   ],
   "source": [
    "num_templates"
   ]
  },
  {
   "cell_type": "code",
   "execution_count": 40,
   "metadata": {},
   "outputs": [],
   "source": [
    "# The hallowed function for pretty-printing\n",
    "# From http://effbot.org/zone/element-lib.htm#prettyprint\n",
    "# Note that lxml, an external library, has a pretty-print option\n",
    "# but it breaks for a lot of corner-casees\n",
    "def indent(elem, level=0):\n",
    "    \"\"\"This is a function to make the XML output pretty, with the right level\n",
    "    of indentation. See\n",
    "    http://effbot.org/zone/element-lib.htm#prettyprint\n",
    "    for the original version\"\"\"\n",
    "    i = \"\\n\" + level*\"  \"\n",
    "    if len(elem):\n",
    "        if not elem.text or not elem.text.strip():\n",
    "            elem.text = i + \"  \"\n",
    "        if not elem.tail or not elem.tail.strip():\n",
    "            elem.tail = i\n",
    "        for elem in elem:\n",
    "            indent(elem, level+1)\n",
    "        if not elem.tail or not elem.tail.strip():\n",
    "            elem.tail = i\n",
    "    else:\n",
    "        if level and (not elem.tail or not elem.tail.strip()):\n",
    "            elem.tail = i"
   ]
  },
  {
   "cell_type": "markdown",
   "metadata": {},
   "source": [
    "Apply the indentation:"
   ]
  },
  {
   "cell_type": "code",
   "execution_count": 45,
   "metadata": {},
   "outputs": [],
   "source": [
    "root[0][0].text = \"Mickey Mouse\"\n",
    "root[0][0].set(\"new tag\", \"5\")"
   ]
  },
  {
   "cell_type": "code",
   "execution_count": 46,
   "metadata": {},
   "outputs": [],
   "source": [
    "indent(root)"
   ]
  },
  {
   "cell_type": "markdown",
   "metadata": {},
   "source": [
    "Write out an XML file:"
   ]
  },
  {
   "cell_type": "code",
   "execution_count": 48,
   "metadata": {},
   "outputs": [],
   "source": [
    "#search_bands_xml = ET.ElementTree(root)\n",
    "#search_bands_xml\n",
    "tree.write(\"new_output.xml\", xml_declaration=True, encoding='UTF-8', method='xml')"
   ]
  },
  {
   "cell_type": "code",
   "execution_count": 50,
   "metadata": {},
   "outputs": [],
   "source": [
    "%less new_output.xml"
   ]
  },
  {
   "cell_type": "markdown",
   "metadata": {},
   "source": [
    "## HDF5 data format and the h5py library  "
   ]
  },
  {
   "cell_type": "code",
   "execution_count": null,
   "metadata": {},
   "outputs": [],
   "source": []
  },
  {
   "cell_type": "markdown",
   "metadata": {},
   "source": [
    "## The HDF5 Format\n",
    "\n",
    "A popular data format for representing out of memory data (on disk) in Pandas is the HDF5 format. HDF5 is a data model and format that can store multiple data frames, as well as different data types. This format has been used extensively outside of Python, long before Pandas was written. However, Pandas has adopted it as well and it is a popular format.\n",
    "From the website:\n",
    "\n",
    ">HDF5 is a data model, library, and file format for storing and managing data. It supports an unlimited variety of datatypes, and is designed for flexible and efficient I/O and for high volume and complex data.\n",
    "\n",
    "https://support.hdfgroup.org/HDF5/\n",
    "Pandas has documentation for the HDF5 format under the Data I/O section of the documentation:\n",
    "\n",
    "https://pandas.pydata.org/pandas-docs/stable/io.html\n",
    "\n",
    "In this documentation, Pandas goes through a series of functions that allow basic I/O, along with some subsetting capability. You can review the documentation there, it is quite good. However, since that was developed, there has been another package called `Dask` that does a better job of the same sort of thing. We will go through the Dask package in this lecture set. However, if you find it a bit overwhelming, you could use the more basic Pandas functions detailed in the links above.\n",
    "\n",
    "## Creating an HDF5 data store using Pandas functions\n",
    "You can create tables that are static, that is read-only that do not support querying using this file format like so:\n",
    "\n",
    "\n",
    "First, read in a dataset"
   ]
  },
  {
   "cell_type": "code",
   "execution_count": 27,
   "metadata": {},
   "outputs": [],
   "source": [
    "transactions = pd.read_csv(r'../data/retail_sales/transactions.csv')"
   ]
  },
  {
   "cell_type": "markdown",
   "metadata": {},
   "source": [
    "Establish an HDF file connection (you may need to create the `temp` folder first)"
   ]
  },
  {
   "cell_type": "code",
   "execution_count": 28,
   "metadata": {},
   "outputs": [
    {
     "data": {
      "text/plain": [
       "<class 'pandas.io.pytables.HDFStore'>\n",
       "File path: temp/store.h5"
      ]
     },
     "execution_count": 28,
     "metadata": {},
     "output_type": "execute_result"
    }
   ],
   "source": [
    "! mkdir -p temp\n",
    "store = pd.HDFStore('temp/store.h5')\n",
    "store"
   ]
  },
  {
   "cell_type": "markdown",
   "metadata": {},
   "source": [
    "Write the table as static"
   ]
  },
  {
   "cell_type": "code",
   "execution_count": 29,
   "metadata": {},
   "outputs": [],
   "source": [
    "store['transact'] = transactions"
   ]
  },
  {
   "cell_type": "markdown",
   "metadata": {},
   "source": [
    "Note the transact frame now is part of the store."
   ]
  },
  {
   "cell_type": "code",
   "execution_count": 30,
   "metadata": {},
   "outputs": [
    {
     "data": {
      "text/plain": [
       "<class 'pandas.io.pytables.HDFStore'>\n",
       "File path: temp/store.h5"
      ]
     },
     "execution_count": 30,
     "metadata": {},
     "output_type": "execute_result"
    }
   ],
   "source": [
    "store "
   ]
  },
  {
   "cell_type": "markdown",
   "metadata": {},
   "source": [
    "You can then retrieve items like so:"
   ]
  },
  {
   "cell_type": "code",
   "execution_count": 31,
   "metadata": {},
   "outputs": [
    {
     "data": {
      "text/html": [
       "<div>\n",
       "<style scoped>\n",
       "    .dataframe tbody tr th:only-of-type {\n",
       "        vertical-align: middle;\n",
       "    }\n",
       "\n",
       "    .dataframe tbody tr th {\n",
       "        vertical-align: top;\n",
       "    }\n",
       "\n",
       "    .dataframe thead th {\n",
       "        text-align: right;\n",
       "    }\n",
       "</style>\n",
       "<table border=\"1\" class=\"dataframe\">\n",
       "  <thead>\n",
       "    <tr style=\"text-align: right;\">\n",
       "      <th></th>\n",
       "      <th>InvoiceNo</th>\n",
       "      <th>StockCode</th>\n",
       "      <th>Quantity</th>\n",
       "      <th>InvoiceDate</th>\n",
       "      <th>UnitPrice</th>\n",
       "      <th>CustomerID</th>\n",
       "    </tr>\n",
       "  </thead>\n",
       "  <tbody>\n",
       "    <tr>\n",
       "      <th>0</th>\n",
       "      <td>536365</td>\n",
       "      <td>85123A</td>\n",
       "      <td>6</td>\n",
       "      <td>12/1/2010 8:26</td>\n",
       "      <td>2.55</td>\n",
       "      <td>17850.0</td>\n",
       "    </tr>\n",
       "    <tr>\n",
       "      <th>1</th>\n",
       "      <td>536365</td>\n",
       "      <td>71053</td>\n",
       "      <td>6</td>\n",
       "      <td>12/1/2010 8:26</td>\n",
       "      <td>3.39</td>\n",
       "      <td>17850.0</td>\n",
       "    </tr>\n",
       "    <tr>\n",
       "      <th>2</th>\n",
       "      <td>536365</td>\n",
       "      <td>84406B</td>\n",
       "      <td>8</td>\n",
       "      <td>12/1/2010 8:26</td>\n",
       "      <td>2.75</td>\n",
       "      <td>17850.0</td>\n",
       "    </tr>\n",
       "    <tr>\n",
       "      <th>3</th>\n",
       "      <td>536365</td>\n",
       "      <td>84029G</td>\n",
       "      <td>6</td>\n",
       "      <td>12/1/2010 8:26</td>\n",
       "      <td>3.39</td>\n",
       "      <td>17850.0</td>\n",
       "    </tr>\n",
       "    <tr>\n",
       "      <th>4</th>\n",
       "      <td>536365</td>\n",
       "      <td>84029E</td>\n",
       "      <td>6</td>\n",
       "      <td>12/1/2010 8:26</td>\n",
       "      <td>3.39</td>\n",
       "      <td>17850.0</td>\n",
       "    </tr>\n",
       "  </tbody>\n",
       "</table>\n",
       "</div>"
      ],
      "text/plain": [
       "  InvoiceNo StockCode  Quantity     InvoiceDate  UnitPrice  CustomerID\n",
       "0    536365    85123A         6  12/1/2010 8:26       2.55     17850.0\n",
       "1    536365     71053         6  12/1/2010 8:26       3.39     17850.0\n",
       "2    536365    84406B         8  12/1/2010 8:26       2.75     17850.0\n",
       "3    536365    84029G         6  12/1/2010 8:26       3.39     17850.0\n",
       "4    536365    84029E         6  12/1/2010 8:26       3.39     17850.0"
      ]
     },
     "execution_count": 31,
     "metadata": {},
     "output_type": "execute_result"
    }
   ],
   "source": [
    "transaction2 = store['transact']\n",
    "transaction2.head()"
   ]
  },
  {
   "cell_type": "markdown",
   "metadata": {},
   "source": [
    "Behind the scenes, pandas is leveraging the PyTables library to interact with HDF5 data. Pytables uses some C code and 'Cython' to accomplish fast performance and friendly implementation.\n",
    "\n",
    "Here, the store is acting like a dict and we can store or retrieve data items via their name (key). By using this syntax (`store['name']`), we are using the HDF `put` method which creates a fixed array format. Fixed stores are not appendable once written (although they can be replaced). This format is specified by default when using `put` or `to_hdf` or by `format='fixed'` or `format='f'`\n",
    "\n",
    "## Speed gains\n",
    "\n",
    "Note the difference in speed between retrieving the HDF store and reading in the CSV file. On our system, it took $\\frac{1}{5}$ the time to bring in the HDF5 data."
   ]
  },
  {
   "cell_type": "code",
   "execution_count": 32,
   "metadata": {},
   "outputs": [
    {
     "name": "stdout",
     "output_type": "stream",
     "text": [
      "CPU times: user 336 ms, sys: 60 ms, total: 396 ms\n",
      "Wall time: 593 ms\n"
     ]
    }
   ],
   "source": [
    "get_ipython().run_line_magic('time', \"df2 = pd.read_csv(r'../data/retail_sales/transactions.csv')\")"
   ]
  },
  {
   "cell_type": "code",
   "execution_count": 33,
   "metadata": {},
   "outputs": [
    {
     "name": "stdout",
     "output_type": "stream",
     "text": [
      "CPU times: user 64 ms, sys: 20 ms, total: 84 ms\n",
      "Wall time: 135 ms\n"
     ]
    }
   ],
   "source": [
    "get_ipython().run_line_magic('time', \"df1 = store['transact']\")"
   ]
  },
  {
   "cell_type": "markdown",
   "metadata": {},
   "source": [
    "However, the typical use case for HDF5 involves saving a large amount of data to a single data store (on disk dataframe), so you can later query or add to the data (append).\n",
    "\n",
    "## Appending to the data store\n",
    "Let's show how to add to an existing store of data. First, we will delete the static table:"
   ]
  },
  {
   "cell_type": "code",
   "execution_count": 34,
   "metadata": {},
   "outputs": [],
   "source": [
    "del store['transact']"
   ]
  },
  {
   "cell_type": "markdown",
   "metadata": {},
   "source": [
    "Now we can create a non-static dataframe in the store, using the table format (or 't'). For this table format, delete & query type operations are supported-- tables are specified by `format='table'` or `format='t'` to `append` or `put` or `to_hdf`, or by using the `append` method to create the table.\n",
    "\n",
    "For example:\n",
    "`store.put('tabl1', t1, format='table')`\n",
    "or\n",
    "`store.put('tabl1', t1, format='t')`\n",
    "or\n",
    "`df.to_hdf(format='table')`"
   ]
  },
  {
   "cell_type": "code",
   "execution_count": 35,
   "metadata": {},
   "outputs": [
    {
     "data": {
      "text/plain": [
       "<class 'pandas.io.pytables.HDFStore'>\n",
       "File path: temp/store.h5"
      ]
     },
     "execution_count": 35,
     "metadata": {},
     "output_type": "execute_result"
    }
   ],
   "source": [
    "store"
   ]
  },
  {
   "cell_type": "code",
   "execution_count": 36,
   "metadata": {},
   "outputs": [],
   "source": [
    "t1 = transactions[0:100]\n",
    "t2 = transactions[100:200]"
   ]
  },
  {
   "cell_type": "markdown",
   "metadata": {},
   "source": [
    "Append creates the table, but also appends if exists"
   ]
  },
  {
   "cell_type": "code",
   "execution_count": 37,
   "metadata": {},
   "outputs": [],
   "source": [
    "store.append('transact_all',t1,min_itemsize = 50)"
   ]
  },
  {
   "cell_type": "code",
   "execution_count": 38,
   "metadata": {},
   "outputs": [],
   "source": [
    "store.append('transact_all',t2)"
   ]
  },
  {
   "cell_type": "markdown",
   "metadata": {},
   "source": [
    "Strings are a fixed width in the underlying data store. Therefore, we must decide on the width of the column when writing the table. You can pass an argument when creating the table to establish the minimum length for a given column (or all columns). In the above code I set a width of 50 for all strings. You could alternatively pass a dict of variable names as key and widths as values to set it by column.\n",
    "\n",
    "The data store is not threadsafe, and does not support concurrent reading/writing.\n",
    "A data table in PyTable is defined as a collection of records whose values are stored in fixed-length fields. All records have the same structure and all values in each field have the same data type. We can specify the size of the fields and their datatypes explicitly- but pandas provides a high-level interface that takes care of these aspects for us."
   ]
  },
  {
   "cell_type": "code",
   "execution_count": 39,
   "metadata": {},
   "outputs": [
    {
     "name": "stdout",
     "output_type": "stream",
     "text": [
      "CPU times: user 12 ms, sys: 0 ns, total: 12 ms\n",
      "Wall time: 47.5 ms\n"
     ]
    }
   ],
   "source": [
    "get_ipython().run_line_magic('time', \"df2 = store['transact_all'] ## great performance.\")"
   ]
  },
  {
   "cell_type": "markdown",
   "metadata": {},
   "source": [
    "For more advanced useage, review the excellent Pandas documentation linked above. "
   ]
  },
  {
   "cell_type": "markdown",
   "metadata": {},
   "source": [
    "## Conclusion\n",
    "\n",
    "We covered how to parse three of the most widely used flat-file data formats in the technology sector. This was the JSON format, using the `json` library, XML documents, using `xml.etree`, and HDF5 files using `pandas` (there is also h5py). "
   ]
  }
 ],
 "metadata": {
  "kernelspec": {
   "display_name": "Python 3",
   "language": "python",
   "name": "python3"
  },
  "language_info": {
   "codemirror_mode": {
    "name": "ipython",
    "version": 3
   },
   "file_extension": ".py",
   "mimetype": "text/x-python",
   "name": "python",
   "nbconvert_exporter": "python",
   "pygments_lexer": "ipython3",
   "version": "3.7.3"
  }
 },
 "nbformat": 4,
 "nbformat_minor": 2
}
