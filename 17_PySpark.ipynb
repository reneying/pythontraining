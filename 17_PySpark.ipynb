{
 "cells": [
  {
   "cell_type": "markdown",
   "metadata": {},
   "source": [
    "# Introduction to Spark and PySpark"
   ]
  },
  {
   "cell_type": "markdown",
   "metadata": {},
   "source": [
    "*Author: Ra Inta, written for BH Analytics*\n",
    "\n",
    "*Copyright 2017-2019, BH Analytics, LLC*"
   ]
  },
  {
   "cell_type": "markdown",
   "metadata": {},
   "source": [
    "## Overview\n",
    "\n",
    "The purpose of this lecture is to gain some grounding in the Spark environment, and obtain conceptual understanding of distributed computing models in general. This will be performed via the Spark API to Python, PySpark.  \n",
    "   \n",
    "In particular, we will cover:\n",
    " *  Conceptual models of Spark and the RDD distributed compute model\n",
    " *  Initiating Spark instances on a cluster\n",
    " *  Transformations, actions and where Spark performs lazy evaluation\n",
    " *  How to create, query and manipulate Spark SQL DataFrames\n",
    " *  How to persist Spark objects to improve performance\n",
    " *  Type conversion and filtering of Spark SQL DataFrames\n",
    " *  Exploratory Data Analysis (EDA) on large datasets using Spark\n",
    " *  User-defined functions for customized work-flows\n",
    " *  How to perform machine learning within Spark\n",
    "\n",
    "Spark is a popular framework for good reason, being one of the most widely applied Big Data frameworks."
   ]
  },
  {
   "cell_type": "code",
   "execution_count": 1,
   "metadata": {},
   "outputs": [],
   "source": [
    "import numpy as np\n",
    "import pandas as pd\n",
    "import dask\n",
    "import pyspark\n",
    "import matplotlib.pyplot as plt"
   ]
  },
  {
   "cell_type": "code",
   "execution_count": 2,
   "metadata": {},
   "outputs": [],
   "source": [
    "%config InteractiveShell.ast_node_interactivity = 'all'"
   ]
  },
  {
   "cell_type": "markdown",
   "metadata": {},
   "source": [
    "## PySpark\n",
    "\n",
    "PySpark gives us an interface into using a Spark clustered computing environment from Python.\n",
    "\n",
    "For the demonstrations below we will use a local Spark installation, i.e. installed on a single machine. The scope of installing Spark is beyond this tutorial, since its normal use case will be on a distributed cluster. Here, we want to focus on core syntax of interacting with Spark data."
   ]
  },
  {
   "cell_type": "markdown",
   "metadata": {},
   "source": [
    "## Spark Organization\n",
    "\n",
    "The Spark API is organized around several sub-packages and classes. The main ones we will mention are:\n",
    "\n",
    "- `SparkContext` and `SparkSession`\n",
    "- RDD / DataFrame - our data containers\n",
    "- `pyspark.sql` - for querying Spark data sources\n",
    "- `pyspark.ml` and `pyspark.mllib` - for machine learning on Spark sources\n"
   ]
  },
  {
   "cell_type": "markdown",
   "metadata": {},
   "source": [
    "## PySpark Up and Running\n",
    "\n",
    "Once PySpark is installed, calling PySpark from a terminal or shell results in output like the following:\n",
    "\n",
    "```\n",
    "Python 3.6.8 |Anaconda custom (64-bit)| (default, Dec 29 2018, 19:04:46)\n",
    "[GCC 4.2.1 Compatible Clang 4.0.1 (tags/RELEASE_401/final)] on darwin\n",
    "Type \"help\", \"copyright\", \"credits\" or \"license\" for more information.\n",
    "19/04/28 16:29:47 WARN NativeCodeLoader: Unable to load native-hadoop library for your platform...using builtin-java classes where applicable\n",
    "Setting default log level to \"WARN\".\n",
    "To adjust logging level use sc.setLogLevel(newLevel). For SparkR, use setLogLevel(newLevel).\n",
    "Welcome to\n",
    "      ____              __\n",
    "     / __/__  ___ _____/ /__\n",
    "    _\\ \\/ _ \\/ _ `/ __/  '_/\n",
    "   /__ / .__/\\_,_/_/ /_/\\_\\   version 2.4.0\n",
    "      /_/\n",
    "\n",
    "Using Python version 3.6.8 (default, Dec 29 2018 19:04:46)\n",
    "SparkSession available as 'spark'.\n",
    "```"
   ]
  },
  {
   "cell_type": "markdown",
   "metadata": {},
   "source": [
    "## Spark Session and Context\n",
    "\n",
    "When we spin up a session of a Spark cluster, we generate a sparkSession object that maintains information about our connection with the cluster.\n",
    "\n",
    "A Spark application contains several components that govern how the cluster accomplishes its jobs. These components are the *Driver,* the *Master,* the *Cluster Manager,* and the *Executors(s)* which run on *Worker* nodes. All of these run inside of a Java virtual machine (JVM.) \n",
    "\n",
    "The *Driver* creates a sparkSession object, which itself includes the sparkContext object, as well as the SQLContext and HiveContext objects.\n",
    "\n",
    "The sparkContext object also represents a connection to the remote or local spark cluster, and was the main entry point for earlier versions of Spark. \n",
    "\n",
    "If we ask for the sparkContext object (as below), we get a basic report about the session, including a link to a web app interface displaying up-to-date resource allocation (`Spark UI`, usually at port 4040)."
   ]
  },
  {
   "cell_type": "code",
   "execution_count": 3,
   "metadata": {},
   "outputs": [],
   "source": [
    "from pyspark.sql import SparkSession\n",
    "spark = SparkSession.builder.appName('demo').getOrCreate()"
   ]
  },
  {
   "cell_type": "code",
   "execution_count": 4,
   "metadata": {},
   "outputs": [],
   "source": [
    "sc = spark.sparkContext"
   ]
  },
  {
   "cell_type": "code",
   "execution_count": 5,
   "metadata": {},
   "outputs": [
    {
     "data": {
      "text/html": [
       "\n",
       "        <div>\n",
       "            <p><b>SparkContext</b></p>\n",
       "\n",
       "            <p><a href=\"http://10.0.2.15:4040\">Spark UI</a></p>\n",
       "\n",
       "            <dl>\n",
       "              <dt>Version</dt>\n",
       "                <dd><code>v2.4.0</code></dd>\n",
       "              <dt>Master</dt>\n",
       "                <dd><code>local[*]</code></dd>\n",
       "              <dt>AppName</dt>\n",
       "                <dd><code>demo</code></dd>\n",
       "            </dl>\n",
       "        </div>\n",
       "        "
      ],
      "text/plain": [
       "<SparkContext master=local[*] appName=demo>"
      ]
     },
     "execution_count": 5,
     "metadata": {},
     "output_type": "execute_result"
    }
   ],
   "source": [
    "sc"
   ]
  },
  {
   "cell_type": "markdown",
   "metadata": {},
   "source": [
    "Note the URL for the `Spark UI` resource monitor.\n",
    "\n",
    "At the end of every Spark Session, we should terminate the Spark engine (although don't do it yet!):"
   ]
  },
  {
   "cell_type": "code",
   "execution_count": 6,
   "metadata": {},
   "outputs": [],
   "source": [
    "#sc.stop()  "
   ]
  },
  {
   "cell_type": "markdown",
   "metadata": {},
   "source": [
    "## Driver\n",
    "\n",
    "The role of the *Driver* is to plan the application. It translates **transformations** (operations that manipulate data) and **actions** (operations that request output) and convert these into **graphs** (technically, \"Directed Acyclic Graphs\"; DAGs) that represent steps of the computation. These are conceptually similar to the *task graphs* of **dask.**"
   ]
  },
  {
   "cell_type": "markdown",
   "metadata": {},
   "source": [
    "## Loading data into a Spark environment\n",
    "\n",
    "Let's load some data into the Spark environment and examine it."
   ]
  },
  {
   "cell_type": "code",
   "execution_count": 7,
   "metadata": {},
   "outputs": [
    {
     "data": {
      "text/plain": [
       "'/home/ra/host/BH_Analytics/manufacturing/notebooks_drafts'"
      ]
     },
     "execution_count": 7,
     "metadata": {},
     "output_type": "execute_result"
    }
   ],
   "source": [
    "%pwd"
   ]
  },
  {
   "cell_type": "markdown",
   "metadata": {},
   "source": [
    "There's a `README.txt` for some CNC tooling data we'll use later. Let's open it. "
   ]
  },
  {
   "cell_type": "code",
   "execution_count": 8,
   "metadata": {},
   "outputs": [
    {
     "data": {
      "text/plain": [
       "97"
      ]
     },
     "execution_count": 8,
     "metadata": {},
     "output_type": "execute_result"
    }
   ],
   "source": [
    "cnc_readme = spark.read.text('data/manufacturing/CNC_Tool_Wear/README.txt')\n",
    "cnc_readme.count()"
   ]
  },
  {
   "cell_type": "code",
   "execution_count": 9,
   "metadata": {},
   "outputs": [
    {
     "data": {
      "text/plain": [
       "Row(value='CNC MILLING DATASET - UNIVERSITY OF MICHIGAN SMART LAB')"
      ]
     },
     "execution_count": 9,
     "metadata": {},
     "output_type": "execute_result"
    }
   ],
   "source": [
    "cnc_readme.first()"
   ]
  },
  {
   "cell_type": "code",
   "execution_count": 10,
   "metadata": {},
   "outputs": [
    {
     "data": {
      "text/plain": [
       "[Row(value='CNC MILLING DATASET - UNIVERSITY OF MICHIGAN SMART LAB'),\n",
       " Row(value=''),\n",
       " Row(value='April 2018')]"
      ]
     },
     "execution_count": 10,
     "metadata": {},
     "output_type": "execute_result"
    }
   ],
   "source": [
    "cnc_readme.head(3)"
   ]
  },
  {
   "cell_type": "code",
   "execution_count": 11,
   "metadata": {},
   "outputs": [
    {
     "data": {
      "text/plain": [
       "['value']"
      ]
     },
     "execution_count": 11,
     "metadata": {},
     "output_type": "execute_result"
    }
   ],
   "source": [
    "cnc_readme.columns"
   ]
  },
  {
   "cell_type": "code",
   "execution_count": 12,
   "metadata": {},
   "outputs": [
    {
     "data": {
      "text/html": [
       "<div>\n",
       "<style scoped>\n",
       "    .dataframe tbody tr th:only-of-type {\n",
       "        vertical-align: middle;\n",
       "    }\n",
       "\n",
       "    .dataframe tbody tr th {\n",
       "        vertical-align: top;\n",
       "    }\n",
       "\n",
       "    .dataframe thead th {\n",
       "        text-align: right;\n",
       "    }\n",
       "</style>\n",
       "<table border=\"1\" class=\"dataframe\">\n",
       "  <thead>\n",
       "    <tr style=\"text-align: right;\">\n",
       "      <th></th>\n",
       "      <th>value</th>\n",
       "    </tr>\n",
       "  </thead>\n",
       "  <tbody>\n",
       "    <tr>\n",
       "      <th>0</th>\n",
       "      <td>CNC MILLING DATASET - UNIVERSITY OF MICHIGAN S...</td>\n",
       "    </tr>\n",
       "    <tr>\n",
       "      <th>1</th>\n",
       "      <td></td>\n",
       "    </tr>\n",
       "    <tr>\n",
       "      <th>2</th>\n",
       "      <td>April 2018</td>\n",
       "    </tr>\n",
       "    <tr>\n",
       "      <th>3</th>\n",
       "      <td></td>\n",
       "    </tr>\n",
       "    <tr>\n",
       "      <th>4</th>\n",
       "      <td>A series of machining experiments were run on ...</td>\n",
       "    </tr>\n",
       "  </tbody>\n",
       "</table>\n",
       "</div>"
      ],
      "text/plain": [
       "                                               value\n",
       "0  CNC MILLING DATASET - UNIVERSITY OF MICHIGAN S...\n",
       "1                                                   \n",
       "2                                         April 2018\n",
       "3                                                   \n",
       "4  A series of machining experiments were run on ..."
      ]
     },
     "execution_count": 12,
     "metadata": {},
     "output_type": "execute_result"
    }
   ],
   "source": [
    "cnc_readme.toPandas().head()"
   ]
  },
  {
   "cell_type": "code",
   "execution_count": 13,
   "metadata": {},
   "outputs": [
    {
     "data": {
      "text/plain": [
       "pyspark.sql.dataframe.DataFrame"
      ]
     },
     "execution_count": 13,
     "metadata": {},
     "output_type": "execute_result"
    }
   ],
   "source": [
    "type(cnc_readme)"
   ]
  },
  {
   "cell_type": "markdown",
   "metadata": {},
   "source": [
    "## RDD Resilient Distributed Dataset\n",
    "\n",
    "Here, we've created a **Resilient Distributed Dataset (RDD)** from a text file. An RDD is the core data object in Spark. \n",
    "\n",
    "- Resilient - the dataset is robust to losses of nodes\n",
    "- Distributed - divided into one or several partitions and distributed as in-memory objects across Worker nodes. \n",
    "- Dataset - consists of records.\n",
    "\n",
    "Furthermore, RDDs are:\n",
    "\n",
    "- immutable. They cannot be updated, only transformed into new RDDs\n"
   ]
  },
  {
   "cell_type": "markdown",
   "metadata": {},
   "source": [
    "## DataFrames\n",
    "\n",
    "From Spark 2.0, we can interact with Spark data objects as DataFrames, which gives a familiarity to those coming to Spark from pandas and other analytic workflows. We'll concentrate on the modern DataFrame syntax in this notebook.\n",
    "\n",
    "Functionally, a Spark SQL DataFrame is similar to a pandas DataFrame (which it is closely modelled after). You can easily create a Spark DataFrame from a pandas DataFrame:"
   ]
  },
  {
   "cell_type": "code",
   "execution_count": 14,
   "metadata": {},
   "outputs": [
    {
     "data": {
      "text/plain": [
       "[Row(A=0.0, B=1.0, C=2.0, D=3.0, E=4.0),\n",
       " Row(A=1.0, B=2.0, C=3.0, D=4.0, E=5.0),\n",
       " Row(A=2.0, B=3.0, C=4.0, D=5.0, E=6.0),\n",
       " Row(A=3.0, B=4.0, C=5.0, D=6.0, E=7.0),\n",
       " Row(A=4.0, B=5.0, C=6.0, D=7.0, E=8.0)]"
      ]
     },
     "execution_count": 14,
     "metadata": {},
     "output_type": "execute_result"
    },
    {
     "data": {
      "text/plain": [
       "['A', 'B', 'C', 'D', 'E']"
      ]
     },
     "execution_count": 14,
     "metadata": {},
     "output_type": "execute_result"
    },
    {
     "data": {
      "text/plain": [
       "pyspark.sql.dataframe.DataFrame"
      ]
     },
     "execution_count": 14,
     "metadata": {},
     "output_type": "execute_result"
    }
   ],
   "source": [
    "n_cols = 5\n",
    "n_rows = 10\n",
    "\n",
    "pandas_df = pd.DataFrame(\n",
    "    {chr(x + 65): range(x, x + n_rows) for x in range(n_cols)},  \n",
    "                   dtype=np.float64) \n",
    "\n",
    "spark_df = spark.createDataFrame(pandas_df)\n",
    "\n",
    "spark_df.head(5)\n",
    "spark_df.columns\n",
    "\n",
    "type(spark_df)"
   ]
  },
  {
   "cell_type": "markdown",
   "metadata": {},
   "source": [
    "However, generation of Spark SQL DataFrames are not as flexible as their pandas counterparts, partly because you have to specify the schema in advance (which was inferred, in the case of importing the pandas DataFrame above). This strictness is a result of the distributed nature of Spark objects in general.\n",
    "\n",
    "The schema is specified as a list argument in `.createDataFrame`:"
   ]
  },
  {
   "cell_type": "code",
   "execution_count": 15,
   "metadata": {},
   "outputs": [
    {
     "data": {
      "text/plain": [
       "[Row(A=0, B=1, C=2, D=3, E=4),\n",
       " Row(A=1, B=2, C=3, D=4, E=5),\n",
       " Row(A=2, B=3, C=4, D=5, E=6)]"
      ]
     },
     "execution_count": 15,
     "metadata": {},
     "output_type": "execute_result"
    }
   ],
   "source": [
    "num_list = list( tuple( range(x, x + n_cols) ) for x in range(n_rows) )\n",
    "schema_list = [chr(x+65) for x in range(n_cols)]  # Lazy way of writing out A-E\n",
    "spark_df2 = spark.createDataFrame(num_list, schema_list) \n",
    "\n",
    "spark_df2.head(3)"
   ]
  },
  {
   "cell_type": "markdown",
   "metadata": {},
   "source": [
    "## Other ways to create DataFrames\n",
    "\n",
    "We can create DataFrames via several methods and sources, for instance: `wholeTextFiles`, `jdbc`, and `json.` Here, we'll read data in from a `CSV` file:"
   ]
  },
  {
   "cell_type": "code",
   "execution_count": 16,
   "metadata": {},
   "outputs": [
    {
     "data": {
      "text/plain": [
       "pyspark.sql.dataframe.DataFrame"
      ]
     },
     "execution_count": 16,
     "metadata": {},
     "output_type": "execute_result"
    }
   ],
   "source": [
    "cnc_data = spark.read.csv('../data/manufacturing/CNC_Tool_Wear/cnc_experiments_all.csv', \n",
    "                          header=True, inferSchema=True)\n",
    "type(cnc_data)"
   ]
  },
  {
   "cell_type": "markdown",
   "metadata": {},
   "source": [
    "We can save this DataFrame to Parquet format:"
   ]
  },
  {
   "cell_type": "code",
   "execution_count": 17,
   "metadata": {},
   "outputs": [],
   "source": [
    "cnc_data.write.parquet('../data/cnc_data.parquet')"
   ]
  },
  {
   "cell_type": "code",
   "execution_count": 18,
   "metadata": {},
   "outputs": [
    {
     "data": {
      "text/plain": [
       "pyspark.sql.dataframe.DataFrame"
      ]
     },
     "execution_count": 18,
     "metadata": {},
     "output_type": "execute_result"
    }
   ],
   "source": [
    "cnc_data_dta = spark.read.parquet(\"../data/cnc_data.parquet\")\n",
    "type(cnc_data_dta)"
   ]
  },
  {
   "cell_type": "markdown",
   "metadata": {},
   "source": [
    "Because the DataFrame is distributed, obtaining its shape may be an expensive operation, compared to its pandas analog:"
   ]
  },
  {
   "cell_type": "code",
   "execution_count": 17,
   "metadata": {},
   "outputs": [
    {
     "name": "stdout",
     "output_type": "stream",
     "text": [
      "n_rows: 25286, n_col: 54\n"
     ]
    }
   ],
   "source": [
    "print(\"n_rows: {}, n_col: {}\".format(cnc_data.count(), len(cnc_data.columns)))"
   ]
  },
  {
   "cell_type": "markdown",
   "metadata": {},
   "source": [
    "Note the use of `.count` to get the rows, which are likely to be distributed, while the `.columns` are not.\n",
    "\n",
    "\n",
    "There are a lot of columns. Let's select a few key ones, using the `.select` method:"
   ]
  },
  {
   "cell_type": "code",
   "execution_count": 18,
   "metadata": {},
   "outputs": [],
   "source": [
    "col_names = cnc_data.columns[0:2] + cnc_data.columns[:-4:-1]\n",
    "cnc_data_sub = cnc_data.select(col_names)"
   ]
  },
  {
   "cell_type": "markdown",
   "metadata": {},
   "source": [
    "We can then query the schema using `.printSchema`:"
   ]
  },
  {
   "cell_type": "code",
   "execution_count": 19,
   "metadata": {},
   "outputs": [
    {
     "name": "stdout",
     "output_type": "stream",
     "text": [
      "root\n",
      " |-- X1_ActualPosition: double (nullable = true)\n",
      " |-- X1_ActualVelocity: double (nullable = true)\n",
      " |-- passed_visual_inspection: string (nullable = true)\n",
      " |-- machining_finalized: string (nullable = true)\n",
      " |-- tool_condition: string (nullable = true)\n",
      "\n"
     ]
    }
   ],
   "source": [
    "cnc_data_sub.printSchema()"
   ]
  },
  {
   "cell_type": "markdown",
   "metadata": {},
   "source": [
    "## Transformations, Actions, Lazy Evaluation\n",
    "\n",
    "Transformations (such as the `.select` above) are _evaluated lazily_. Namely:\n",
    "\n",
    "- Transformations perform operations against an RDD/DataFrame and result in a corresponding new object. `map,` `filter` and `select` are common transformations.\n",
    "\n",
    "- Actions return values or data. `reduce,` `collect,` `count,` `show,` and `save` are common actions.\n",
    "\n",
    "- Lazy evaluation is the principle of deferring processing until an action is called. \n",
    "\n",
    "In other words, execution is only performed when necessary, such as triggered by an action, such as `.show`. However, such actions are required to gather data from the distributed nodes:"
   ]
  },
  {
   "cell_type": "code",
   "execution_count": 20,
   "metadata": {},
   "outputs": [
    {
     "name": "stdout",
     "output_type": "stream",
     "text": [
      "+-------+------------------+--------------------+------------------------+-------------------+--------------+\n",
      "|summary| X1_ActualPosition|   X1_ActualVelocity|passed_visual_inspection|machining_finalized|tool_condition|\n",
      "+-------+------------------+--------------------+------------------------+-------------------+--------------+\n",
      "|  count|             25286|               25286|                   23125|              25286|         25286|\n",
      "|   mean|159.05204460966542|-0.28865716206596675|                    null|               null|          null|\n",
      "| stddev|19.330872672882187|   5.658260347957942|                    null|               null|          null|\n",
      "|    min|             141.0|               -20.4|                      no|                 no|        unworn|\n",
      "|    25%|             145.0|               -2.05|                    null|               null|          null|\n",
      "|    50%|             153.0|                 0.0|                    null|               null|          null|\n",
      "|    75%|             162.0|                 0.2|                    null|               null|          null|\n",
      "|    max|             198.0|                50.7|                     yes|                yes|          worn|\n",
      "+-------+------------------+--------------------+------------------------+-------------------+--------------+\n",
      "\n"
     ]
    }
   ],
   "source": [
    "cnc_data_sub.summary().show()"
   ]
  },
  {
   "cell_type": "markdown",
   "metadata": {},
   "source": [
    "We can perform transformations between columns using `.withColumn` (here we use the physical relationship $v = \\frac{\\Delta x}{\\Delta t}$): "
   ]
  },
  {
   "cell_type": "code",
   "execution_count": 21,
   "metadata": {},
   "outputs": [
    {
     "name": "stdout",
     "output_type": "stream",
     "text": [
      "+-----------------+-----------------+------------------------+-------------------+--------------+-------------------+\n",
      "|X1_ActualPosition|X1_ActualVelocity|passed_visual_inspection|machining_finalized|tool_condition|           duration|\n",
      "+-----------------+-----------------+------------------------+-------------------+--------------+-------------------+\n",
      "|            198.0|              0.0|                     yes|                yes|        unworn|               null|\n",
      "|            198.0|            -10.8|                     yes|                yes|        unworn|-18.333333333333332|\n",
      "|            196.0|            -17.8|                     yes|                yes|        unworn| -11.01123595505618|\n",
      "|            194.0|            -18.0|                     yes|                yes|        unworn|-10.777777777777779|\n",
      "|            193.0|            -17.9|                     yes|                yes|        unworn|-10.782122905027935|\n",
      "+-----------------+-----------------+------------------------+-------------------+--------------+-------------------+\n",
      "only showing top 5 rows\n",
      "\n"
     ]
    }
   ],
   "source": [
    "cnc_data_sub\\\n",
    ".withColumn(\"duration\", cnc_data_sub[\"X1_ActualPosition\"]/cnc_data_sub[\"X1_ActualVelocity\"])\\\n",
    ".show(5)"
   ]
  },
  {
   "cell_type": "markdown",
   "metadata": {},
   "source": [
    "## Persistence\n",
    "\n",
    "RDDs and DataFrames exist primarily in memory on Executors. They are temporary objects that exist only when needed, when they are transformed into new objects, the old are removed permanently. \n",
    "\n",
    "If an RDD/DataFrame is used for more than one transformation, this might be costly (since it has to be evaluated from scratch each time.) In that case, the object can be `persisted.`"
   ]
  },
  {
   "cell_type": "code",
   "execution_count": 22,
   "metadata": {},
   "outputs": [
    {
     "data": {
      "text/plain": [
       "DataFrame[X1_ActualPosition: double, X1_ActualVelocity: double, passed_visual_inspection: string, machining_finalized: string, tool_condition: string]"
      ]
     },
     "execution_count": 22,
     "metadata": {},
     "output_type": "execute_result"
    }
   ],
   "source": [
    "cnc_data_sub.persist()"
   ]
  },
  {
   "cell_type": "markdown",
   "metadata": {},
   "source": [
    "With `.persist` you can specify the storage level (disk vs memory). The default is a judicious combination (`MEMORY_AND_DISK`). If the RDD doesn't fit in memory, store the partitions that don't fit disk, and read them as needed.  "
   ]
  },
  {
   "cell_type": "markdown",
   "metadata": {},
   "source": [
    "## Transformations\n",
    "\n",
    "Core *transformations* include\n",
    "\n",
    "- map - evaluates a function for each element (like a numpy uFunc)\n",
    "- flatmap - evaluates a function, but removes a level of nesting\n",
    "- filter - evaluates a boolean comparison against each element\n",
    "- distinct - returns a new RDD with unique elements\n",
    "- select - returns a sub-set of columns \n",
    "- groupBy and sortBy"
   ]
  },
  {
   "cell_type": "markdown",
   "metadata": {},
   "source": [
    "## Actions\n",
    "\n",
    "Core *actions* include\n",
    "\n",
    "- count - counts elements\n",
    "- collect - returns elements in the RDD to the Driver\n",
    "- take - returns the first n elements (not necessarily ordered)\n",
    "- top - returns the top n elements (ordered and returned in descending order)\n",
    "- first\n",
    "- reduce\n",
    "- fold\n",
    "- foreach"
   ]
  },
  {
   "cell_type": "markdown",
   "metadata": {},
   "source": [
    "## Data management\n",
    "\n",
    "We can query the data types by examining the schema of the RDD/DataFrame, with `.printSchema` as we did above: "
   ]
  },
  {
   "cell_type": "code",
   "execution_count": 23,
   "metadata": {},
   "outputs": [
    {
     "name": "stdout",
     "output_type": "stream",
     "text": [
      "root\n",
      " |-- X1_ActualPosition: double (nullable = true)\n",
      " |-- X1_ActualVelocity: double (nullable = true)\n",
      " |-- passed_visual_inspection: string (nullable = true)\n",
      " |-- machining_finalized: string (nullable = true)\n",
      " |-- tool_condition: string (nullable = true)\n",
      "\n"
     ]
    }
   ],
   "source": [
    "cnc_data_sub.printSchema()"
   ]
  },
  {
   "cell_type": "markdown",
   "metadata": {},
   "source": [
    "We can also specifically examine the data types with `.dtypes`:"
   ]
  },
  {
   "cell_type": "code",
   "execution_count": 24,
   "metadata": {},
   "outputs": [
    {
     "data": {
      "text/plain": [
       "[('X1_ActualPosition', 'double'),\n",
       " ('X1_ActualVelocity', 'double'),\n",
       " ('passed_visual_inspection', 'string'),\n",
       " ('machining_finalized', 'string'),\n",
       " ('tool_condition', 'string')]"
      ]
     },
     "execution_count": 24,
     "metadata": {},
     "output_type": "execute_result"
    }
   ],
   "source": [
    "cnc_data_sub.dtypes"
   ]
  },
  {
   "cell_type": "markdown",
   "metadata": {},
   "source": [
    "## Converting column types\n",
    "\n",
    "To convert a column type, we can use `cast.`: "
   ]
  },
  {
   "cell_type": "code",
   "execution_count": 25,
   "metadata": {},
   "outputs": [
    {
     "data": {
      "text/plain": [
       "Column<b'CAST(X1_ActualVelocity AS INT)'>"
      ]
     },
     "execution_count": 25,
     "metadata": {},
     "output_type": "execute_result"
    },
    {
     "data": {
      "text/plain": [
       "[('X1_ActualPosition', 'double'),\n",
       " ('X1_ActualVelocity', 'double'),\n",
       " ('passed_visual_inspection', 'string'),\n",
       " ('machining_finalized', 'string'),\n",
       " ('tool_condition', 'string')]"
      ]
     },
     "execution_count": 25,
     "metadata": {},
     "output_type": "execute_result"
    }
   ],
   "source": [
    "cnc_data_sub[\"X1_ActualVelocity\"].cast(\"int\")\n",
    "cnc_data_sub.dtypes  # still the original"
   ]
  },
  {
   "cell_type": "markdown",
   "metadata": {},
   "source": [
    "However recall that RDDs are immutable. Hence, if we wish to transform only one column, we need to join that new column back to the original and return a new RDD. `withColumn` will return a new data frame back with an added column, in this case a transformed column:"
   ]
  },
  {
   "cell_type": "code",
   "execution_count": 26,
   "metadata": {},
   "outputs": [
    {
     "name": "stdout",
     "output_type": "stream",
     "text": [
      "+-----------------+-----------------+------------------------+-------------------+--------------+----------------+\n",
      "|X1_ActualPosition|X1_ActualVelocity|passed_visual_inspection|machining_finalized|tool_condition|velocity_10x_int|\n",
      "+-----------------+-----------------+------------------------+-------------------+--------------+----------------+\n",
      "|            198.0|              0.0|                     yes|                yes|        unworn|               0|\n",
      "|            198.0|            -10.8|                     yes|                yes|        unworn|            -100|\n",
      "|            196.0|            -17.8|                     yes|                yes|        unworn|            -170|\n",
      "|            194.0|            -18.0|                     yes|                yes|        unworn|            -180|\n",
      "|            193.0|            -17.9|                     yes|                yes|        unworn|            -170|\n",
      "+-----------------+-----------------+------------------------+-------------------+--------------+----------------+\n",
      "only showing top 5 rows\n",
      "\n"
     ]
    }
   ],
   "source": [
    "cnc_data_sub2 = cnc_data_sub\\\n",
    "    .withColumn(\"velocity_10x_int\", 10*cnc_data_sub[\"X1_ActualVelocity\"]\\\n",
    "    .cast(\"int\"))\\\n",
    "    .show(5)"
   ]
  },
  {
   "cell_type": "markdown",
   "metadata": {},
   "source": [
    "## Using transformations and actions for Exploratory Data Analysis (EDA)"
   ]
  },
  {
   "cell_type": "markdown",
   "metadata": {},
   "source": [
    "## Summary statistics\n",
    "\n",
    "We can retrieve summary statistics with `describe`:"
   ]
  },
  {
   "cell_type": "code",
   "execution_count": 27,
   "metadata": {},
   "outputs": [
    {
     "name": "stdout",
     "output_type": "stream",
     "text": [
      "+-------+------------------+--------------------+------------------------+-------------------+--------------+\n",
      "|summary| X1_ActualPosition|   X1_ActualVelocity|passed_visual_inspection|machining_finalized|tool_condition|\n",
      "+-------+------------------+--------------------+------------------------+-------------------+--------------+\n",
      "|  count|             25286|               25286|                   23125|              25286|         25286|\n",
      "|   mean|159.05204460966542|-0.28865716206596675|                    null|               null|          null|\n",
      "| stddev|19.330872672882187|   5.658260347957942|                    null|               null|          null|\n",
      "|    min|             141.0|               -20.4|                      no|                 no|        unworn|\n",
      "|    max|             198.0|                50.7|                     yes|                yes|          worn|\n",
      "+-------+------------------+--------------------+------------------------+-------------------+--------------+\n",
      "\n"
     ]
    }
   ],
   "source": [
    "cnc_data_sub.describe().show()"
   ]
  },
  {
   "cell_type": "markdown",
   "metadata": {},
   "source": [
    " In a Jupyter notebook, the results look better if converted to a pandas data frame:"
   ]
  },
  {
   "cell_type": "code",
   "execution_count": 28,
   "metadata": {},
   "outputs": [
    {
     "data": {
      "text/html": [
       "<div>\n",
       "<style scoped>\n",
       "    .dataframe tbody tr th:only-of-type {\n",
       "        vertical-align: middle;\n",
       "    }\n",
       "\n",
       "    .dataframe tbody tr th {\n",
       "        vertical-align: top;\n",
       "    }\n",
       "\n",
       "    .dataframe thead th {\n",
       "        text-align: right;\n",
       "    }\n",
       "</style>\n",
       "<table border=\"1\" class=\"dataframe\">\n",
       "  <thead>\n",
       "    <tr style=\"text-align: right;\">\n",
       "      <th></th>\n",
       "      <th>summary</th>\n",
       "      <th>X1_ActualPosition</th>\n",
       "      <th>X1_ActualVelocity</th>\n",
       "      <th>passed_visual_inspection</th>\n",
       "      <th>machining_finalized</th>\n",
       "      <th>tool_condition</th>\n",
       "    </tr>\n",
       "  </thead>\n",
       "  <tbody>\n",
       "    <tr>\n",
       "      <th>0</th>\n",
       "      <td>count</td>\n",
       "      <td>25286</td>\n",
       "      <td>25286</td>\n",
       "      <td>23125</td>\n",
       "      <td>25286</td>\n",
       "      <td>25286</td>\n",
       "    </tr>\n",
       "    <tr>\n",
       "      <th>1</th>\n",
       "      <td>mean</td>\n",
       "      <td>159.05204460966542</td>\n",
       "      <td>-0.28865716206596675</td>\n",
       "      <td>None</td>\n",
       "      <td>None</td>\n",
       "      <td>None</td>\n",
       "    </tr>\n",
       "    <tr>\n",
       "      <th>2</th>\n",
       "      <td>stddev</td>\n",
       "      <td>19.330872672882187</td>\n",
       "      <td>5.658260347957942</td>\n",
       "      <td>None</td>\n",
       "      <td>None</td>\n",
       "      <td>None</td>\n",
       "    </tr>\n",
       "    <tr>\n",
       "      <th>3</th>\n",
       "      <td>min</td>\n",
       "      <td>141.0</td>\n",
       "      <td>-20.4</td>\n",
       "      <td>no</td>\n",
       "      <td>no</td>\n",
       "      <td>unworn</td>\n",
       "    </tr>\n",
       "    <tr>\n",
       "      <th>4</th>\n",
       "      <td>max</td>\n",
       "      <td>198.0</td>\n",
       "      <td>50.7</td>\n",
       "      <td>yes</td>\n",
       "      <td>yes</td>\n",
       "      <td>worn</td>\n",
       "    </tr>\n",
       "  </tbody>\n",
       "</table>\n",
       "</div>"
      ],
      "text/plain": [
       "  summary   X1_ActualPosition     X1_ActualVelocity passed_visual_inspection  \\\n",
       "0   count               25286                 25286                    23125   \n",
       "1    mean  159.05204460966542  -0.28865716206596675                     None   \n",
       "2  stddev  19.330872672882187     5.658260347957942                     None   \n",
       "3     min               141.0                 -20.4                       no   \n",
       "4     max               198.0                  50.7                      yes   \n",
       "\n",
       "  machining_finalized tool_condition  \n",
       "0               25286          25286  \n",
       "1                None           None  \n",
       "2                None           None  \n",
       "3                  no         unworn  \n",
       "4                 yes           worn  "
      ]
     },
     "execution_count": 28,
     "metadata": {},
     "output_type": "execute_result"
    }
   ],
   "source": [
    "cnc_data_sub.describe().toPandas()"
   ]
  },
  {
   "cell_type": "markdown",
   "metadata": {},
   "source": [
    "Reduce clutter with `.select`:"
   ]
  },
  {
   "cell_type": "code",
   "execution_count": 29,
   "metadata": {},
   "outputs": [
    {
     "name": "stdout",
     "output_type": "stream",
     "text": [
      "+-----------------+\n",
      "|X1_ActualPosition|\n",
      "+-----------------+\n",
      "|            198.0|\n",
      "|            198.0|\n",
      "|            196.0|\n",
      "|            194.0|\n",
      "|            193.0|\n",
      "+-----------------+\n",
      "only showing top 5 rows\n",
      "\n"
     ]
    }
   ],
   "source": [
    "cnc_data_sub.select(\"X1_ActualPosition\").show(5)"
   ]
  },
  {
   "cell_type": "markdown",
   "metadata": {},
   "source": [
    "How many distinct values of CNC mill head X1 position?"
   ]
  },
  {
   "cell_type": "code",
   "execution_count": 30,
   "metadata": {},
   "outputs": [
    {
     "data": {
      "text/plain": [
       "58"
      ]
     },
     "execution_count": 30,
     "metadata": {},
     "output_type": "execute_result"
    }
   ],
   "source": [
    "cnc_data_sub.select(\"X1_ActualPosition\").distinct().count()"
   ]
  },
  {
   "cell_type": "code",
   "execution_count": 31,
   "metadata": {},
   "outputs": [
    {
     "name": "stdout",
     "output_type": "stream",
     "text": [
      "+-----------------+\n",
      "|X1_ActualPosition|\n",
      "+-----------------+\n",
      "|            184.0|\n",
      "|            147.0|\n",
      "|            170.0|\n",
      "|            169.0|\n",
      "|            160.0|\n",
      "+-----------------+\n",
      "only showing top 5 rows\n",
      "\n"
     ]
    }
   ],
   "source": [
    "cnc_data_sub.select(\"X1_ActualPosition\").distinct().show(5)"
   ]
  },
  {
   "cell_type": "markdown",
   "metadata": {},
   "source": [
    "## Calculating a histogram\n",
    "\n",
    "To display a histogram, first we must compute a histogram. Then, when we have the results back, we can visualize it using pandas or seaborn.\n",
    "\n",
    "Computing a histogram (or quantiles) is a non-trivial task on a distributed dataset. But the RDD `histogram()` method takes care of the heavy work for you.\n",
    "\n",
    "There is also the [pyspark_dist_explore package,](https://github.com/Bergvca/pyspark_dist_explore) but it is not part of anaconda.\n"
   ]
  },
  {
   "cell_type": "code",
   "execution_count": 32,
   "metadata": {},
   "outputs": [
    {
     "data": {
      "text/plain": [
       "(array([6.9800e+02, 1.4000e+02, 1.9900e+02, 1.3100e+02, 4.6190e+03,\n",
       "        1.3712e+04, 4.0180e+03, 1.1120e+03, 7.0000e+01, 2.2800e+02,\n",
       "        5.9000e+01, 1.9400e+02, 1.0000e+00, 4.0000e+00, 3.0000e+00,\n",
       "        0.0000e+00, 5.0000e+00, 2.0000e+00, 5.3000e+01, 3.8000e+01]),\n",
       " array([-20.4  , -16.845, -13.29 ,  -9.735,  -6.18 ,  -2.625,   0.93 ,\n",
       "          4.485,   8.04 ,  11.595,  15.15 ,  18.705,  22.26 ,  25.815,\n",
       "         29.37 ,  32.925,  36.48 ,  40.035,  43.59 ,  47.145,  50.7  ]),\n",
       " <a list of 20 Patch objects>)"
      ]
     },
     "execution_count": 32,
     "metadata": {},
     "output_type": "execute_result"
    },
    {
     "data": {
      "image/png": "[encoded data removed]",
      "text/plain": [
       "<Figure size 432x288 with 1 Axes>"
      ]
     },
     "metadata": {
      "needs_background": "light"
     },
     "output_type": "display_data"
    }
   ],
   "source": [
    "bins, counts = cnc_data_sub.select(\"X1_ActualVelocity\").rdd.flatMap(lambda x: x).histogram(20)\n",
    "plt.hist(bins[:-1], bins=bins, weights=counts)"
   ]
  },
  {
   "cell_type": "markdown",
   "metadata": {},
   "source": [
    "## Quantiles"
   ]
  },
  {
   "cell_type": "code",
   "execution_count": 33,
   "metadata": {},
   "outputs": [
    {
     "data": {
      "text/plain": [
       "[145.0, 153.0, 162.0]"
      ]
     },
     "execution_count": 33,
     "metadata": {},
     "output_type": "execute_result"
    }
   ],
   "source": [
    "cnc_data_sub.approxQuantile(\"X1_ActualPosition\", [0.25, 0.5, 0.75], 0.0)"
   ]
  },
  {
   "cell_type": "code",
   "execution_count": 34,
   "metadata": {},
   "outputs": [
    {
     "data": {
      "text/plain": [
       "[0.1,\n",
       " 0.2,\n",
       " 0.30000000000000004,\n",
       " 0.4,\n",
       " 0.5,\n",
       " 0.6,\n",
       " 0.7000000000000001,\n",
       " 0.8,\n",
       " 0.9,\n",
       " 1.0]"
      ]
     },
     "execution_count": 34,
     "metadata": {},
     "output_type": "execute_result"
    }
   ],
   "source": [
    "np.arange(0.1, 1.1, 0.1).tolist() # note the floating point error!"
   ]
  },
  {
   "cell_type": "code",
   "execution_count": 35,
   "metadata": {},
   "outputs": [
    {
     "data": {
      "text/plain": [
       "[141.0, 143.0, 146.0, 150.0, 153.0, 157.0, 160.0, 162.0, 198.0, 198.0]"
      ]
     },
     "execution_count": 35,
     "metadata": {},
     "output_type": "execute_result"
    }
   ],
   "source": [
    "cnc_data_sub.approxQuantile(\"X1_ActualPosition\", np.arange(0.1, 1.1, 0.1).tolist(), 0.0)"
   ]
  },
  {
   "cell_type": "markdown",
   "metadata": {},
   "source": [
    "## Group-by analysis\n",
    "\n",
    "We can use `groupBy` syntax to use Split-Apply-Combine techniques on Spark DataFrames, but we should consider some potential issues with performance.\n",
    "\n",
    "Using `groupBy` on a Spark dataframe is similar to pandas `groupby` functionality. We can group on a column or multiple columns, for example, to get categorical variable counts:"
   ]
  },
  {
   "cell_type": "code",
   "execution_count": 36,
   "metadata": {},
   "outputs": [
    {
     "name": "stdout",
     "output_type": "stream",
     "text": [
      "+--------------+-----+\n",
      "|tool_condition|count|\n",
      "+--------------+-----+\n",
      "|        unworn|11978|\n",
      "|          worn|13308|\n",
      "+--------------+-----+\n",
      "\n"
     ]
    }
   ],
   "source": [
    "cnc_data_sub.groupBy(\"tool_condition\").count().show()"
   ]
  },
  {
   "cell_type": "markdown",
   "metadata": {},
   "source": [
    "Multiple group-bys:"
   ]
  },
  {
   "cell_type": "code",
   "execution_count": 37,
   "metadata": {},
   "outputs": [
    {
     "data": {
      "text/html": [
       "<div>\n",
       "<style scoped>\n",
       "    .dataframe tbody tr th:only-of-type {\n",
       "        vertical-align: middle;\n",
       "    }\n",
       "\n",
       "    .dataframe tbody tr th {\n",
       "        vertical-align: top;\n",
       "    }\n",
       "\n",
       "    .dataframe thead th {\n",
       "        text-align: right;\n",
       "    }\n",
       "</style>\n",
       "<table border=\"1\" class=\"dataframe\">\n",
       "  <thead>\n",
       "    <tr style=\"text-align: right;\">\n",
       "      <th></th>\n",
       "      <th>tool_condition</th>\n",
       "      <th>passed_visual_inspection</th>\n",
       "      <th>count</th>\n",
       "    </tr>\n",
       "  </thead>\n",
       "  <tbody>\n",
       "    <tr>\n",
       "      <th>0</th>\n",
       "      <td>unworn</td>\n",
       "      <td>yes</td>\n",
       "      <td>10984</td>\n",
       "    </tr>\n",
       "    <tr>\n",
       "      <th>1</th>\n",
       "      <td>worn</td>\n",
       "      <td>no</td>\n",
       "      <td>3942</td>\n",
       "    </tr>\n",
       "    <tr>\n",
       "      <th>2</th>\n",
       "      <td>unworn</td>\n",
       "      <td>None</td>\n",
       "      <td>994</td>\n",
       "    </tr>\n",
       "    <tr>\n",
       "      <th>3</th>\n",
       "      <td>worn</td>\n",
       "      <td>yes</td>\n",
       "      <td>8199</td>\n",
       "    </tr>\n",
       "    <tr>\n",
       "      <th>4</th>\n",
       "      <td>worn</td>\n",
       "      <td>None</td>\n",
       "      <td>1167</td>\n",
       "    </tr>\n",
       "  </tbody>\n",
       "</table>\n",
       "</div>"
      ],
      "text/plain": [
       "  tool_condition passed_visual_inspection  count\n",
       "0         unworn                      yes  10984\n",
       "1           worn                       no   3942\n",
       "2         unworn                     None    994\n",
       "3           worn                      yes   8199\n",
       "4           worn                     None   1167"
      ]
     },
     "execution_count": 37,
     "metadata": {},
     "output_type": "execute_result"
    }
   ],
   "source": [
    "cnc_data_sub.groupBy(\"tool_condition\", \"passed_visual_inspection\").count().toPandas()"
   ]
  },
  {
   "cell_type": "markdown",
   "metadata": {},
   "source": [
    "## Crosstab\n",
    "\n",
    "Unfortunately, unlike in pandas, the `normalize` keyword is not yet implemented in the Spark SQL version of `.crosstab`."
   ]
  },
  {
   "cell_type": "code",
   "execution_count": 38,
   "metadata": {},
   "outputs": [
    {
     "name": "stdout",
     "output_type": "stream",
     "text": [
      "+---------------------------------------+----+----+-----+\n",
      "|tool_condition_passed_visual_inspection|  no|null|  yes|\n",
      "+---------------------------------------+----+----+-----+\n",
      "|                                   worn|3942|1167| 8199|\n",
      "|                                 unworn|   0| 994|10984|\n",
      "+---------------------------------------+----+----+-----+\n",
      "\n"
     ]
    }
   ],
   "source": [
    "cnc_data_sub.crosstab(\"tool_condition\", \"passed_visual_inspection\").show()"
   ]
  },
  {
   "cell_type": "markdown",
   "metadata": {},
   "source": [
    "## Boxplot\n",
    "\n",
    "By virtue of its distributed nature, PySpark doesn't have any plotting functionality. To plot data, you need to bring it out of Spark and into pandas or numpy (_i.e._ wholly in-memory), and then use your usual plot methods.\n"
   ]
  },
  {
   "cell_type": "code",
   "execution_count": 39,
   "metadata": {},
   "outputs": [
    {
     "data": {
      "text/plain": [
       "<matplotlib.axes._subplots.AxesSubplot at 0x7f5b455a7860>"
      ]
     },
     "execution_count": 39,
     "metadata": {},
     "output_type": "execute_result"
    },
    {
     "data": {
      "image/png": "[encoded data removed]",
      "text/plain": [
       "<Figure size 432x288 with 1 Axes>"
      ]
     },
     "metadata": {
      "needs_background": "light"
     },
     "output_type": "display_data"
    }
   ],
   "source": [
    "box_df = cnc_data_sub.select([\"X1_ActualPosition\", \"tool_condition\"]).toPandas()\n",
    "box_df.boxplot(by=\"tool_condition\")"
   ]
  },
  {
   "cell_type": "markdown",
   "metadata": {},
   "source": [
    "## Correlation\n",
    "\n",
    "The Spark SQL `.corr` method easily computes the correlation between any two columns. However, currently only the Pearson correlation coefficient is supported:"
   ]
  },
  {
   "cell_type": "code",
   "execution_count": 40,
   "metadata": {},
   "outputs": [
    {
     "data": {
      "text/plain": [
       "-0.02792458000812223"
      ]
     },
     "execution_count": 40,
     "metadata": {},
     "output_type": "execute_result"
    }
   ],
   "source": [
    "cnc_data_sub.corr(\"X1_ActualPosition\", \"X1_ActualVelocity\")"
   ]
  },
  {
   "cell_type": "code",
   "execution_count": 41,
   "metadata": {},
   "outputs": [
    {
     "name": "stdout",
     "output_type": "stream",
     "text": [
      "+--------------+-----+\n",
      "|tool_condition|count|\n",
      "+--------------+-----+\n",
      "|        unworn|11978|\n",
      "|          worn|13308|\n",
      "+--------------+-----+\n",
      "\n"
     ]
    }
   ],
   "source": [
    "cnc_data_sub.groupBy(\"tool_condition\").count().show()"
   ]
  },
  {
   "cell_type": "code",
   "execution_count": 42,
   "metadata": {},
   "outputs": [
    {
     "name": "stdout",
     "output_type": "stream",
     "text": [
      "+--------------+------------------------+-----+\n",
      "|tool_condition|passed_visual_inspection|count|\n",
      "+--------------+------------------------+-----+\n",
      "|        unworn|                     yes|10984|\n",
      "|          worn|                      no| 3942|\n",
      "|        unworn|                    null|  994|\n",
      "|          worn|                     yes| 8199|\n",
      "|          worn|                    null| 1167|\n",
      "+--------------+------------------------+-----+\n",
      "\n"
     ]
    }
   ],
   "source": [
    "cnc_data_sub.groupBy(\"tool_condition\", \"passed_visual_inspection\").count().show()"
   ]
  },
  {
   "cell_type": "markdown",
   "metadata": {},
   "source": [
    "## Optimization\n",
    "\n",
    "One principle of optimizing Spark is the **Filter Early, Filter Often** principle. Filtering out noisy or unwanted data early can significantly reduce shuffles and have a huge impact on performance.\n",
    "\n",
    "For Dataframes, filtering is the `filter` method.\n",
    "\n",
    "Perform `filter` and `map` operations before any operation that incurs a shuffle, such as a `reduceByKey.` \n",
    "\n",
    "Also, leverage the UI to diagnose and improve shuffle performance. For more details, consult ..."
   ]
  },
  {
   "cell_type": "code",
   "execution_count": 43,
   "metadata": {},
   "outputs": [
    {
     "data": {
      "text/plain": [
       "19183"
      ]
     },
     "execution_count": 43,
     "metadata": {},
     "output_type": "execute_result"
    }
   ],
   "source": [
    "cnc_data_sub.filter(cnc_data_sub[\"passed_visual_inspection\"] == \"yes\").count()"
   ]
  },
  {
   "cell_type": "code",
   "execution_count": 44,
   "metadata": {},
   "outputs": [
    {
     "data": {
      "text/html": [
       "<div>\n",
       "<style scoped>\n",
       "    .dataframe tbody tr th:only-of-type {\n",
       "        vertical-align: middle;\n",
       "    }\n",
       "\n",
       "    .dataframe tbody tr th {\n",
       "        vertical-align: top;\n",
       "    }\n",
       "\n",
       "    .dataframe thead th {\n",
       "        text-align: right;\n",
       "    }\n",
       "</style>\n",
       "<table border=\"1\" class=\"dataframe\">\n",
       "  <thead>\n",
       "    <tr style=\"text-align: right;\">\n",
       "      <th></th>\n",
       "      <th>X1_ActualVelocity</th>\n",
       "      <th>tool_condition</th>\n",
       "      <th>passed_visual_inspection</th>\n",
       "    </tr>\n",
       "  </thead>\n",
       "  <tbody>\n",
       "    <tr>\n",
       "      <th>2149</th>\n",
       "      <td>14.10</td>\n",
       "      <td>worn</td>\n",
       "      <td>None</td>\n",
       "    </tr>\n",
       "    <tr>\n",
       "      <th>1243</th>\n",
       "      <td>5.95</td>\n",
       "      <td>unworn</td>\n",
       "      <td>yes</td>\n",
       "    </tr>\n",
       "    <tr>\n",
       "      <th>6862</th>\n",
       "      <td>3.08</td>\n",
       "      <td>worn</td>\n",
       "      <td>yes</td>\n",
       "    </tr>\n",
       "    <tr>\n",
       "      <th>7711</th>\n",
       "      <td>0.15</td>\n",
       "      <td>worn</td>\n",
       "      <td>yes</td>\n",
       "    </tr>\n",
       "    <tr>\n",
       "      <th>5712</th>\n",
       "      <td>3.00</td>\n",
       "      <td>worn</td>\n",
       "      <td>yes</td>\n",
       "    </tr>\n",
       "  </tbody>\n",
       "</table>\n",
       "</div>"
      ],
      "text/plain": [
       "      X1_ActualVelocity tool_condition passed_visual_inspection\n",
       "2149              14.10           worn                     None\n",
       "1243               5.95         unworn                      yes\n",
       "6862               3.08           worn                      yes\n",
       "7711               0.15           worn                      yes\n",
       "5712               3.00           worn                      yes"
      ]
     },
     "execution_count": 44,
     "metadata": {},
     "output_type": "execute_result"
    }
   ],
   "source": [
    "cnc_data_sub\\\n",
    "    .filter(cnc_data_sub[\"X1_ActualVelocity\"] > 0)\\\n",
    "    .select([\"X1_ActualVelocity\", \"tool_condition\", \"passed_visual_inspection\"])\\\n",
    "    .toPandas()\\\n",
    "    .sample(5)"
   ]
  },
  {
   "cell_type": "markdown",
   "metadata": {},
   "source": [
    "## Spark SQL\n",
    "\n",
    "The SQL abstractions in Spark are based on the `Hive` project, which is a layer of abstraction on top of Hadoop MapReduce. `HiveQL` was parsed by a Hive client and mapped to MapReduce operations. \n",
    "\n",
    "Since then, `Spark SQL` was introduced, which brings a HiveQL-compatible extension to RDD-based storage.\n",
    "\n",
    "One of the main components of Spark SQL is the DataFrame API which you've already been using in this module! Spark SQL includes native support for Parquet files.\n",
    "\n",
    "The `sparkSession` is the main entry point for Spark SQL applications, as we've already seen."
   ]
  },
  {
   "cell_type": "markdown",
   "metadata": {},
   "source": [
    "## UDFs\n",
    "\n",
    "It's straight-forward -- perhaps often necessary -- to create User-Defined Functions within the Spark SQL DataFrame API as well. We do need to be conscious of the returnType of a UDF and declare that explicitly"
   ]
  },
  {
   "cell_type": "code",
   "execution_count": 45,
   "metadata": {},
   "outputs": [
    {
     "name": "stdout",
     "output_type": "stream",
     "text": [
      "+-------+--------------------+\n",
      "|summary|   X1_ActualVelocity|\n",
      "+-------+--------------------+\n",
      "|  count|               25286|\n",
      "|   mean|-0.28865716206596675|\n",
      "| stddev|   5.658260347957942|\n",
      "|    min|               -20.4|\n",
      "|    max|                50.7|\n",
      "+-------+--------------------+\n",
      "\n"
     ]
    }
   ],
   "source": [
    "cnc_data_sub.select(\"X1_ActualVelocity\").describe().show()"
   ]
  },
  {
   "cell_type": "code",
   "execution_count": 46,
   "metadata": {},
   "outputs": [],
   "source": [
    "from pyspark.sql.functions import udf\n",
    "from pyspark.sql.types import StringType \n",
    "\n",
    "getSign = udf(lambda x: '-' if x < 0 else '+', StringType())"
   ]
  },
  {
   "cell_type": "code",
   "execution_count": 47,
   "metadata": {},
   "outputs": [
    {
     "name": "stdout",
     "output_type": "stream",
     "text": [
      "+-----------------+------+\n",
      "|X1_ActualVelocity|v_sign|\n",
      "+-----------------+------+\n",
      "|              0.0|     +|\n",
      "|            -10.8|     -|\n",
      "|            -17.8|     -|\n",
      "|            -18.0|     -|\n",
      "|            -17.9|     -|\n",
      "|            -17.6|     -|\n",
      "|            -17.9|     -|\n",
      "|            -17.8|     -|\n",
      "|            -17.9|     -|\n",
      "|            -17.9|     -|\n",
      "+-----------------+------+\n",
      "only showing top 10 rows\n",
      "\n"
     ]
    }
   ],
   "source": [
    "cnc_data_sub\\\n",
    "    .select(cnc_data_sub[\"X1_ActualVelocity\"], getSign(cnc_data_sub[\"X1_ActualVelocity\"])\\\n",
    "    .alias(\"v_sign\"))\\\n",
    "    .show(10)"
   ]
  },
  {
   "cell_type": "markdown",
   "metadata": {},
   "source": [
    "## Machine Learning with Spark ML: Data Preparation\n",
    "\n",
    "As is common with machine learning libraries, a lot of data preparation is required to be properly ingested by the various libraries. Spark ML has convenience functions for this purpose. We will need to prepare the CNC mill data to have features and labels: "
   ]
  },
  {
   "cell_type": "code",
   "execution_count": 48,
   "metadata": {},
   "outputs": [],
   "source": [
    "# To generate labels column from categorical data\n",
    "from pyspark.ml.feature import OneHotEncoderEstimator, StringIndexer\n",
    "\n",
    "# To generate features vector\n",
    "from pyspark.ml.linalg import Vectors\n",
    "from pyspark.ml.feature import VectorAssembler"
   ]
  },
  {
   "cell_type": "markdown",
   "metadata": {},
   "source": [
    "### Convert class strings (categorical) to numerical label\n",
    "\n",
    "Can we predict the tool condition on a CNC mill, given a whole lot of sensor data? We have labels for `tool_condition`, namely 'worn' and 'unworn'. We need to convert these to a numerical format.\n",
    "\n",
    "**NOTE:** the off-the-shelf classifiers in Spark ML tend to have default names of the features ('features') and the class labels ('label'). We could alter these with `featuresCol='features'`, and `labelCol='label'`; we instead choose the default names hereafter."
   ]
  },
  {
   "cell_type": "code",
   "execution_count": 49,
   "metadata": {},
   "outputs": [],
   "source": [
    "cnc_class_labels = StringIndexer(inputCol='tool_condition', outputCol='label')\n",
    "cnc_data = cnc_class_labels.fit(cnc_data).transform(cnc_data)"
   ]
  },
  {
   "cell_type": "markdown",
   "metadata": {},
   "source": [
    "Convert the non-string features to a feature vector:"
   ]
  },
  {
   "cell_type": "code",
   "execution_count": 50,
   "metadata": {},
   "outputs": [
    {
     "name": "stdout",
     "output_type": "stream",
     "text": [
      "\n",
      "Converted features and labels for CNC wear dataset:\n",
      "+--------------------+-----+\n",
      "|            features|label|\n",
      "+--------------------+-----+\n",
      "|(49,[0,3,6,7,8,11...|  1.0|\n",
      "|[148.0,2.0,700.0,...|  1.0|\n",
      "|[141.0,0.125,68.7...|  1.0|\n",
      "|[149.0,0.025,12.5...|  1.0|\n",
      "|[162.0,3.17,-12.5...|  0.0|\n",
      "|[145.0,-2.13,-25....|  0.0|\n",
      "|[142.0,-3.55,-25....|  0.0|\n",
      "|[167.0,-17.9,-12....|  0.0|\n",
      "|(49,[0,1,2,3,6,7,...|  0.0|\n",
      "|[150.0,-3.2,-43.8...|  1.0|\n",
      "+--------------------+-----+\n",
      "only showing top 10 rows\n",
      "\n"
     ]
    }
   ],
   "source": [
    "cnc_feature_labels = cnc_data.columns[0:47] + cnc_data.columns[49:51]\n",
    "cnc_feature_vector = VectorAssembler(\n",
    "    inputCols=cnc_feature_labels,\n",
    "    outputCol=\"features\")  # Note the strict naming convention here\n",
    "\n",
    "cnc_data = cnc_feature_vector.transform(cnc_data)\n",
    "\n",
    "print(\"\\nConverted features and labels for CNC wear dataset:\")\n",
    "cnc_data.sample(0.001).select(\"features\", \"label\").show(10)"
   ]
  },
  {
   "cell_type": "markdown",
   "metadata": {},
   "source": [
    "Split into training and test data at 75%"
   ]
  },
  {
   "cell_type": "code",
   "execution_count": 51,
   "metadata": {},
   "outputs": [
    {
     "name": "stdout",
     "output_type": "stream",
     "text": [
      "\n",
      "Rows of data for training: 18948, testing: 6338\n",
      "\n"
     ]
    }
   ],
   "source": [
    "cnc_train, cnc_test = cnc_data.randomSplit([0.75, 0.25], 42)\n",
    "\n",
    "print(f\"\\nRows of data for training: {cnc_train.count()}, testing: {cnc_test.count()}\\n\")  "
   ]
  },
  {
   "cell_type": "markdown",
   "metadata": {},
   "source": [
    "## Machine learning with Spark ML: Classification\n",
    "\n",
    "Once the data are prepared, it is relatively simple to apply the various algorithms in the Spark ML eco-system. We can easily produce a logistic regression classifier. We can even throw in an elastic net!: "
   ]
  },
  {
   "cell_type": "code",
   "execution_count": 52,
   "metadata": {},
   "outputs": [],
   "source": [
    "from pyspark.ml.classification import LogisticRegression\n",
    "\n",
    "logReg = LogisticRegression(maxIter=10, regParam=0.3, elasticNetParam=0.8)"
   ]
  },
  {
   "cell_type": "markdown",
   "metadata": {},
   "source": [
    "Fit the model:"
   ]
  },
  {
   "cell_type": "code",
   "execution_count": 53,
   "metadata": {},
   "outputs": [],
   "source": [
    "logRegModel = logReg.fit(cnc_train)"
   ]
  },
  {
   "cell_type": "markdown",
   "metadata": {},
   "source": [
    "The coefficients and intercept are:"
   ]
  },
  {
   "cell_type": "code",
   "execution_count": 54,
   "metadata": {},
   "outputs": [
    {
     "name": "stdout",
     "output_type": "stream",
     "text": [
      "Coefficients: (49,[],[]); Intercept: -0.10946107408676813\n"
     ]
    }
   ],
   "source": [
    "print(f\"Coefficients: {logRegModel.coefficients}; Intercept: {logRegModel.intercept}\")"
   ]
  },
  {
   "cell_type": "markdown",
   "metadata": {},
   "source": [
    "Evaluate the model:"
   ]
  },
  {
   "cell_type": "code",
   "execution_count": 55,
   "metadata": {},
   "outputs": [
    {
     "name": "stdout",
     "output_type": "stream",
     "text": [
      "\n",
      "Validation accuracy: 50.0%\n",
      "\n"
     ]
    }
   ],
   "source": [
    "from pyspark.ml.evaluation import BinaryClassificationEvaluator\n",
    "\n",
    "validation = logRegModel.transform(cnc_test).select(\"rawPrediction\", \"label\")\n",
    "evaluator = BinaryClassificationEvaluator().setMetricName(\"areaUnderROC\")\n",
    "\n",
    "print(f\"\\nValidation accuracy: {evaluator.evaluate(validation)*100}%\\n\" )  "
   ]
  },
  {
   "cell_type": "markdown",
   "metadata": {},
   "source": [
    "## Machine learning: Linear Regression\n",
    "\n",
    "If you've ever had to compute a linear regression problem by hand, you'd know it's like watching concrete dry. So why not use a concrete example to illustrate this? \n",
    "\n",
    "This concrete data-set has compressive strength (in MPa) -- a continuous outcome -- of various concrete mixtures given a range of controlled conditions. This is a potentially promising application of linear regression. "
   ]
  },
  {
   "cell_type": "markdown",
   "metadata": {},
   "source": [
    "First, import the data:"
   ]
  },
  {
   "cell_type": "code",
   "execution_count": 56,
   "metadata": {},
   "outputs": [],
   "source": [
    "concrete_data = spark.read.csv(\"../data/manufacturing/concrete/concrete.csv\",\n",
    "                              header=True,\n",
    "                              inferSchema=True)"
   ]
  },
  {
   "cell_type": "markdown",
   "metadata": {},
   "source": [
    "We rename the last column (compressive strength) to 'label':"
   ]
  },
  {
   "cell_type": "code",
   "execution_count": 57,
   "metadata": {},
   "outputs": [],
   "source": [
    "concrete_data = concrete_data.withColumnRenamed(concrete_data.columns[-1], \"label\")"
   ]
  },
  {
   "cell_type": "markdown",
   "metadata": {},
   "source": [
    "We would like to make the rest into a feature vector, and the rest of the logic is similar to that of the logistic regression example above. Once the logic is clear, we may wish to formalize this as a _pipeline_. This will apply each of the data transforms and model fits into a single operation."
   ]
  },
  {
   "cell_type": "code",
   "execution_count": 58,
   "metadata": {},
   "outputs": [],
   "source": [
    "concrete_feature_labels = concrete_data.columns[0:8]\n",
    "concrete_feature_vector = VectorAssembler(\n",
    "    inputCols=concrete_feature_labels,\n",
    "    outputCol=\"features\")  # Note the strict naming convention here"
   ]
  },
  {
   "cell_type": "markdown",
   "metadata": {},
   "source": [
    "Produce a random split at 75%:"
   ]
  },
  {
   "cell_type": "code",
   "execution_count": 59,
   "metadata": {},
   "outputs": [
    {
     "name": "stdout",
     "output_type": "stream",
     "text": [
      "\n",
      "Rows of data for training: 755, testing: 275\n",
      "\n"
     ]
    }
   ],
   "source": [
    "concrete_train, concrete_test = concrete_data.randomSplit([0.75, 0.25], 42)\n",
    "\n",
    "print(f\"\\nRows of data for training: {concrete_train.count()}, testing: {concrete_test.count()}\\n\")  "
   ]
  },
  {
   "cell_type": "markdown",
   "metadata": {},
   "source": [
    "Instantiate the model:"
   ]
  },
  {
   "cell_type": "code",
   "execution_count": 60,
   "metadata": {},
   "outputs": [],
   "source": [
    "from pyspark.ml.regression import LinearRegression\n",
    "\n",
    "linReg = LinearRegression(maxIter=10, regParam=0.3, elasticNetParam=0.8, solver='normal') "
   ]
  },
  {
   "cell_type": "markdown",
   "metadata": {},
   "source": [
    "Create the feature vector and fit the model (_i.e._ make it concrete) in a single pipeline:"
   ]
  },
  {
   "cell_type": "code",
   "execution_count": 61,
   "metadata": {},
   "outputs": [],
   "source": [
    "from pyspark.ml.pipeline import Pipeline\n",
    "\n",
    "lin_pipeline = Pipeline(stages=[concrete_feature_vector, linReg])\n",
    "\n",
    "linRegModel = lin_pipeline.fit(concrete_train)"
   ]
  },
  {
   "cell_type": "markdown",
   "metadata": {},
   "source": [
    "Print the coefficients and intercept. Note our model is now part of a `Pipeline` object, so we have to access the particular stage:"
   ]
  },
  {
   "cell_type": "code",
   "execution_count": 62,
   "metadata": {},
   "outputs": [
    {
     "name": "stdout",
     "output_type": "stream",
     "text": [
      "Coefficients: [0.0936665960519165,0.06849622690485915,0.04590487140394453,-0.19188302288262057,0.35295136896926355,-0.00045596407641536747,-0.002703227695496029,0.10675020499988706]\n",
      "Intercept: 32.23753858511898\n"
     ]
    }
   ],
   "source": [
    "print(f\"Coefficients: {linRegModel.stages[-1].coefficients}\")\n",
    "print(f\"Intercept: {linRegModel.stages[-1].intercept}\")"
   ]
  },
  {
   "cell_type": "markdown",
   "metadata": {},
   "source": [
    "Summarize the model over the training set:"
   ]
  },
  {
   "cell_type": "code",
   "execution_count": 63,
   "metadata": {},
   "outputs": [
    {
     "name": "stdout",
     "output_type": "stream",
     "text": [
      "numIterations: 11\n",
      "objectiveHistory: [0.5, 0.42945313726996776, 0.23856623783097589, 0.23521281729190635, 0.2374158720444947, 0.23130903077422738, 0.23078584407547983, 0.23016805290289782, 0.22962161678497606, 0.22927831795910597, 0.22888638669437644]\n",
      "+-------------------+\n",
      "|          residuals|\n",
      "+-------------------+\n",
      "|  -8.23426309945674|\n",
      "| -9.722840003308011|\n",
      "| -4.758138503307559|\n",
      "|  5.870555683694814|\n",
      "|  7.889798301701813|\n",
      "| -9.325139420882834|\n",
      "|-5.9427853408823825|\n",
      "|  4.073654158119989|\n",
      "|  6.130817956126993|\n",
      "|-11.669990650086342|\n",
      "+-------------------+\n",
      "only showing top 10 rows\n",
      "\n",
      "RMSE: 10.688765723925156\n",
      "r2: 0.5985691067028458\n"
     ]
    }
   ],
   "source": [
    "trainingSummary = linRegModel.stages[-1].summary\n",
    "print(f\"numIterations: {trainingSummary.totalIterations}\")\n",
    "print(f\"objectiveHistory: {trainingSummary.objectiveHistory}\")\n",
    "\n",
    "trainingSummary.residuals.show(10)\n",
    "print(f\"RMSE: {trainingSummary.rootMeanSquaredError}\")\n",
    "print(f\"r2: {trainingSummary.r2}\") "
   ]
  },
  {
   "cell_type": "markdown",
   "metadata": {},
   "source": [
    "Alternatively, we can use the `RegressionEvaluator`:"
   ]
  },
  {
   "cell_type": "code",
   "execution_count": 64,
   "metadata": {},
   "outputs": [
    {
     "name": "stdout",
     "output_type": "stream",
     "text": [
      "\n",
      "RMSE: 9.764103640724203\n",
      "\n"
     ]
    }
   ],
   "source": [
    "from pyspark.ml.evaluation import RegressionEvaluator\n",
    "\n",
    "concrete_test = concrete_feature_vector.transform(concrete_test)\n",
    "validation = linRegModel.stages[-1].transform(concrete_test).select(\"prediction\", \"label\")\n",
    "evaluator = RegressionEvaluator()\n",
    "\n",
    "print(f\"\\nRMSE: {evaluator.evaluate(validation)}\\n\" )  "
   ]
  },
  {
   "cell_type": "markdown",
   "metadata": {},
   "source": [
    "## Hyperparameter Tuning\n",
    "\n",
    "We quite arbitrarily chose the hyperparameters `regParam` (or $\\alpha$) and `elasticNetParam` ($\\lambda$) to have the values 0.3 and 0.8 respectively. How do we know this model is optimal?\n",
    "\n",
    "There are a handful of viable approaches. Spark ML has a `tuning` library to help address this issue. \n"
   ]
  },
  {
   "cell_type": "markdown",
   "metadata": {},
   "source": [
    "### Single Validation Split\n",
    "One possibility is to split a single validation set at random from the training data and select the best model, from a given range of hyperparameters, according to some evaluation metric. This is the purpose of `TrainValidationSplit`:"
   ]
  },
  {
   "cell_type": "code",
   "execution_count": 65,
   "metadata": {},
   "outputs": [],
   "source": [
    "from pyspark.ml.tuning import ParamGridBuilder, TrainValidationSplit"
   ]
  },
  {
   "cell_type": "markdown",
   "metadata": {},
   "source": [
    "First we make use of `ParamGridBuilder` to build a hypergrid of hyperparameter values:"
   ]
  },
  {
   "cell_type": "code",
   "execution_count": 66,
   "metadata": {},
   "outputs": [],
   "source": [
    "paramGrid = ParamGridBuilder()\\\n",
    "    .addGrid(linReg.regParam, [0.1, 0.01, 5.0])\\\n",
    "    .addGrid(linReg.elasticNetParam, np.arange(0.0, 1.25, 0.25))\\\n",
    "    .addGrid(linReg.fitIntercept, [False, True])\\\n",
    "    .build() "
   ]
  },
  {
   "cell_type": "markdown",
   "metadata": {},
   "source": [
    "Then we will split off 25% of the training data to a single validation set. We'll make use of the `linReg` linear regressor and `RegressionEvaluator` we created above (which has an RMSE default output metric): "
   ]
  },
  {
   "cell_type": "code",
   "execution_count": 67,
   "metadata": {},
   "outputs": [],
   "source": [
    "trainValSplit = TrainValidationSplit(estimator=linReg,\n",
    "                           estimatorParamMaps=paramGrid,\n",
    "                           evaluator=RegressionEvaluator(),\n",
    "                           trainRatio=0.75) "
   ]
  },
  {
   "cell_type": "markdown",
   "metadata": {},
   "source": [
    "We can then fit the best model, according to the evaluator, by exploring the hyperparameter grid:"
   ]
  },
  {
   "cell_type": "code",
   "execution_count": 68,
   "metadata": {},
   "outputs": [],
   "source": [
    "concrete_train = concrete_feature_vector.transform(concrete_train)\n",
    "\n",
    "linReg_tvs = trainValSplit.fit(concrete_train)"
   ]
  },
  {
   "cell_type": "markdown",
   "metadata": {},
   "source": [
    "See how the model fares on the test (hold-out) set:"
   ]
  },
  {
   "cell_type": "code",
   "execution_count": 69,
   "metadata": {},
   "outputs": [
    {
     "name": "stdout",
     "output_type": "stream",
     "text": [
      "+--------------------+------------------+------------------+\n",
      "|            features|             label|        prediction|\n",
      "+--------------------+------------------+------------------+\n",
      "|[102.0,153.0,0.0,...|       7.675936308| 11.68325013759485|\n",
      "|[102.0,153.0,0.0,...|17.275510655999998| 14.07207973074146|\n",
      "|[102.0,153.0,0.0,...|25.460969728000002| 21.12481472003145|\n",
      "|[122.6,183.9,0.0,...|10.354550567999999|14.334646590158162|\n",
      "|[132.0,206.5,160....|33.306517131999996| 35.86086711714507|\n",
      "|[135.0,105.0,193....|       21.91154728| 26.71282535898905|\n",
      "|[135.7,203.5,0.0,...|       18.19871902|23.629099932873856|\n",
      "|[139.6,209.4,0.0,...|       28.23748958| 23.83271116420894|\n",
      "|[139.6,209.4,0.0,...|39.358047983999995|30.885446153498933|\n",
      "|[143.6,0.0,174.9,...|       15.42357812|28.578869026974154|\n",
      "+--------------------+------------------+------------------+\n",
      "only showing top 10 rows\n",
      "\n"
     ]
    }
   ],
   "source": [
    "linReg_tvs.transform(concrete_test)\\\n",
    "    .select(\"features\", \"label\", \"prediction\")\\\n",
    "    .show(10)  "
   ]
  },
  {
   "cell_type": "markdown",
   "metadata": {},
   "source": [
    "The default `RegressionEvaluator` requires a `prediction` and a `label` column:"
   ]
  },
  {
   "cell_type": "code",
   "execution_count": 70,
   "metadata": {},
   "outputs": [
    {
     "name": "stdout",
     "output_type": "stream",
     "text": [
      "\n",
      "RMSE: 9.699798635299148\n",
      "\n"
     ]
    }
   ],
   "source": [
    "linReg_valid = linReg_tvs.transform(concrete_test).select(\"prediction\", \"label\")\n",
    "evaluator = RegressionEvaluator()\n",
    "\n",
    "print(f\"\\nRMSE: {evaluator.evaluate(linReg_valid)}\\n\" )  "
   ]
  },
  {
   "cell_type": "markdown",
   "metadata": {},
   "source": [
    "What coefficients were chosen?"
   ]
  },
  {
   "cell_type": "code",
   "execution_count": 71,
   "metadata": {},
   "outputs": [
    {
     "name": "stdout",
     "output_type": "stream",
     "text": [
      "Model coefficients: [0.11253401543048715,0.09303561902777983,0.07383230015452041,-0.15546075058628298,0.3557274976302689,0.010842697393762984,0.010752687216045095,0.11375379014983852]\n",
      "Model intercept: -4.723985511829938\n"
     ]
    }
   ],
   "source": [
    "print(f\"Model coefficients: {linReg_tvs.bestModel.coefficients}\")\n",
    "print(f\"Model intercept: {linReg_tvs.bestModel.intercept}\") "
   ]
  },
  {
   "cell_type": "markdown",
   "metadata": {},
   "source": [
    "Accessing the actual hyperparameters is currently an arcane process -- we have to query the underlying Java object:"
   ]
  },
  {
   "cell_type": "code",
   "execution_count": 72,
   "metadata": {},
   "outputs": [
    {
     "name": "stdout",
     "output_type": "stream",
     "text": [
      "Chosen regularization parameter: 0.1\n",
      "Chosen elastic net parameter: 0.0\n"
     ]
    }
   ],
   "source": [
    "print(f\"Chosen regularization parameter: {linReg_tvs.bestModel._java_obj.getRegParam()}\")\n",
    "print(f\"Chosen elastic net parameter: {linReg_tvs.bestModel._java_obj.getElasticNetParam()}\")  "
   ]
  },
  {
   "cell_type": "markdown",
   "metadata": {},
   "source": [
    "### K-fold Cross-validation\n",
    "\n",
    "We can potentially improve upon a single validation split by selecting a model by sequentially 'folding' out a small number ($k$) of non-overlapping validation sets. Each fold is used once as a test set against the remainder of the training data. As with the single validation split approach above, the model hyperparamers are selected from a grid of values, according to an evaluation metric.\n",
    "\n",
    "This is straight-forward to apply using the tuning library `CrossValidator` class:"
   ]
  },
  {
   "cell_type": "code",
   "execution_count": 73,
   "metadata": {},
   "outputs": [],
   "source": [
    "from pyspark.ml.tuning import CrossValidator\n",
    "\n",
    "crossValid = CrossValidator(estimator=linReg,\n",
    "                          estimatorParamMaps=paramGrid,\n",
    "                          evaluator=RegressionEvaluator(),\n",
    "                          numFolds=5)  "
   ]
  },
  {
   "cell_type": "markdown",
   "metadata": {},
   "source": [
    "Here we have set $k=5$ and recycled the `paramGrid`, estimator and evaluator from above. This may take a while to train, depending on the parameter grid size and number of folds."
   ]
  },
  {
   "cell_type": "code",
   "execution_count": 74,
   "metadata": {},
   "outputs": [],
   "source": [
    "linReg_cv = crossValid.fit(concrete_train) "
   ]
  },
  {
   "cell_type": "markdown",
   "metadata": {},
   "source": [
    "Again, assessing the performance of the model on the test set:"
   ]
  },
  {
   "cell_type": "code",
   "execution_count": 75,
   "metadata": {},
   "outputs": [
    {
     "name": "stdout",
     "output_type": "stream",
     "text": [
      "+--------------------+------------------+------------------+\n",
      "|            features|             label|        prediction|\n",
      "+--------------------+------------------+------------------+\n",
      "|[102.0,153.0,0.0,...|       7.675936308|11.562356043988999|\n",
      "|[102.0,153.0,0.0,...|17.275510655999998|13.972489803035376|\n",
      "|[102.0,153.0,0.0,...|25.460969728000002|21.088122805934212|\n",
      "|[122.6,183.9,0.0,...|10.354550567999999|14.157038475393575|\n",
      "|[132.0,206.5,160....|33.306517131999996|36.311394477308795|\n",
      "|[135.0,105.0,193....|       21.91154728| 26.85741387402061|\n",
      "|[135.7,203.5,0.0,...|       18.19871902|23.537248783181592|\n",
      "|[139.6,209.4,0.0,...|       28.23748958|23.668648687889412|\n",
      "|[139.6,209.4,0.0,...|39.358047983999995|30.784281690788248|\n",
      "|[143.6,0.0,174.9,...|       15.42357812|28.449240002845045|\n",
      "|[143.7,170.2,132....|29.870858223999996|31.128387776817224|\n",
      "|[144.0,0.0,175.0,...|       15.41668336|  28.5989466130831|\n",
      "|[144.0,136.0,106....|       26.14492992|28.589750306635384|\n",
      "|[145.0,0.0,179.0,...|       10.53519328| 17.61138369040956|\n",
      "|[145.9,230.5,0.0,...|      32.720462532| 24.33106264429129|\n",
      "|[147.8,175.1,0.0,...|      26.922658848|25.346214292888337|\n",
      "|[149.0,118.0,92.0...|       23.51802636|25.742679478398454|\n",
      "|[150.0,237.0,0.0,...|37.431652039999996| 33.23761951488335|\n",
      "|[150.9,0.0,183.9,...|15.569747031999999|26.307086793324714|\n",
      "|[151.6,0.0,111.9,...|      12.180972492|17.221922056091255|\n",
      "+--------------------+------------------+------------------+\n",
      "only showing top 20 rows\n",
      "\n"
     ]
    }
   ],
   "source": [
    "linReg_cv.transform(concrete_test)\\\n",
    "    .select(\"features\", \"label\", \"prediction\")\\\n",
    "    .show()"
   ]
  },
  {
   "cell_type": "code",
   "execution_count": 76,
   "metadata": {},
   "outputs": [
    {
     "name": "stdout",
     "output_type": "stream",
     "text": [
      "\n",
      "RMSE: 9.692384232692069\n",
      "\n"
     ]
    }
   ],
   "source": [
    "validation = linReg_cv.transform(concrete_test).select(\"prediction\", \"label\")\n",
    "evaluator = RegressionEvaluator()\n",
    "\n",
    "print(f\"\\nRMSE: {evaluator.evaluate(validation)}\\n\" )"
   ]
  },
  {
   "cell_type": "code",
   "execution_count": 77,
   "metadata": {},
   "outputs": [
    {
     "name": "stdout",
     "output_type": "stream",
     "text": [
      "Model coefficients: [0.11253401543048715,0.09303561902777983,0.07383230015452041,-0.15546075058628298,0.3557274976302689,0.010842697393762984,0.010752687216045095,0.11375379014983852]\n",
      "Model intercept: -4.723985511829938\n"
     ]
    }
   ],
   "source": [
    "print(f\"Model coefficients: {linReg_tvs.bestModel.coefficients}\")\n",
    "print(f\"Model intercept: {linReg_tvs.bestModel.intercept}\") "
   ]
  },
  {
   "cell_type": "code",
   "execution_count": 78,
   "metadata": {},
   "outputs": [
    {
     "name": "stdout",
     "output_type": "stream",
     "text": [
      "Best Param (regParam): 0.01\n",
      "Best Param (elasticNetParam): 0.0\n"
     ]
    }
   ],
   "source": [
    "print(f'Best Param (regParam): {linReg_cv.bestModel._java_obj.getRegParam()}')\n",
    "print(f'Best Param (elasticNetParam): {linReg_cv.bestModel._java_obj.getElasticNetParam()}')   "
   ]
  },
  {
   "cell_type": "markdown",
   "metadata": {},
   "source": [
    "It is interesting to note that the elastic net parameter, $\\lambda$ has a minimal value compared to the single validation split procedure. Performance, however, has only marginally improved. This is a tough set to perform a linear regression upon, and likely requires more feature engineering to improve further."
   ]
  },
  {
   "cell_type": "markdown",
   "metadata": {},
   "source": [
    "## Bonus Level: Deep Learning with Spark \n",
    "\n",
    "All the buzzwords!\n",
    "\n",
    "Spark ML has a Multilayer Perceptron (MLP) built-in function. This is a feed-forward artificial neural network, used in many classification problems. It is a very powerful classifier and is relatively simple to implement in Spark. However, non-trivial models require a lot of computational power to train."
   ]
  },
  {
   "cell_type": "code",
   "execution_count": 79,
   "metadata": {},
   "outputs": [],
   "source": [
    "from pyspark.ml.classification import MultilayerPerceptronClassifier\n",
    "from pyspark.ml.evaluation import MulticlassClassificationEvaluator"
   ]
  },
  {
   "cell_type": "markdown",
   "metadata": {},
   "source": [
    "Construct MLP architecture by specifying layers as a list:\n",
    "* The input layer must be the same as the number of features \n",
    "* The output layer must be the same as the number of classes (here: two)\n",
    "\n",
    "We choose here two hidden layers, each of width 128."
   ]
  },
  {
   "cell_type": "code",
   "execution_count": 80,
   "metadata": {},
   "outputs": [],
   "source": [
    "mlp_architecture = [len(cnc_feature_labels), 128, 128, 2]"
   ]
  },
  {
   "cell_type": "markdown",
   "metadata": {},
   "source": [
    "Instantiate the model"
   ]
  },
  {
   "cell_type": "code",
   "execution_count": 81,
   "metadata": {},
   "outputs": [],
   "source": [
    "mlp_template = MultilayerPerceptronClassifier(\n",
    "    maxIter=100, \n",
    "    layers=mlp_architecture, \n",
    "    blockSize=128, \n",
    "    seed=13579)"
   ]
  },
  {
   "cell_type": "markdown",
   "metadata": {},
   "source": [
    "Train the model (this will take a while...)"
   ]
  },
  {
   "cell_type": "code",
   "execution_count": 82,
   "metadata": {},
   "outputs": [],
   "source": [
    "mlp_model = mlp_template.fit(cnc_train)"
   ]
  },
  {
   "cell_type": "markdown",
   "metadata": {},
   "source": [
    "Validate against the test data"
   ]
  },
  {
   "cell_type": "code",
   "execution_count": 83,
   "metadata": {},
   "outputs": [
    {
     "name": "stdout",
     "output_type": "stream",
     "text": [
      "\n",
      "Validation accuracy: 67.71074245241383%\n",
      "\n"
     ]
    }
   ],
   "source": [
    "validation = mlp_model.transform(cnc_test).select(\"rawPrediction\", \"label\")\n",
    "evaluator = BinaryClassificationEvaluator()\n",
    "\n",
    "print(f\"\\nValidation accuracy: {evaluator.evaluate(validation)*100}%\\n\" )  "
   ]
  },
  {
   "cell_type": "markdown",
   "metadata": {},
   "source": [
    "## PSA: Close your Spark Session!\n",
    "\n",
    "Don't forget to close your session!"
   ]
  },
  {
   "cell_type": "code",
   "execution_count": 84,
   "metadata": {},
   "outputs": [],
   "source": [
    "spark.stop()"
   ]
  },
  {
   "cell_type": "markdown",
   "metadata": {},
   "source": [
    "## Conclusion\n",
    "\n",
    "This has given an overview of the Spark environment. We have covered:\n",
    " *  The conceptual model of Spark and the RDD distributed compute model\n",
    " *  The use of `SparkContext` and `SparkSession` to initiate Spark instances on a cluster\n",
    " *  Transformations, actions and where Spark performs lazy evaluation\n",
    " *  How to create, query and manipulate Spark SQL DataFrames\n",
    " *  How to persist RDD/DataFrame objects to improve performance\n",
    " *  Type conversion and filtering of Spark SQL DataFrames\n",
    " *  How to perform Exploratory Data Analysis (EDA) on large datasets using Spark\n",
    " *  How to create user-defined functions to customize work-flows\n",
    " *  How to perform machine learning, including classification, regression and deep learning using the Spark ML API\n",
    " \n",
    " Hopefully this gives you good fundamentals to explore the Spark framework further!"
   ]
  },
  {
   "cell_type": "code",
   "execution_count": null,
   "metadata": {},
   "outputs": [],
   "source": []
  }
 ],
 "metadata": {
  "kernelspec": {
   "display_name": "Python 3",
   "language": "python",
   "name": "python3"
  },
  "language_info": {
   "codemirror_mode": {
    "name": "ipython",
    "version": 3
   },
   "file_extension": ".py",
   "mimetype": "text/x-python",
   "name": "python",
   "nbconvert_exporter": "python",
   "pygments_lexer": "ipython3",
   "version": "3.6.7"
  },
  "toc": {
   "nav_menu": {},
   "number_sections": true,
   "sideBar": true,
   "skip_h1_title": false,
   "toc_cell": false,
   "toc_position": {
    "height": "552.4px",
    "left": "0px",
    "right": "833.6px",
    "top": "67.6px",
    "width": "212px"
   },
   "toc_section_display": "block",
   "toc_window_display": true
  },
  "varInspector": {
   "cols": {
    "lenName": 16,
    "lenType": 16,
    "lenVar": 40
   },
   "kernels_config": {
    "python": {
     "delete_cmd_postfix": "",
     "delete_cmd_prefix": "del ",
     "library": "var_list.py",
     "varRefreshCmd": "print(var_dic_list())"
    },
    "r": {
     "delete_cmd_postfix": ") ",
     "delete_cmd_prefix": "rm(",
     "library": "var_list.r",
     "varRefreshCmd": "cat(var_dic_list()) "
    }
   },
   "types_to_exclude": [
    "module",
    "function",
    "builtin_function_or_method",
    "instance",
    "_Feature"
   ],
   "window_display": false
  }
 },
 "nbformat": 4,
 "nbformat_minor": 1
}
