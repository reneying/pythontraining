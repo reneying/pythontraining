{
 "cells": [
  {
   "cell_type": "markdown",
   "metadata": {},
   "source": [
    "# Pandas: Data Management 2"
   ]
  },
  {
   "cell_type": "markdown",
   "metadata": {},
   "source": [
    "*Author: Evan Carey*\n",
    "\n",
    "*Copyright 2017-2019, BH Analytics, LLC*"
   ]
  },
  {
   "cell_type": "markdown",
   "metadata": {},
   "source": [
    "## Overview"
   ]
  },
  {
   "cell_type": "markdown",
   "metadata": {},
   "source": [
    "In this section, we will continue coverage of data management using Pandas. \n",
    "\n",
    "Our Objectives for this section are:\n",
    "\n",
    "*  Understand different dtypes in Pandas\n",
    "*  Create new variables\n",
    "*  Manipulate dates"
   ]
  },
  {
   "cell_type": "markdown",
   "metadata": {},
   "source": [
    "## Data for this Session: Healthcare Visits"
   ]
  },
  {
   "cell_type": "markdown",
   "metadata": {},
   "source": [
    "To demonstrate these concepts, we will use some simulated data from a health care system. There are two files we will use throughout this section. \n",
    "\n",
    "*  The first file is called `Patient.csv`, and is information about patients in the healthcare system. There should be one row per patient in this file, so we call this a patient level file. \n",
    "\n",
    "*  The second file is called `OutpatientVisit.csv`, and is information about individual visits to the doctor for patients in the healthcare system. There will be more than one row per patient in this file, since patients can have more than one visit. However, there should only be one row per visit, so we call this a visit-level file. \n",
    "\n",
    "The files are located here: \n",
    "\n",
    "* Data/Data_Sims/healthcare/Patient.csv\n",
    "* Data/Data_Sims/healthcare/OutpatientVisit.csv"
   ]
  },
  {
   "cell_type": "markdown",
   "metadata": {},
   "source": [
    "## Libraries"
   ]
  },
  {
   "cell_type": "code",
   "execution_count": 1,
   "metadata": {},
   "outputs": [],
   "source": [
    "import sys\n",
    "import pandas as pd\n",
    "import matplotlib\n",
    "import matplotlib.pyplot as plt\n",
    "import numpy as np\n",
    "import seaborn as sns\n",
    "import os\n",
    "import textwrap"
   ]
  },
  {
   "cell_type": "code",
   "execution_count": 2,
   "metadata": {},
   "outputs": [],
   "source": [
    "# Enable inline plotting for graphics\n",
    "%matplotlib inline"
   ]
  },
  {
   "cell_type": "markdown",
   "metadata": {},
   "source": [
    "There are a few new packages here we are calling! \n",
    "\n",
    "* Pandas is the data management package that we will focus on. \n",
    "* Numpy is the numerical computation package in Python. You can think of this as part of the engine under the hood of Pandas...\n",
    "* Matplotlib is the main plotting package in Python\n",
    "* Seaborn is an 'add-on' plotting package that is based on Matplotlib. More details on these to come later!"
   ]
  },
  {
   "cell_type": "code",
   "execution_count": 3,
   "metadata": {},
   "outputs": [
    {
     "name": "stdout",
     "output_type": "stream",
     "text": [
      "3.7.3 (default, Mar 27 2019, 17:13:21) [MSC v.1915 64 bit (AMD64)] \n",
      "\n",
      "Pandas version: 0.24.2 \n",
      "\n",
      "Matplotlib version: 3.0.3 \n",
      "\n",
      "Numpy version: 1.16.2 \n",
      "\n",
      "Seaborn version: 0.9.0 \n",
      "\n"
     ]
    }
   ],
   "source": [
    "# Get Version information\n",
    "print(textwrap.fill(sys.version),'\\n')\n",
    "print(\"Pandas version: {0}\".format(pd.__version__),'\\n')\n",
    "print(\"Matplotlib version: {0}\".format(matplotlib.__version__),'\\n')\n",
    "print(\"Numpy version: {0}\".format(np.__version__),'\\n')\n",
    "print(\"Seaborn version: {0}\".format(sns.__version__),'\\n')"
   ]
  },
  {
   "cell_type": "code",
   "execution_count": 4,
   "metadata": {},
   "outputs": [],
   "source": [
    "# So all output comes through from Ipython\n",
    "from IPython.core.interactiveshell import InteractiveShell\n",
    "InteractiveShell.ast_node_interactivity = \"all\""
   ]
  },
  {
   "cell_type": "markdown",
   "metadata": {},
   "source": [
    "## Check your working directory"
   ]
  },
  {
   "cell_type": "markdown",
   "metadata": {},
   "source": [
    "Subsequent sessions may require you to identify and update your working directory so paths correctly point at the downloaded data files. You can check your working directory like so:"
   ]
  },
  {
   "cell_type": "code",
   "execution_count": 1,
   "metadata": {},
   "outputs": [
    {
     "name": "stdout",
     "output_type": "stream",
     "text": [
      "My working directory:\n",
      "/home/ra/host/BH_Analytics/Discover/DataEngineering/notebooks\n",
      "My new working directory:\n",
      "/home/ra/host/BH_Analytics/Discover/DataEngineering\n"
     ]
    }
   ],
   "source": [
    "# Working Directory\n",
    "import os\n",
    "print(\"My working directory:\\n\" + os.getcwd())\n",
    "# Set Working Directory \n",
    "os.chdir(r\"/home/ra/host/BH_Analytics/Discover/DataEngineering/\")\n",
    "print(\"My new working directory:\\n\" + os.getcwd())"
   ]
  },
  {
   "cell_type": "markdown",
   "metadata": {},
   "source": [
    "## Set options"
   ]
  },
  {
   "cell_type": "markdown",
   "metadata": {},
   "source": [
    "Here I set the max printing rows to be 10, so I don't overwhelm the printed workbooks or these presentation materials. You can change this to a larger number since you are running this on your own machine. "
   ]
  },
  {
   "cell_type": "code",
   "execution_count": 6,
   "metadata": {},
   "outputs": [],
   "source": [
    "pd.options.display.max_rows = 10"
   ]
  },
  {
   "cell_type": "markdown",
   "metadata": {
    "collapsed": true
   },
   "source": [
    "## Importing structured data"
   ]
  },
  {
   "cell_type": "markdown",
   "metadata": {},
   "source": [
    "We will import the data first. "
   ]
  },
  {
   "cell_type": "code",
   "execution_count": 5,
   "metadata": {},
   "outputs": [],
   "source": [
    "## import data\n",
    "df_patient = pd.read_csv(\"data/Data_Sims/healthcare/Patient.csv\")\n",
    "df_visits = pd.read_csv(\"data/Data_Sims/healthcare/OutpatientVisit.csv\")"
   ]
  },
  {
   "cell_type": "markdown",
   "metadata": {},
   "source": [
    "Following import, you can examine the top and bottom of the dataframe simply by calling the object:"
   ]
  },
  {
   "cell_type": "code",
   "execution_count": 8,
   "metadata": {},
   "outputs": [
    {
     "data": {
      "text/html": [
       "<div>\n",
       "<style scoped>\n",
       "    .dataframe tbody tr th:only-of-type {\n",
       "        vertical-align: middle;\n",
       "    }\n",
       "\n",
       "    .dataframe tbody tr th {\n",
       "        vertical-align: top;\n",
       "    }\n",
       "\n",
       "    .dataframe thead th {\n",
       "        text-align: right;\n",
       "    }\n",
       "</style>\n",
       "<table border=\"1\" class=\"dataframe\">\n",
       "  <thead>\n",
       "    <tr style=\"text-align: right;\">\n",
       "      <th></th>\n",
       "      <th>PatientID</th>\n",
       "      <th>FirstName</th>\n",
       "      <th>LastName</th>\n",
       "      <th>State</th>\n",
       "      <th>ZipCode</th>\n",
       "      <th>DateOfBirth</th>\n",
       "      <th>Gender</th>\n",
       "      <th>Race</th>\n",
       "      <th>Income</th>\n",
       "    </tr>\n",
       "  </thead>\n",
       "  <tbody>\n",
       "    <tr>\n",
       "      <th>0</th>\n",
       "      <td>1</td>\n",
       "      <td>Loretta</td>\n",
       "      <td>Gunter</td>\n",
       "      <td>FL</td>\n",
       "      <td>32250</td>\n",
       "      <td>1979-03-29</td>\n",
       "      <td>female</td>\n",
       "      <td>white</td>\n",
       "      <td>29.0</td>\n",
       "    </tr>\n",
       "    <tr>\n",
       "      <th>1</th>\n",
       "      <td>2</td>\n",
       "      <td>Todd</td>\n",
       "      <td>Rea</td>\n",
       "      <td>TX</td>\n",
       "      <td>79602</td>\n",
       "      <td>1936-12-20</td>\n",
       "      <td>male</td>\n",
       "      <td>Missing</td>\n",
       "      <td>NaN</td>\n",
       "    </tr>\n",
       "    <tr>\n",
       "      <th>2</th>\n",
       "      <td>3</td>\n",
       "      <td>Margaret</td>\n",
       "      <td>Goodwin</td>\n",
       "      <td>PA</td>\n",
       "      <td>18106</td>\n",
       "      <td>1948-04-19</td>\n",
       "      <td>female</td>\n",
       "      <td>hispanic</td>\n",
       "      <td>53.0</td>\n",
       "    </tr>\n",
       "    <tr>\n",
       "      <th>3</th>\n",
       "      <td>4</td>\n",
       "      <td>Anna</td>\n",
       "      <td>McCullough</td>\n",
       "      <td>TX</td>\n",
       "      <td>75039</td>\n",
       "      <td>1997-08-28</td>\n",
       "      <td>female</td>\n",
       "      <td>Missing</td>\n",
       "      <td>20.0</td>\n",
       "    </tr>\n",
       "    <tr>\n",
       "      <th>4</th>\n",
       "      <td>5</td>\n",
       "      <td>Glenn</td>\n",
       "      <td>Labrecque</td>\n",
       "      <td>NM</td>\n",
       "      <td>87102</td>\n",
       "      <td>1985-08-19</td>\n",
       "      <td>male</td>\n",
       "      <td>Missing</td>\n",
       "      <td>48.0</td>\n",
       "    </tr>\n",
       "    <tr>\n",
       "      <th>...</th>\n",
       "      <td>...</td>\n",
       "      <td>...</td>\n",
       "      <td>...</td>\n",
       "      <td>...</td>\n",
       "      <td>...</td>\n",
       "      <td>...</td>\n",
       "      <td>...</td>\n",
       "      <td>...</td>\n",
       "      <td>...</td>\n",
       "    </tr>\n",
       "    <tr>\n",
       "      <th>19995</th>\n",
       "      <td>19996</td>\n",
       "      <td>Lucia</td>\n",
       "      <td>Atkins</td>\n",
       "      <td>MI</td>\n",
       "      <td>49546</td>\n",
       "      <td>1970-01-26</td>\n",
       "      <td>female</td>\n",
       "      <td>white</td>\n",
       "      <td>166.0</td>\n",
       "    </tr>\n",
       "    <tr>\n",
       "      <th>19996</th>\n",
       "      <td>19997</td>\n",
       "      <td>Wilfredo</td>\n",
       "      <td>Reinhardt</td>\n",
       "      <td>CO</td>\n",
       "      <td>80112</td>\n",
       "      <td>1950-02-23</td>\n",
       "      <td>male</td>\n",
       "      <td>other</td>\n",
       "      <td>31.0</td>\n",
       "    </tr>\n",
       "    <tr>\n",
       "      <th>19997</th>\n",
       "      <td>19998</td>\n",
       "      <td>Thanh</td>\n",
       "      <td>Large</td>\n",
       "      <td>FL</td>\n",
       "      <td>33912</td>\n",
       "      <td>1957-11-24</td>\n",
       "      <td>male</td>\n",
       "      <td>black</td>\n",
       "      <td>60.0</td>\n",
       "    </tr>\n",
       "    <tr>\n",
       "      <th>19998</th>\n",
       "      <td>19999</td>\n",
       "      <td>Deidre</td>\n",
       "      <td>Croft</td>\n",
       "      <td>GA</td>\n",
       "      <td>30303</td>\n",
       "      <td>1965-01-24</td>\n",
       "      <td>female</td>\n",
       "      <td>Unknown</td>\n",
       "      <td>NaN</td>\n",
       "    </tr>\n",
       "    <tr>\n",
       "      <th>19999</th>\n",
       "      <td>20000</td>\n",
       "      <td>George</td>\n",
       "      <td>Pena</td>\n",
       "      <td>GA</td>\n",
       "      <td>30705</td>\n",
       "      <td>NaN</td>\n",
       "      <td>male</td>\n",
       "      <td>Missing</td>\n",
       "      <td>59.0</td>\n",
       "    </tr>\n",
       "  </tbody>\n",
       "</table>\n",
       "<p>20000 rows × 9 columns</p>\n",
       "</div>"
      ],
      "text/plain": [
       "       PatientID FirstName    LastName State  ZipCode DateOfBirth  Gender  \\\n",
       "0              1   Loretta      Gunter    FL    32250  1979-03-29  female   \n",
       "1              2      Todd         Rea    TX    79602  1936-12-20    male   \n",
       "2              3  Margaret     Goodwin    PA    18106  1948-04-19  female   \n",
       "3              4      Anna  McCullough    TX    75039  1997-08-28  female   \n",
       "4              5     Glenn   Labrecque    NM    87102  1985-08-19    male   \n",
       "...          ...       ...         ...   ...      ...         ...     ...   \n",
       "19995      19996     Lucia      Atkins    MI    49546  1970-01-26  female   \n",
       "19996      19997  Wilfredo   Reinhardt    CO    80112  1950-02-23    male   \n",
       "19997      19998     Thanh       Large    FL    33912  1957-11-24    male   \n",
       "19998      19999    Deidre       Croft    GA    30303  1965-01-24  female   \n",
       "19999      20000    George        Pena    GA    30705         NaN    male   \n",
       "\n",
       "           Race  Income  \n",
       "0         white    29.0  \n",
       "1       Missing     NaN  \n",
       "2      hispanic    53.0  \n",
       "3       Missing    20.0  \n",
       "4       Missing    48.0  \n",
       "...         ...     ...  \n",
       "19995     white   166.0  \n",
       "19996     other    31.0  \n",
       "19997     black    60.0  \n",
       "19998   Unknown     NaN  \n",
       "19999   Missing    59.0  \n",
       "\n",
       "[20000 rows x 9 columns]"
      ]
     },
     "execution_count": 8,
     "metadata": {},
     "output_type": "execute_result"
    }
   ],
   "source": [
    "df_patient"
   ]
  },
  {
   "cell_type": "code",
   "execution_count": 9,
   "metadata": {},
   "outputs": [
    {
     "data": {
      "text/html": [
       "<div>\n",
       "<style scoped>\n",
       "    .dataframe tbody tr th:only-of-type {\n",
       "        vertical-align: middle;\n",
       "    }\n",
       "\n",
       "    .dataframe tbody tr th {\n",
       "        vertical-align: top;\n",
       "    }\n",
       "\n",
       "    .dataframe thead th {\n",
       "        text-align: right;\n",
       "    }\n",
       "</style>\n",
       "<table border=\"1\" class=\"dataframe\">\n",
       "  <thead>\n",
       "    <tr style=\"text-align: right;\">\n",
       "      <th></th>\n",
       "      <th>VisitID</th>\n",
       "      <th>StaffID</th>\n",
       "      <th>PatientID</th>\n",
       "      <th>VisitDate</th>\n",
       "      <th>ICD10_1</th>\n",
       "      <th>ICD10_2</th>\n",
       "      <th>ICD10_3</th>\n",
       "      <th>ClinicCode</th>\n",
       "    </tr>\n",
       "  </thead>\n",
       "  <tbody>\n",
       "    <tr>\n",
       "      <th>0</th>\n",
       "      <td>1</td>\n",
       "      <td>24</td>\n",
       "      <td>1</td>\n",
       "      <td>2011-08-05</td>\n",
       "      <td>G801</td>\n",
       "      <td>NaN</td>\n",
       "      <td>NaN</td>\n",
       "      <td>7</td>\n",
       "    </tr>\n",
       "    <tr>\n",
       "      <th>1</th>\n",
       "      <td>2</td>\n",
       "      <td>13</td>\n",
       "      <td>1</td>\n",
       "      <td>2013-06-15</td>\n",
       "      <td>G801</td>\n",
       "      <td>NaN</td>\n",
       "      <td>NaN</td>\n",
       "      <td>49</td>\n",
       "    </tr>\n",
       "    <tr>\n",
       "      <th>2</th>\n",
       "      <td>3</td>\n",
       "      <td>36</td>\n",
       "      <td>1</td>\n",
       "      <td>2013-12-28</td>\n",
       "      <td>G801</td>\n",
       "      <td>NaN</td>\n",
       "      <td>NaN</td>\n",
       "      <td>42</td>\n",
       "    </tr>\n",
       "    <tr>\n",
       "      <th>3</th>\n",
       "      <td>4</td>\n",
       "      <td>14</td>\n",
       "      <td>1</td>\n",
       "      <td>2014-10-21</td>\n",
       "      <td>G801</td>\n",
       "      <td>NaN</td>\n",
       "      <td>NaN</td>\n",
       "      <td>29</td>\n",
       "    </tr>\n",
       "    <tr>\n",
       "      <th>4</th>\n",
       "      <td>5</td>\n",
       "      <td>45</td>\n",
       "      <td>1</td>\n",
       "      <td>2015-05-11</td>\n",
       "      <td>G801</td>\n",
       "      <td>NaN</td>\n",
       "      <td>NaN</td>\n",
       "      <td>21</td>\n",
       "    </tr>\n",
       "    <tr>\n",
       "      <th>...</th>\n",
       "      <td>...</td>\n",
       "      <td>...</td>\n",
       "      <td>...</td>\n",
       "      <td>...</td>\n",
       "      <td>...</td>\n",
       "      <td>...</td>\n",
       "      <td>...</td>\n",
       "      <td>...</td>\n",
       "    </tr>\n",
       "    <tr>\n",
       "      <th>181391</th>\n",
       "      <td>181392</td>\n",
       "      <td>44</td>\n",
       "      <td>20000</td>\n",
       "      <td>2011-08-26</td>\n",
       "      <td>E1322</td>\n",
       "      <td>NaN</td>\n",
       "      <td>NaN</td>\n",
       "      <td>17</td>\n",
       "    </tr>\n",
       "    <tr>\n",
       "      <th>181392</th>\n",
       "      <td>181393</td>\n",
       "      <td>28</td>\n",
       "      <td>20000</td>\n",
       "      <td>2012-01-05</td>\n",
       "      <td>E1322</td>\n",
       "      <td>NaN</td>\n",
       "      <td>NaN</td>\n",
       "      <td>57</td>\n",
       "    </tr>\n",
       "    <tr>\n",
       "      <th>181393</th>\n",
       "      <td>181394</td>\n",
       "      <td>32</td>\n",
       "      <td>20000</td>\n",
       "      <td>2012-01-23</td>\n",
       "      <td>E1322</td>\n",
       "      <td>NaN</td>\n",
       "      <td>NaN</td>\n",
       "      <td>15</td>\n",
       "    </tr>\n",
       "    <tr>\n",
       "      <th>181394</th>\n",
       "      <td>181395</td>\n",
       "      <td>38</td>\n",
       "      <td>20000</td>\n",
       "      <td>2012-05-10</td>\n",
       "      <td>E1322</td>\n",
       "      <td>NaN</td>\n",
       "      <td>NaN</td>\n",
       "      <td>1</td>\n",
       "    </tr>\n",
       "    <tr>\n",
       "      <th>181395</th>\n",
       "      <td>181396</td>\n",
       "      <td>39</td>\n",
       "      <td>20000</td>\n",
       "      <td>2013-09-25</td>\n",
       "      <td>E1322</td>\n",
       "      <td>NaN</td>\n",
       "      <td>NaN</td>\n",
       "      <td>33</td>\n",
       "    </tr>\n",
       "  </tbody>\n",
       "</table>\n",
       "<p>181396 rows × 8 columns</p>\n",
       "</div>"
      ],
      "text/plain": [
       "        VisitID  StaffID  PatientID   VisitDate ICD10_1 ICD10_2 ICD10_3  \\\n",
       "0             1       24          1  2011-08-05    G801     NaN     NaN   \n",
       "1             2       13          1  2013-06-15    G801     NaN     NaN   \n",
       "2             3       36          1  2013-12-28    G801     NaN     NaN   \n",
       "3             4       14          1  2014-10-21    G801     NaN     NaN   \n",
       "4             5       45          1  2015-05-11    G801     NaN     NaN   \n",
       "...         ...      ...        ...         ...     ...     ...     ...   \n",
       "181391   181392       44      20000  2011-08-26   E1322     NaN     NaN   \n",
       "181392   181393       28      20000  2012-01-05   E1322     NaN     NaN   \n",
       "181393   181394       32      20000  2012-01-23   E1322     NaN     NaN   \n",
       "181394   181395       38      20000  2012-05-10   E1322     NaN     NaN   \n",
       "181395   181396       39      20000  2013-09-25   E1322     NaN     NaN   \n",
       "\n",
       "        ClinicCode  \n",
       "0                7  \n",
       "1               49  \n",
       "2               42  \n",
       "3               29  \n",
       "4               21  \n",
       "...            ...  \n",
       "181391          17  \n",
       "181392          57  \n",
       "181393          15  \n",
       "181394           1  \n",
       "181395          33  \n",
       "\n",
       "[181396 rows x 8 columns]"
      ]
     },
     "execution_count": 9,
     "metadata": {},
     "output_type": "execute_result"
    }
   ],
   "source": [
    "df_visits"
   ]
  },
  {
   "cell_type": "markdown",
   "metadata": {},
   "source": [
    "## Dtypes in Pandas"
   ]
  },
  {
   "cell_type": "markdown",
   "metadata": {},
   "source": [
    "Now that you have a better understanding of how Dataframes and Series work, let's discuss the different type of data in Pandas. \n",
    "\n",
    "One advantage of the Pandas dataframe is that we can include that is of different types. For example, we can have...\n",
    "* a column of integers (like Patient ID)  \n",
    "* a column of floats (like Income)  \n",
    "* a column of text data (like Name)  \n",
    "* and a column of dates (like date of Birth)  \n",
    "\n",
    "This would not be possible using Numpy ndarrays - Numpy arrays must all be one type. \n",
    "\n",
    "Pandas has the following dtypes we will review:\n",
    "\n",
    "* Float  \n",
    "* int  \n",
    "* bool  \n",
    "* datetime  \n",
    "* category  \n",
    "* object (this is the string dtype)\n",
    "\n",
    "We can also specify the length, default is 64."
   ]
  },
  {
   "cell_type": "code",
   "execution_count": 10,
   "metadata": {},
   "outputs": [
    {
     "data": {
      "text/plain": [
       "PatientID        int64\n",
       "FirstName       object\n",
       "LastName        object\n",
       "State           object\n",
       "ZipCode          int64\n",
       "DateOfBirth     object\n",
       "Gender          object\n",
       "Race            object\n",
       "Income         float64\n",
       "dtype: object"
      ]
     },
     "execution_count": 10,
     "metadata": {},
     "output_type": "execute_result"
    }
   ],
   "source": [
    "# default length is int64 and float64\n",
    "df_patient.dtypes"
   ]
  },
  {
   "cell_type": "code",
   "execution_count": 11,
   "metadata": {},
   "outputs": [
    {
     "data": {
      "text/plain": [
       "float64    1\n",
       "int64      2\n",
       "object     6\n",
       "dtype: int64"
      ]
     },
     "execution_count": 11,
     "metadata": {},
     "output_type": "execute_result"
    }
   ],
   "source": [
    "df_patient.get_dtype_counts()"
   ]
  },
  {
   "cell_type": "markdown",
   "metadata": {},
   "source": [
    "You can also ask the dtype of a series:"
   ]
  },
  {
   "cell_type": "code",
   "execution_count": 12,
   "metadata": {},
   "outputs": [
    {
     "data": {
      "text/plain": [
       "dtype('float64')"
      ]
     },
     "execution_count": 12,
     "metadata": {},
     "output_type": "execute_result"
    }
   ],
   "source": [
    "df_patient['Income'].dtypes"
   ]
  },
  {
   "cell_type": "code",
   "execution_count": 13,
   "metadata": {},
   "outputs": [
    {
     "data": {
      "text/plain": [
       "dtype('O')"
      ]
     },
     "execution_count": 13,
     "metadata": {},
     "output_type": "execute_result"
    }
   ],
   "source": [
    "df_patient['FirstName'].dtypes"
   ]
  },
  {
   "cell_type": "markdown",
   "metadata": {},
   "source": [
    "One of our first steps after importing and examining data is to establish the correct data types, and convert them as needed."
   ]
  },
  {
   "cell_type": "markdown",
   "metadata": {},
   "source": [
    "## Type Conversion in pandas"
   ]
  },
  {
   "cell_type": "markdown",
   "metadata": {},
   "source": [
    "We can convert amongst dtypes with the `astype()` method.\n",
    "\n",
    "Object dtype:\n",
    "\n",
    "* The is the most general dtype.\n",
    "* Strings are typically objects on import.\n",
    "\n",
    "Why would we want to convert the PatientID to an Object dtype?  \n",
    "I like to do this so later analytic routines and code will not accidentally treat it as a number, and do math on it! For example, the mean value of PatientID makes no sense. \n",
    "\n",
    "After you import and examine your data, one of your first steps should be to check the dtpyes, and convert them as needed. "
   ]
  },
  {
   "cell_type": "code",
   "execution_count": 6,
   "metadata": {},
   "outputs": [],
   "source": [
    "# explicit conversion with astype\n",
    "df_patient['PatientID'] = df_patient['PatientID'].astype('object')"
   ]
  },
  {
   "cell_type": "markdown",
   "metadata": {},
   "source": [
    "## Numeric Dtypes"
   ]
  },
  {
   "cell_type": "markdown",
   "metadata": {},
   "source": [
    "Numeric dtypes are represented as either floats or integers in Pandas. Integer are often 'faster' than floats in many compute operations, which is one of the reasons for the two classes.  \n",
    "\n",
    "Type conversion is straightforward.."
   ]
  },
  {
   "cell_type": "code",
   "execution_count": 15,
   "metadata": {},
   "outputs": [
    {
     "data": {
      "text/plain": [
       "0            1\n",
       "1            2\n",
       "2            3\n",
       "3            4\n",
       "4            5\n",
       "         ...  \n",
       "19995    19996\n",
       "19996    19997\n",
       "19997    19998\n",
       "19998    19999\n",
       "19999    20000\n",
       "Name: PatientID, Length: 20000, dtype: int64"
      ]
     },
     "execution_count": 15,
     "metadata": {},
     "output_type": "execute_result"
    },
    {
     "data": {
      "text/plain": [
       "0            1.0\n",
       "1            2.0\n",
       "2            3.0\n",
       "3            4.0\n",
       "4            5.0\n",
       "          ...   \n",
       "19995    19996.0\n",
       "19996    19997.0\n",
       "19997    19998.0\n",
       "19998    19999.0\n",
       "19999    20000.0\n",
       "Name: PatientID, Length: 20000, dtype: float64"
      ]
     },
     "execution_count": 15,
     "metadata": {},
     "output_type": "execute_result"
    }
   ],
   "source": [
    "# You can convert it back to a float or an integer like this:\n",
    "df_patient['PatientID'].astype('int64')\n",
    "df_patient['PatientID'].astype('float64')"
   ]
  },
  {
   "cell_type": "code",
   "execution_count": 16,
   "metadata": {},
   "outputs": [
    {
     "data": {
      "text/plain": [
       "0            1\n",
       "1            2\n",
       "2            3\n",
       "3            4\n",
       "4            5\n",
       "         ...  \n",
       "19995    19996\n",
       "19996    19997\n",
       "19997    19998\n",
       "19998    19999\n",
       "19999    20000\n",
       "Name: PatientID, Length: 20000, dtype: int64"
      ]
     },
     "execution_count": 16,
     "metadata": {},
     "output_type": "execute_result"
    }
   ],
   "source": [
    "# or more generally with to_numeric()\n",
    "pd.to_numeric(df_patient['PatientID'])"
   ]
  },
  {
   "cell_type": "markdown",
   "metadata": {},
   "source": [
    "## Category Dtype"
   ]
  },
  {
   "cell_type": "markdown",
   "metadata": {},
   "source": [
    "A central dtype in Pandas is called the 'Category' dtype. \n",
    "\n",
    "The category dtype is a lookup table, where there is a fixed number of unique values, potentially with a specified order.\n",
    "\n",
    "We use the category dtype for variables like gender, race, or credit score category. Variables we consider to be traits of our data, and we might make a table out of them.\n",
    "\n",
    "We would not use the category dtype for variables like address, or full name. Those data elements have far too many unique values!"
   ]
  },
  {
   "cell_type": "code",
   "execution_count": 17,
   "metadata": {},
   "outputs": [
    {
     "data": {
      "text/plain": [
       "dtype('O')"
      ]
     },
     "execution_count": 17,
     "metadata": {},
     "output_type": "execute_result"
    }
   ],
   "source": [
    "## Categorical Dtype\n",
    "df_patient['Gender'].dtypes"
   ]
  },
  {
   "cell_type": "markdown",
   "metadata": {},
   "source": [
    "You can convert (type cast) to category using `pd.Categorical()` or `.astype('category')`"
   ]
  },
  {
   "cell_type": "code",
   "execution_count": 7,
   "metadata": {},
   "outputs": [
    {
     "data": {
      "text/plain": [
       "0           white\n",
       "1         Missing\n",
       "2        hispanic\n",
       "3         Missing\n",
       "4         Missing\n",
       "5           white\n",
       "6           black\n",
       "7           white\n",
       "8                \n",
       "9        hispanic\n",
       "10               \n",
       "11          white\n",
       "12          other\n",
       "13          white\n",
       "14        Missing\n",
       "15               \n",
       "16          white\n",
       "17          white\n",
       "18        Missing\n",
       "19          black\n",
       "20          white\n",
       "21          white\n",
       "22       hispanic\n",
       "23          white\n",
       "24          other\n",
       "25          black\n",
       "26        Unknown\n",
       "27       hispanic\n",
       "28          white\n",
       "29          white\n",
       "           ...   \n",
       "19970     Missing\n",
       "19971       white\n",
       "19972       white\n",
       "19973    hispanic\n",
       "19974       black\n",
       "19975       white\n",
       "19976     Missing\n",
       "19977       other\n",
       "19978       white\n",
       "19979       white\n",
       "19980     Missing\n",
       "19981       white\n",
       "19982       white\n",
       "19983            \n",
       "19984            \n",
       "19985     Missing\n",
       "19986       white\n",
       "19987            \n",
       "19988       black\n",
       "19989    hispanic\n",
       "19990       white\n",
       "19991       other\n",
       "19992     Missing\n",
       "19993       black\n",
       "19994       black\n",
       "19995       white\n",
       "19996       other\n",
       "19997       black\n",
       "19998     Unknown\n",
       "19999     Missing\n",
       "Name: Race_cat, Length: 20000, dtype: category\n",
       "Categories (9, object): [, 999, ?, Missing, ..., black, hispanic, other, white]"
      ]
     },
     "execution_count": 7,
     "metadata": {},
     "output_type": "execute_result"
    }
   ],
   "source": [
    "df_patient['Race_cat'] = df_patient['Race'].astype('category')\n",
    "df_patient['Race_cat']"
   ]
  },
  {
   "cell_type": "markdown",
   "metadata": {},
   "source": [
    "There is an issue with this data. Why are there 9 unique values of Race? We typically need to clean our data after import, and this data is no different. It looks like there are some odd race values, which should be considered missing values. We will discuss missing values more in depth later."
   ]
  },
  {
   "cell_type": "code",
   "execution_count": 19,
   "metadata": {},
   "outputs": [
    {
     "data": {
      "text/plain": [
       "[white, Missing, hispanic, black, , other, Unknown, NaN, 999, ?]\n",
       "Categories (9, object): [white, Missing, hispanic, black, ..., other, Unknown, 999, ?]"
      ]
     },
     "execution_count": 19,
     "metadata": {},
     "output_type": "execute_result"
    },
    {
     "data": {
      "text/plain": [
       "white       8191\n",
       "hispanic    2773\n",
       "black       2020\n",
       "            1971\n",
       "Missing     1791\n",
       "other       1413\n",
       "Unknown      789\n",
       "999          154\n",
       "?            152\n",
       "Name: Race_cat, dtype: int64"
      ]
     },
     "execution_count": 19,
     "metadata": {},
     "output_type": "execute_result"
    }
   ],
   "source": [
    "# Why is there a 999, and a `?`\n",
    "df_patient['Race_cat'].unique()\n",
    "df_patient['Race_cat'].value_counts()"
   ]
  },
  {
   "cell_type": "code",
   "execution_count": 20,
   "metadata": {},
   "outputs": [
    {
     "data": {
      "text/plain": [
       "white       8191\n",
       "hispanic    2773\n",
       "black       2020\n",
       "            1971\n",
       "Missing     1791\n",
       "other       1413\n",
       "Unknown      789\n",
       "NaN          746\n",
       "999          154\n",
       "?            152\n",
       "Name: Race_cat, dtype: int64"
      ]
     },
     "execution_count": 20,
     "metadata": {},
     "output_type": "execute_result"
    }
   ],
   "source": [
    "# include missing\n",
    "df_patient['Race_cat'].value_counts(dropna=False)"
   ]
  },
  {
   "cell_type": "markdown",
   "metadata": {},
   "source": [
    "We need to set the 999 values, the 'unknown', and the '?' values to be missing. You could do this overtly using code like this, with the `.isin()` method:"
   ]
  },
  {
   "cell_type": "code",
   "execution_count": 8,
   "metadata": {},
   "outputs": [],
   "source": [
    "# Make new var\n",
    "df_patient['Race2'] = df_patient['Race']\n",
    "df_patient.loc[df_patient['Race2'].isin(['?', 'Unknown', '999', ' ', 'Missing']), 'Race2'] = np.NaN\n",
    "\n",
    "# Check if fixed\n",
    "df_patient['Race2'].value_counts(dropna=False)\n",
    "\n",
    "# Remove that var\n",
    "del df_patient['Race2']"
   ]
  },
  {
   "cell_type": "markdown",
   "metadata": {},
   "source": [
    "Or you could do it implicitly by identifying valid category levels, and implicitly setting other levels (anything not listed) to missing (`Nan`)."
   ]
  },
  {
   "cell_type": "code",
   "execution_count": 9,
   "metadata": {},
   "outputs": [],
   "source": [
    "# Change the 999, '?', and 'unknown' to missing \n",
    "df_patient['Race_cat'] = \\\n",
    "    pd.Categorical(df_patient['Race'],\n",
    "                   categories=['other', 'hispanic', 'white', 'black'])"
   ]
  },
  {
   "cell_type": "code",
   "execution_count": 23,
   "metadata": {},
   "outputs": [
    {
     "data": {
      "text/plain": [
       "white       8191\n",
       "NaN         5603\n",
       "hispanic    2773\n",
       "black       2020\n",
       "other       1413\n",
       "Name: Race_cat, dtype: int64"
      ]
     },
     "execution_count": 23,
     "metadata": {},
     "output_type": "execute_result"
    }
   ],
   "source": [
    "# Verify its fixed\n",
    "df_patient['Race_cat'].value_counts(dropna=False)"
   ]
  },
  {
   "cell_type": "markdown",
   "metadata": {},
   "source": [
    "## Date-times in Pandas"
   ]
  },
  {
   "cell_type": "markdown",
   "metadata": {},
   "source": [
    "Any date or date-time variables need to be coerced into an actual datetime variable after import. \n",
    "\n",
    "Here is a question for you: \n",
    "> Are Dates stored as strings, or as numbers on a computer?\n",
    "\n",
    "The answer is sort of both...dates are stored as the number of days since some index date, and datetimes are stored as the number of seconds since some index date. In Python, that index date is 1970-01-01, but that doesn't often matter in your code. When you import date data to Python, it should be expressed as a text string. We will then convert it to a Pandas date object. \n",
    "\n",
    "We can create datetimes easily with `pd.to_datetime()`"
   ]
  },
  {
   "cell_type": "code",
   "execution_count": 24,
   "metadata": {},
   "outputs": [
    {
     "data": {
      "text/plain": [
       "0    1979-03-29\n",
       "1    1936-12-20\n",
       "2    1948-04-19\n",
       "3    1997-08-28\n",
       "4    1985-08-19\n",
       "Name: DateOfBirth, dtype: object"
      ]
     },
     "execution_count": 24,
     "metadata": {},
     "output_type": "execute_result"
    }
   ],
   "source": [
    "## Datetime dtype \n",
    "# Coerce to date time\n",
    "df_patient['DateOfBirth'].head(5)"
   ]
  },
  {
   "cell_type": "markdown",
   "metadata": {},
   "source": [
    "I like to save them as a new column, then compare to make sure there were no errors. Notice these dates are in the standard `YYYY/MM/DD` format "
   ]
  },
  {
   "cell_type": "code",
   "execution_count": 25,
   "metadata": {},
   "outputs": [],
   "source": [
    "# Autodetection works here\n",
    "df_patient['DateOfBirth_dt'] = pd.to_datetime(df_patient['DateOfBirth'])"
   ]
  },
  {
   "cell_type": "code",
   "execution_count": 26,
   "metadata": {},
   "outputs": [
    {
     "data": {
      "text/html": [
       "<div>\n",
       "<style scoped>\n",
       "    .dataframe tbody tr th:only-of-type {\n",
       "        vertical-align: middle;\n",
       "    }\n",
       "\n",
       "    .dataframe tbody tr th {\n",
       "        vertical-align: top;\n",
       "    }\n",
       "\n",
       "    .dataframe thead th {\n",
       "        text-align: right;\n",
       "    }\n",
       "</style>\n",
       "<table border=\"1\" class=\"dataframe\">\n",
       "  <thead>\n",
       "    <tr style=\"text-align: right;\">\n",
       "      <th></th>\n",
       "      <th>DateOfBirth_dt</th>\n",
       "      <th>DateOfBirth</th>\n",
       "    </tr>\n",
       "  </thead>\n",
       "  <tbody>\n",
       "    <tr>\n",
       "      <th>0</th>\n",
       "      <td>1979-03-29</td>\n",
       "      <td>1979-03-29</td>\n",
       "    </tr>\n",
       "    <tr>\n",
       "      <th>1</th>\n",
       "      <td>1936-12-20</td>\n",
       "      <td>1936-12-20</td>\n",
       "    </tr>\n",
       "    <tr>\n",
       "      <th>2</th>\n",
       "      <td>1948-04-19</td>\n",
       "      <td>1948-04-19</td>\n",
       "    </tr>\n",
       "    <tr>\n",
       "      <th>3</th>\n",
       "      <td>1997-08-28</td>\n",
       "      <td>1997-08-28</td>\n",
       "    </tr>\n",
       "    <tr>\n",
       "      <th>4</th>\n",
       "      <td>1985-08-19</td>\n",
       "      <td>1985-08-19</td>\n",
       "    </tr>\n",
       "    <tr>\n",
       "      <th>...</th>\n",
       "      <td>...</td>\n",
       "      <td>...</td>\n",
       "    </tr>\n",
       "    <tr>\n",
       "      <th>19995</th>\n",
       "      <td>1970-01-26</td>\n",
       "      <td>1970-01-26</td>\n",
       "    </tr>\n",
       "    <tr>\n",
       "      <th>19996</th>\n",
       "      <td>1950-02-23</td>\n",
       "      <td>1950-02-23</td>\n",
       "    </tr>\n",
       "    <tr>\n",
       "      <th>19997</th>\n",
       "      <td>1957-11-24</td>\n",
       "      <td>1957-11-24</td>\n",
       "    </tr>\n",
       "    <tr>\n",
       "      <th>19998</th>\n",
       "      <td>1965-01-24</td>\n",
       "      <td>1965-01-24</td>\n",
       "    </tr>\n",
       "    <tr>\n",
       "      <th>19999</th>\n",
       "      <td>NaT</td>\n",
       "      <td>NaN</td>\n",
       "    </tr>\n",
       "  </tbody>\n",
       "</table>\n",
       "<p>20000 rows × 2 columns</p>\n",
       "</div>"
      ],
      "text/plain": [
       "      DateOfBirth_dt DateOfBirth\n",
       "0         1979-03-29  1979-03-29\n",
       "1         1936-12-20  1936-12-20\n",
       "2         1948-04-19  1948-04-19\n",
       "3         1997-08-28  1997-08-28\n",
       "4         1985-08-19  1985-08-19\n",
       "...              ...         ...\n",
       "19995     1970-01-26  1970-01-26\n",
       "19996     1950-02-23  1950-02-23\n",
       "19997     1957-11-24  1957-11-24\n",
       "19998     1965-01-24  1965-01-24\n",
       "19999            NaT         NaN\n",
       "\n",
       "[20000 rows x 2 columns]"
      ]
     },
     "execution_count": 26,
     "metadata": {},
     "output_type": "execute_result"
    }
   ],
   "source": [
    "df_patient.loc[:, ['DateOfBirth_dt', 'DateOfBirth']]"
   ]
  },
  {
   "cell_type": "markdown",
   "metadata": {},
   "source": [
    "This auto-detection will not always work..."
   ]
  },
  {
   "cell_type": "code",
   "execution_count": 27,
   "metadata": {},
   "outputs": [
    {
     "data": {
      "text/plain": [
       "0   2010-12-25\n",
       "1   2010-12-25\n",
       "2   2010-12-25\n",
       "dtype: datetime64[ns]"
      ]
     },
     "execution_count": 27,
     "metadata": {},
     "output_type": "execute_result"
    }
   ],
   "source": [
    "## Will not always work...\n",
    "pd.to_datetime(pd.Series([\"2010/12/25\", \"12/25/2010\", \"25/12/2010\"]))"
   ]
  },
  {
   "cell_type": "code",
   "execution_count": 28,
   "metadata": {},
   "outputs": [
    {
     "data": {
      "text/plain": [
       "0   2010-12-07\n",
       "1   2010-12-07\n",
       "2   2010-07-12\n",
       "dtype: datetime64[ns]"
      ]
     },
     "execution_count": 28,
     "metadata": {},
     "output_type": "execute_result"
    }
   ],
   "source": [
    "pd.to_datetime(pd.Series([\"2010/12/07\", \"12/7/2010\", \"7/12/2010\"]))"
   ]
  },
  {
   "cell_type": "markdown",
   "metadata": {},
   "source": [
    "If your dates are in a consistent format, the autodetection will generally work fine. But it is slower to force Pandas to 'guess' the format."
   ]
  },
  {
   "cell_type": "markdown",
   "metadata": {},
   "source": [
    "## Datetimes Formating\n",
    "\n",
    "Use the format argument to exactly specify the *incoming* date format."
   ]
  },
  {
   "cell_type": "code",
   "execution_count": 29,
   "metadata": {},
   "outputs": [
    {
     "data": {
      "text/plain": [
       "0       1979-03-29\n",
       "1       1936-12-20\n",
       "2       1948-04-19\n",
       "3       1997-08-28\n",
       "4       1985-08-19\n",
       "           ...    \n",
       "19995   1970-01-26\n",
       "19996   1950-02-23\n",
       "19997   1957-11-24\n",
       "19998   1965-01-24\n",
       "19999          NaT\n",
       "Name: DateOfBirth, Length: 20000, dtype: datetime64[ns]"
      ]
     },
     "execution_count": 29,
     "metadata": {},
     "output_type": "execute_result"
    }
   ],
   "source": [
    "# Specify format (faster execution)\n",
    "pd.to_datetime(df_patient['DateOfBirth'], format=\"%Y/%m/%d\")"
   ]
  },
  {
   "cell_type": "markdown",
   "metadata": {},
   "source": [
    "We can also go the other direction - create variables that are functions of the date, like day of week, or month, or year. We use these later to answer question about interesting time trends. \n",
    "\n",
    "What if you were interested to know if surgeons make more errors on Fridays compared to Mondays (a theoretical dataset)? We would need to do the following:\n",
    "* Turn surgery_date into a date column\n",
    "* Extract the weekday from that date\n",
    "* Calculate errors by weekday"
   ]
  },
  {
   "cell_type": "code",
   "execution_count": 30,
   "metadata": {},
   "outputs": [
    {
     "data": {
      "text/plain": [
       "0        1979.0\n",
       "1        1936.0\n",
       "2        1948.0\n",
       "3        1997.0\n",
       "4        1985.0\n",
       "          ...  \n",
       "19995    1970.0\n",
       "19996    1950.0\n",
       "19997    1957.0\n",
       "19998    1965.0\n",
       "19999       NaN\n",
       "Name: DateOfBirth_dt, Length: 20000, dtype: float64"
      ]
     },
     "execution_count": 30,
     "metadata": {},
     "output_type": "execute_result"
    }
   ],
   "source": [
    "# Extract Year\n",
    "df_patient['DateOfBirth_dt'].dt.year"
   ]
  },
  {
   "cell_type": "code",
   "execution_count": 31,
   "metadata": {},
   "outputs": [
    {
     "data": {
      "text/plain": [
       "0         3.0\n",
       "1        12.0\n",
       "2         4.0\n",
       "3         8.0\n",
       "4         8.0\n",
       "         ... \n",
       "19995     1.0\n",
       "19996     2.0\n",
       "19997    11.0\n",
       "19998     1.0\n",
       "19999     NaN\n",
       "Name: DateOfBirth_dt, Length: 20000, dtype: float64"
      ]
     },
     "execution_count": 31,
     "metadata": {},
     "output_type": "execute_result"
    }
   ],
   "source": [
    "# Extract Month\n",
    "df_patient['DateOfBirth_dt'].dt.month"
   ]
  },
  {
   "cell_type": "markdown",
   "metadata": {},
   "source": [
    "You can extract an arbitray format using the `dt.strtime()` method:"
   ]
  },
  {
   "cell_type": "code",
   "execution_count": 32,
   "metadata": {},
   "outputs": [
    {
     "data": {
      "text/plain": [
       "0        The Year was 1979, the day was Thursday\n",
       "1          The Year was 1936, the day was Sunday\n",
       "2          The Year was 1948, the day was Monday\n",
       "3        The Year was 1997, the day was Thursday\n",
       "4          The Year was 1985, the day was Monday\n",
       "                          ...                   \n",
       "19995      The Year was 1970, the day was Monday\n",
       "19996    The Year was 1950, the day was Thursday\n",
       "19997      The Year was 1957, the day was Sunday\n",
       "19998      The Year was 1965, the day was Sunday\n",
       "19999                                        NaT\n",
       "Name: DateOfBirth_dt, Length: 20000, dtype: object"
      ]
     },
     "execution_count": 32,
     "metadata": {},
     "output_type": "execute_result"
    }
   ],
   "source": [
    "df_patient['DateOfBirth_dt'].dt.strftime('The Year was %Y, the day was %A')"
   ]
  },
  {
   "cell_type": "markdown",
   "metadata": {},
   "source": [
    "Check out this link for more details on possible strftime arguments:  \n",
    "http://strftime.org/ "
   ]
  },
  {
   "cell_type": "markdown",
   "metadata": {},
   "source": [
    "## Creating New Columns "
   ]
  },
  {
   "cell_type": "markdown",
   "metadata": {},
   "source": [
    "We can add columns by selecting a new column (not using the attribute syntax!), then assigning a value. You have seen this a few times now in the above slides. \n",
    "\n",
    "Note we cannot use the column attribute to create a new column!\n",
    "\n",
    "Use the del keyword to delete a column."
   ]
  },
  {
   "cell_type": "code",
   "execution_count": 10,
   "metadata": {},
   "outputs": [
    {
     "data": {
      "text/html": [
       "<div>\n",
       "<style scoped>\n",
       "    .dataframe tbody tr th:only-of-type {\n",
       "        vertical-align: middle;\n",
       "    }\n",
       "\n",
       "    .dataframe tbody tr th {\n",
       "        vertical-align: top;\n",
       "    }\n",
       "\n",
       "    .dataframe thead th {\n",
       "        text-align: right;\n",
       "    }\n",
       "</style>\n",
       "<table border=\"1\" class=\"dataframe\">\n",
       "  <thead>\n",
       "    <tr style=\"text-align: right;\">\n",
       "      <th></th>\n",
       "      <th>PatientID</th>\n",
       "      <th>FirstName</th>\n",
       "      <th>LastName</th>\n",
       "      <th>State</th>\n",
       "      <th>ZipCode</th>\n",
       "      <th>DateOfBirth</th>\n",
       "      <th>Gender</th>\n",
       "      <th>Race</th>\n",
       "      <th>Income</th>\n",
       "      <th>Race_cat</th>\n",
       "      <th>Log_Income</th>\n",
       "    </tr>\n",
       "  </thead>\n",
       "  <tbody>\n",
       "    <tr>\n",
       "      <th>0</th>\n",
       "      <td>1</td>\n",
       "      <td>Loretta</td>\n",
       "      <td>Gunter</td>\n",
       "      <td>FL</td>\n",
       "      <td>32250</td>\n",
       "      <td>1979-03-29</td>\n",
       "      <td>female</td>\n",
       "      <td>white</td>\n",
       "      <td>29.0</td>\n",
       "      <td>white</td>\n",
       "      <td>3.367330</td>\n",
       "    </tr>\n",
       "    <tr>\n",
       "      <th>1</th>\n",
       "      <td>2</td>\n",
       "      <td>Todd</td>\n",
       "      <td>Rea</td>\n",
       "      <td>TX</td>\n",
       "      <td>79602</td>\n",
       "      <td>1936-12-20</td>\n",
       "      <td>male</td>\n",
       "      <td>Missing</td>\n",
       "      <td>NaN</td>\n",
       "      <td>NaN</td>\n",
       "      <td>NaN</td>\n",
       "    </tr>\n",
       "    <tr>\n",
       "      <th>2</th>\n",
       "      <td>3</td>\n",
       "      <td>Margaret</td>\n",
       "      <td>Goodwin</td>\n",
       "      <td>PA</td>\n",
       "      <td>18106</td>\n",
       "      <td>1948-04-19</td>\n",
       "      <td>female</td>\n",
       "      <td>hispanic</td>\n",
       "      <td>53.0</td>\n",
       "      <td>hispanic</td>\n",
       "      <td>3.970311</td>\n",
       "    </tr>\n",
       "    <tr>\n",
       "      <th>3</th>\n",
       "      <td>4</td>\n",
       "      <td>Anna</td>\n",
       "      <td>McCullough</td>\n",
       "      <td>TX</td>\n",
       "      <td>75039</td>\n",
       "      <td>1997-08-28</td>\n",
       "      <td>female</td>\n",
       "      <td>Missing</td>\n",
       "      <td>20.0</td>\n",
       "      <td>NaN</td>\n",
       "      <td>2.995782</td>\n",
       "    </tr>\n",
       "    <tr>\n",
       "      <th>4</th>\n",
       "      <td>5</td>\n",
       "      <td>Glenn</td>\n",
       "      <td>Labrecque</td>\n",
       "      <td>NM</td>\n",
       "      <td>87102</td>\n",
       "      <td>1985-08-19</td>\n",
       "      <td>male</td>\n",
       "      <td>Missing</td>\n",
       "      <td>48.0</td>\n",
       "      <td>NaN</td>\n",
       "      <td>3.871222</td>\n",
       "    </tr>\n",
       "  </tbody>\n",
       "</table>\n",
       "</div>"
      ],
      "text/plain": [
       "  PatientID FirstName    LastName State  ZipCode DateOfBirth  Gender  \\\n",
       "0         1   Loretta      Gunter    FL    32250  1979-03-29  female   \n",
       "1         2      Todd         Rea    TX    79602  1936-12-20    male   \n",
       "2         3  Margaret     Goodwin    PA    18106  1948-04-19  female   \n",
       "3         4      Anna  McCullough    TX    75039  1997-08-28  female   \n",
       "4         5     Glenn   Labrecque    NM    87102  1985-08-19    male   \n",
       "\n",
       "       Race  Income  Race_cat  Log_Income  \n",
       "0     white    29.0     white    3.367330  \n",
       "1   Missing     NaN       NaN         NaN  \n",
       "2  hispanic    53.0  hispanic    3.970311  \n",
       "3   Missing    20.0       NaN    2.995782  \n",
       "4   Missing    48.0       NaN    3.871222  "
      ]
     },
     "execution_count": 10,
     "metadata": {},
     "output_type": "execute_result"
    }
   ],
   "source": [
    "# Add Column\n",
    "df_patient[\"Log_Income\"] = np.log(df_patient[\"Income\"] + 0.001)\n",
    "df_patient.head()"
   ]
  },
  {
   "cell_type": "code",
   "execution_count": 11,
   "metadata": {},
   "outputs": [
    {
     "data": {
      "text/html": [
       "<div>\n",
       "<style scoped>\n",
       "    .dataframe tbody tr th:only-of-type {\n",
       "        vertical-align: middle;\n",
       "    }\n",
       "\n",
       "    .dataframe tbody tr th {\n",
       "        vertical-align: top;\n",
       "    }\n",
       "\n",
       "    .dataframe thead th {\n",
       "        text-align: right;\n",
       "    }\n",
       "</style>\n",
       "<table border=\"1\" class=\"dataframe\">\n",
       "  <thead>\n",
       "    <tr style=\"text-align: right;\">\n",
       "      <th></th>\n",
       "      <th>PatientID</th>\n",
       "      <th>FirstName</th>\n",
       "      <th>LastName</th>\n",
       "      <th>State</th>\n",
       "      <th>ZipCode</th>\n",
       "      <th>DateOfBirth</th>\n",
       "      <th>Gender</th>\n",
       "      <th>Race</th>\n",
       "      <th>Income</th>\n",
       "      <th>Race_cat</th>\n",
       "    </tr>\n",
       "  </thead>\n",
       "  <tbody>\n",
       "    <tr>\n",
       "      <th>0</th>\n",
       "      <td>1</td>\n",
       "      <td>Loretta</td>\n",
       "      <td>Gunter</td>\n",
       "      <td>FL</td>\n",
       "      <td>32250</td>\n",
       "      <td>1979-03-29</td>\n",
       "      <td>female</td>\n",
       "      <td>white</td>\n",
       "      <td>29.0</td>\n",
       "      <td>white</td>\n",
       "    </tr>\n",
       "    <tr>\n",
       "      <th>1</th>\n",
       "      <td>2</td>\n",
       "      <td>Todd</td>\n",
       "      <td>Rea</td>\n",
       "      <td>TX</td>\n",
       "      <td>79602</td>\n",
       "      <td>1936-12-20</td>\n",
       "      <td>male</td>\n",
       "      <td>Missing</td>\n",
       "      <td>NaN</td>\n",
       "      <td>NaN</td>\n",
       "    </tr>\n",
       "    <tr>\n",
       "      <th>2</th>\n",
       "      <td>3</td>\n",
       "      <td>Margaret</td>\n",
       "      <td>Goodwin</td>\n",
       "      <td>PA</td>\n",
       "      <td>18106</td>\n",
       "      <td>1948-04-19</td>\n",
       "      <td>female</td>\n",
       "      <td>hispanic</td>\n",
       "      <td>53.0</td>\n",
       "      <td>hispanic</td>\n",
       "    </tr>\n",
       "    <tr>\n",
       "      <th>3</th>\n",
       "      <td>4</td>\n",
       "      <td>Anna</td>\n",
       "      <td>McCullough</td>\n",
       "      <td>TX</td>\n",
       "      <td>75039</td>\n",
       "      <td>1997-08-28</td>\n",
       "      <td>female</td>\n",
       "      <td>Missing</td>\n",
       "      <td>20.0</td>\n",
       "      <td>NaN</td>\n",
       "    </tr>\n",
       "    <tr>\n",
       "      <th>4</th>\n",
       "      <td>5</td>\n",
       "      <td>Glenn</td>\n",
       "      <td>Labrecque</td>\n",
       "      <td>NM</td>\n",
       "      <td>87102</td>\n",
       "      <td>1985-08-19</td>\n",
       "      <td>male</td>\n",
       "      <td>Missing</td>\n",
       "      <td>48.0</td>\n",
       "      <td>NaN</td>\n",
       "    </tr>\n",
       "  </tbody>\n",
       "</table>\n",
       "</div>"
      ],
      "text/plain": [
       "  PatientID FirstName    LastName State  ZipCode DateOfBirth  Gender  \\\n",
       "0         1   Loretta      Gunter    FL    32250  1979-03-29  female   \n",
       "1         2      Todd         Rea    TX    79602  1936-12-20    male   \n",
       "2         3  Margaret     Goodwin    PA    18106  1948-04-19  female   \n",
       "3         4      Anna  McCullough    TX    75039  1997-08-28  female   \n",
       "4         5     Glenn   Labrecque    NM    87102  1985-08-19    male   \n",
       "\n",
       "       Race  Income  Race_cat  \n",
       "0     white    29.0     white  \n",
       "1   Missing     NaN       NaN  \n",
       "2  hispanic    53.0  hispanic  \n",
       "3   Missing    20.0       NaN  \n",
       "4   Missing    48.0       NaN  "
      ]
     },
     "execution_count": 11,
     "metadata": {},
     "output_type": "execute_result"
    }
   ],
   "source": [
    "# Delete Column\n",
    "del df_patient[\"Log_Income\"]\n",
    "df_patient.head()"
   ]
  },
  {
   "cell_type": "markdown",
   "metadata": {},
   "source": [
    "## Going from Numeric to Categorical (discretize)\n",
    "\n",
    "A common data operation is to take numeric data and categorize it (or discretize it). An example would be converting incomes to low, medium, and high. We can easily do this in pandas with the `pd.cut()` function."
   ]
  },
  {
   "cell_type": "code",
   "execution_count": 12,
   "metadata": {},
   "outputs": [
    {
     "data": {
      "text/plain": [
       "CategoricalDtype(categories=['Low', 'Medium', 'High'], ordered=True)"
      ]
     },
     "execution_count": 12,
     "metadata": {},
     "output_type": "execute_result"
    }
   ],
   "source": [
    "# Request 3 equal width bins based on range of data\n",
    "df_patient['Income_Cat'] = pd.cut(df_patient['Income'], bins=3, labels=['Low','Medium','High'])\n",
    "df_patient['Income_Cat'].value_counts()\n",
    "df_patient['Income_Cat'].dtypes\n"
   ]
  },
  {
   "cell_type": "markdown",
   "metadata": {},
   "source": [
    "This distribution is odd! It is because of the skewed nature of income. The base behavior just divided the full range into 3 equal length intervals. Perhaps a better idea would be to base this on the quantiles of the distribution. "
   ]
  },
  {
   "cell_type": "code",
   "execution_count": 36,
   "metadata": {},
   "outputs": [
    {
     "data": {
      "text/plain": [
       "0.0       3.0\n",
       "0.3      38.0\n",
       "0.6      72.0\n",
       "1.0    1780.0\n",
       "Name: Income, dtype: float64"
      ]
     },
     "execution_count": 36,
     "metadata": {},
     "output_type": "execute_result"
    }
   ],
   "source": [
    "# Specify bins, perhaps based on quantiles.\n",
    "# First calculate quantiles\n",
    "qts = df_patient['Income'].quantile([0, 0.3, 0.6, 1])\n",
    "qts"
   ]
  },
  {
   "cell_type": "code",
   "execution_count": 13,
   "metadata": {},
   "outputs": [
    {
     "data": {
      "text/plain": [
       "High      6887\n",
       "Medium    5693\n",
       "Low       5278\n",
       "Name: Income_Cat, dtype: int64"
      ]
     },
     "execution_count": 13,
     "metadata": {},
     "output_type": "execute_result"
    }
   ],
   "source": [
    "# Construct intervals based on this\n",
    "df_patient['Income_Cat'] = \\\n",
    "    pd.cut(df_patient['Income'],\n",
    "           bins=[0, 36, 70, 1000],\n",
    "           labels=['Low', 'Medium', 'High'])\n",
    "df_patient['Income_Cat'].value_counts()"
   ]
  },
  {
   "cell_type": "code",
   "execution_count": 38,
   "metadata": {},
   "outputs": [
    {
     "data": {
      "text/plain": [
       "Upper_third    6235\n",
       "Med_third      6215\n",
       "Low_third      6150\n",
       "Name: Income_qcat, dtype: int64"
      ]
     },
     "execution_count": 38,
     "metadata": {},
     "output_type": "execute_result"
    }
   ],
   "source": [
    "# Use the built in quantile function\n",
    "# Note this gives you correct intervals \n",
    "# but the cutpoints aren't 'pretty'\n",
    "df_patient['Income_qcat'] = \\\n",
    "    pd.qcut(df_patient['Income'],\n",
    "            q=[0, 0.33, 0.66, 1.0],\n",
    "            labels=['Low_third', 'Med_third', 'Upper_third'])\n",
    "df_patient['Income_qcat'].value_counts()\n",
    "\n",
    "# Cleanup\n",
    "del df_patient['Income_qcat']"
   ]
  },
  {
   "cell_type": "markdown",
   "metadata": {},
   "source": [
    "## Adding a New Variable Based on Boolean Condition"
   ]
  },
  {
   "cell_type": "markdown",
   "metadata": {},
   "source": [
    "A very common idiom is creating a new variable based on a boolean condition. This is easily accomplished with numpy function `np.where()`"
   ]
  },
  {
   "cell_type": "code",
   "execution_count": 39,
   "metadata": {},
   "outputs": [
    {
     "data": {
      "text/html": [
       "<div>\n",
       "<style scoped>\n",
       "    .dataframe tbody tr th:only-of-type {\n",
       "        vertical-align: middle;\n",
       "    }\n",
       "\n",
       "    .dataframe tbody tr th {\n",
       "        vertical-align: top;\n",
       "    }\n",
       "\n",
       "    .dataframe thead th {\n",
       "        text-align: right;\n",
       "    }\n",
       "</style>\n",
       "<table border=\"1\" class=\"dataframe\">\n",
       "  <thead>\n",
       "    <tr style=\"text-align: right;\">\n",
       "      <th></th>\n",
       "      <th>Income</th>\n",
       "      <th>Income_binary</th>\n",
       "    </tr>\n",
       "  </thead>\n",
       "  <tbody>\n",
       "    <tr>\n",
       "      <th>0</th>\n",
       "      <td>29.0</td>\n",
       "      <td>Low</td>\n",
       "    </tr>\n",
       "    <tr>\n",
       "      <th>1</th>\n",
       "      <td>NaN</td>\n",
       "      <td>Low</td>\n",
       "    </tr>\n",
       "    <tr>\n",
       "      <th>2</th>\n",
       "      <td>53.0</td>\n",
       "      <td>Low</td>\n",
       "    </tr>\n",
       "    <tr>\n",
       "      <th>3</th>\n",
       "      <td>20.0</td>\n",
       "      <td>Low</td>\n",
       "    </tr>\n",
       "    <tr>\n",
       "      <th>4</th>\n",
       "      <td>48.0</td>\n",
       "      <td>Low</td>\n",
       "    </tr>\n",
       "    <tr>\n",
       "      <th>...</th>\n",
       "      <td>...</td>\n",
       "      <td>...</td>\n",
       "    </tr>\n",
       "    <tr>\n",
       "      <th>19995</th>\n",
       "      <td>166.0</td>\n",
       "      <td>High</td>\n",
       "    </tr>\n",
       "    <tr>\n",
       "      <th>19996</th>\n",
       "      <td>31.0</td>\n",
       "      <td>Low</td>\n",
       "    </tr>\n",
       "    <tr>\n",
       "      <th>19997</th>\n",
       "      <td>60.0</td>\n",
       "      <td>Low</td>\n",
       "    </tr>\n",
       "    <tr>\n",
       "      <th>19998</th>\n",
       "      <td>NaN</td>\n",
       "      <td>Low</td>\n",
       "    </tr>\n",
       "    <tr>\n",
       "      <th>19999</th>\n",
       "      <td>59.0</td>\n",
       "      <td>Low</td>\n",
       "    </tr>\n",
       "  </tbody>\n",
       "</table>\n",
       "<p>20000 rows × 2 columns</p>\n",
       "</div>"
      ],
      "text/plain": [
       "       Income Income_binary\n",
       "0        29.0           Low\n",
       "1         NaN           Low\n",
       "2        53.0           Low\n",
       "3        20.0           Low\n",
       "4        48.0           Low\n",
       "...       ...           ...\n",
       "19995   166.0          High\n",
       "19996    31.0           Low\n",
       "19997    60.0           Low\n",
       "19998     NaN           Low\n",
       "19999    59.0           Low\n",
       "\n",
       "[20000 rows x 2 columns]"
      ]
     },
     "execution_count": 39,
     "metadata": {},
     "output_type": "execute_result"
    }
   ],
   "source": [
    "df_patient['Income_binary'] = \\\n",
    "    np.where(df_patient['Income'] >= 100,\n",
    "             'High',\n",
    "             'Low')\n",
    "\n",
    "# Check result\n",
    "df_patient.loc[:, ['Income', 'Income_binary']]\n",
    "\n",
    "# Delete for now\n",
    "del df_patient['Income_binary']"
   ]
  },
  {
   "cell_type": "markdown",
   "metadata": {},
   "source": [
    "## Review"
   ]
  },
  {
   "cell_type": "markdown",
   "metadata": {},
   "source": [
    "We covered the following topics:\n",
    "\n",
    "*  Understand different dtypes in Pandas\n",
    "*  Create new variables\n",
    "*  Manipulate dates"
   ]
  }
 ],
 "metadata": {
  "anaconda-cloud": {},
  "kernelspec": {
   "display_name": "Python 3",
   "language": "python",
   "name": "python3"
  },
  "language_info": {
   "codemirror_mode": {
    "name": "ipython",
    "version": 3
   },
   "file_extension": ".py",
   "mimetype": "text/x-python",
   "name": "python",
   "nbconvert_exporter": "python",
   "pygments_lexer": "ipython3",
   "version": "3.6.7"
  }
 },
 "nbformat": 4,
 "nbformat_minor": 1
}
