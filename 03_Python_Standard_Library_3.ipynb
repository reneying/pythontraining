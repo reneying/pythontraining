{
 "cells": [
  {
   "cell_type": "markdown",
   "metadata": {},
   "source": [
    "# Custom Classes and Functions"
   ]
  },
  {
   "cell_type": "markdown",
   "metadata": {},
   "source": [
    "*Author: Evan Carey*\n",
    "\n",
    "*Copyright 2019, BH Analytics, LLC*"
   ]
  },
  {
   "cell_type": "markdown",
   "metadata": {},
   "source": [
    "## Overview"
   ]
  },
  {
   "cell_type": "markdown",
   "metadata": {},
   "source": [
    "In this module, we will be working through two different ways of customizing your Python code: implementing custom functions, and implementing custom classes. \n",
    "\n",
    "Functions:\n",
    "\n",
    "* Review of functions\n",
    "* Variable scope\n",
    "* Exception handling\n",
    "* Variable length arguments\n",
    "* Docstrings\n",
    "  \n",
    "Classes:  \n",
    "\n",
    "* Procedural versus object oriented programming\n",
    "* Attributes and methods\n",
    "* initial function\n",
    "* self and methods\n",
    "* instance wide (class wide) variables versus attributes\n",
    "* modifying instance wide variables"
   ]
  },
  {
   "cell_type": "markdown",
   "metadata": {},
   "source": [
    "## Libraries"
   ]
  },
  {
   "cell_type": "code",
   "execution_count": 1,
   "metadata": {},
   "outputs": [],
   "source": [
    "import sys\n",
    "import os\n",
    "import textwrap"
   ]
  },
  {
   "cell_type": "code",
   "execution_count": 2,
   "metadata": {},
   "outputs": [],
   "source": [
    "## So all output comes through from Ipython\n",
    "from IPython.core.interactiveshell import InteractiveShell\n",
    "InteractiveShell.ast_node_interactivity = \"all\""
   ]
  },
  {
   "cell_type": "code",
   "execution_count": 3,
   "metadata": {},
   "outputs": [
    {
     "name": "stdout",
     "output_type": "stream",
     "text": [
      "3.6.7 | packaged by conda-forge | (default, Feb 26 2019, 03:50:56)\n",
      "[GCC 7.3.0] \n",
      "\n"
     ]
    }
   ],
   "source": [
    "## Get Version information\n",
    "print(textwrap.fill(sys.version),'\\n')"
   ]
  },
  {
   "cell_type": "markdown",
   "metadata": {},
   "source": [
    "## Check your working directory"
   ]
  },
  {
   "cell_type": "markdown",
   "metadata": {},
   "source": [
    "Subsequent sessions may require you to identify and update your working directory so paths correctly point at the downloaded data files. You can check your working directory like so:"
   ]
  },
  {
   "cell_type": "code",
   "execution_count": 4,
   "metadata": {},
   "outputs": [
    {
     "name": "stdout",
     "output_type": "stream",
     "text": [
      "My working directory:\n",
      "/home/ra/host/BH_Analytics/Discover/DataEngineering/notebooks\n"
     ]
    }
   ],
   "source": [
    "# Working Directory\n",
    "print(\"My working directory:\\n\" + os.getcwd())\n",
    "# Set Working Directory (if needed)\n",
    "os.chdir(r\"/home/ra/host/BH_Analytics/Discover/DataEngineering/\")\n",
    "#print(\"My new working directory:\\n\" + os.getcwd())"
   ]
  },
  {
   "cell_type": "markdown",
   "metadata": {},
   "source": [
    "# Advanced functions"
   ]
  },
  {
   "cell_type": "markdown",
   "metadata": {},
   "source": [
    "### Basic function review"
   ]
  },
  {
   "cell_type": "markdown",
   "metadata": {},
   "source": [
    "Recall that we should always be on the lookout for avoiding duplication of our code. As a basic math example, what if we needed to check some integers to find the largest valid value, given an upper limit? We might write some code like the following: "
   ]
  },
  {
   "cell_type": "code",
   "execution_count": 5,
   "metadata": {},
   "outputs": [],
   "source": [
    "## Enter data (establish references...)\n",
    "a1 = 6\n",
    "a2 = 10\n",
    "a3 = 99\n",
    "upper_limit=12"
   ]
  },
  {
   "cell_type": "code",
   "execution_count": 6,
   "metadata": {},
   "outputs": [
    {
     "name": "stdout",
     "output_type": "stream",
     "text": [
      "[6, 10, 99]\n",
      "[6, 10]\n",
      "10\n"
     ]
    }
   ],
   "source": [
    "## Calculate largest number below the upper limit\n",
    "all_values = [a1,a2,a3]\n",
    "print(all_values)\n",
    "all_values_valid = [x for x in all_values if x < upper_limit]\n",
    "print(all_values_valid)\n",
    "max_value = max(all_values_valid)\n",
    "print(max_value)"
   ]
  },
  {
   "cell_type": "markdown",
   "metadata": {},
   "source": [
    "But what if we wanted to repeat this task multiple times? We would write a function, allowing the a1, a2, a3, and the upperlimit as the inputs. We may possibly allow a default value for upper_limit as well:"
   ]
  },
  {
   "cell_type": "code",
   "execution_count": 7,
   "metadata": {},
   "outputs": [
    {
     "name": "stdout",
     "output_type": "stream",
     "text": [
      "Success! Max is 6\n"
     ]
    },
    {
     "data": {
      "text/plain": [
       "6"
      ]
     },
     "execution_count": 7,
     "metadata": {},
     "output_type": "execute_result"
    },
    {
     "name": "stdout",
     "output_type": "stream",
     "text": [
      "Success! Max is 9\n"
     ]
    },
    {
     "data": {
      "text/plain": [
       "9"
      ]
     },
     "execution_count": 7,
     "metadata": {},
     "output_type": "execute_result"
    }
   ],
   "source": [
    "## define function\n",
    "def max_valid(a1,a2,a3,upper_limit=12):\n",
    "    max_result=max([x for x in [a1,a2,a3] if x < upper_limit])\n",
    "    print('Success! Max is',max_result)\n",
    "    return(max_result)\n",
    "\n",
    "## call function \n",
    "max_valid(6,34,14)\n",
    "max_valid(6,9,14,\n",
    "          upper_limit=10)\n"
   ]
  },
  {
   "cell_type": "markdown",
   "metadata": {},
   "source": [
    "### Variable scoping in Python"
   ]
  },
  {
   "cell_type": "markdown",
   "metadata": {},
   "source": [
    "What if there is a naming conflict in the references established in the function versus the global environment? How does Python decide which reference to use? Also, what if we want to use a global variable within the function?"
   ]
  },
  {
   "cell_type": "code",
   "execution_count": 8,
   "metadata": {},
   "outputs": [
    {
     "name": "stdout",
     "output_type": "stream",
     "text": [
      "Global variable is: Something else\n",
      "Success! Max is 9\n"
     ]
    },
    {
     "data": {
      "text/plain": [
       "9"
      ]
     },
     "execution_count": 8,
     "metadata": {},
     "output_type": "execute_result"
    },
    {
     "name": "stdout",
     "output_type": "stream",
     "text": [
      "Global variable is still: Something else\n"
     ]
    }
   ],
   "source": [
    "max_result = 'Something else'\n",
    "print('Global variable is:',max_result)\n",
    "## run function which assigns and prints max result\n",
    "max_valid(6,9,14)\n",
    "## print max result from global environment\n",
    "print('Global variable is still:',max_result)"
   ]
  },
  {
   "cell_type": "markdown",
   "metadata": {},
   "source": [
    "This is called variable scoping. The references established inside the function are local to the function. They are not affected by the references assigned outside of the function when they conflict. \n",
    "\n",
    "But what if we wanted to use a global variable inside the function? Good programming practice says you should always pass variables in as arguments if you want to use them, and out as returns if you want them outside the function. \n",
    "\n",
    "There is a method for creating global variables within a function by calling the global statement. However, this is rarely a good idea (in my opinion). Instead, pass the things out of the function via return that you want out of the function!"
   ]
  },
  {
   "cell_type": "code",
   "execution_count": 9,
   "metadata": {},
   "outputs": [
    {
     "name": "stdout",
     "output_type": "stream",
     "text": [
      "InteractiveShell\t a1\t a2\t a3\t all_values\t all_values_valid\t max_result\t max_valid\t max_value\t \n",
      "os\t sys\t textwrap\t upper_limit\t \n"
     ]
    }
   ],
   "source": [
    "%who"
   ]
  },
  {
   "cell_type": "code",
   "execution_count": 10,
   "metadata": {},
   "outputs": [],
   "source": [
    "del max_result"
   ]
  },
  {
   "cell_type": "code",
   "execution_count": 11,
   "metadata": {},
   "outputs": [
    {
     "name": "stdout",
     "output_type": "stream",
     "text": [
      "Success! Max is 10\n"
     ]
    },
    {
     "data": {
      "text/plain": [
       "10"
      ]
     },
     "execution_count": 11,
     "metadata": {},
     "output_type": "execute_result"
    },
    {
     "name": "stdout",
     "output_type": "stream",
     "text": [
      "10\n"
     ]
    }
   ],
   "source": [
    "## delete variable in global environment\n",
    "#del max_result\n",
    "## create global variable within the function by declaring global\n",
    "def max_valid2(a1,a2,a3,upper_limit=12):\n",
    "    global max_result\n",
    "    foo = 34\n",
    "    max_result=max([x for x in [a1,a2,a3] if x < upper_limit])\n",
    "    print('Success! Max is',max_result)\n",
    "    return(max_result)\n",
    "## Run function\n",
    "max_valid2(1,5,10)\n",
    "## print the now established global variable\n",
    "print(max_result)\n",
    "## delete\n",
    "#del max_result"
   ]
  },
  {
   "cell_type": "code",
   "execution_count": 12,
   "metadata": {},
   "outputs": [
    {
     "name": "stdout",
     "output_type": "stream",
     "text": [
      "Success! Max is 5\n"
     ]
    },
    {
     "data": {
      "text/plain": [
       "5"
      ]
     },
     "execution_count": 12,
     "metadata": {},
     "output_type": "execute_result"
    }
   ],
   "source": [
    "maxres = max_valid2(3, 4, 5, 10)\n",
    "maxres"
   ]
  },
  {
   "cell_type": "markdown",
   "metadata": {},
   "source": [
    "### Exception handling"
   ]
  },
  {
   "cell_type": "markdown",
   "metadata": {
    "tags": [
     "raises-exception"
    ]
   },
   "source": [
    "Can we break our function? What if we pass in things other than integers? Note the code below would break our function and return an error. How do we deal with this? "
   ]
  },
  {
   "cell_type": "code",
   "execution_count": 13,
   "metadata": {},
   "outputs": [
    {
     "ename": "TypeError",
     "evalue": "'<' not supported between instances of 'str' and 'int'",
     "output_type": "error",
     "traceback": [
      "\u001b[0;31m---------------------------------------------------------------------------\u001b[0m",
      "\u001b[0;31mTypeError\u001b[0m                                 Traceback (most recent call last)",
      "\u001b[0;32m<ipython-input-13-72ff4094db5d>\u001b[0m in \u001b[0;36m<module>\u001b[0;34m\u001b[0m\n\u001b[1;32m      1\u001b[0m \u001b[0;31m## Run code with non-integer argument\u001b[0m\u001b[0;34m\u001b[0m\u001b[0;34m\u001b[0m\u001b[0;34m\u001b[0m\u001b[0m\n\u001b[0;32m----> 2\u001b[0;31m \u001b[0mmax_valid\u001b[0m\u001b[0;34m(\u001b[0m\u001b[0;36m23\u001b[0m\u001b[0;34m,\u001b[0m \u001b[0;34m'Ra'\u001b[0m\u001b[0;34m,\u001b[0m \u001b[0;36m10\u001b[0m\u001b[0;34m)\u001b[0m\u001b[0;34m\u001b[0m\u001b[0;34m\u001b[0m\u001b[0m\n\u001b[0m",
      "\u001b[0;32m<ipython-input-7-3515e2cba152>\u001b[0m in \u001b[0;36mmax_valid\u001b[0;34m(a1, a2, a3, upper_limit)\u001b[0m\n\u001b[1;32m      1\u001b[0m \u001b[0;31m## define function\u001b[0m\u001b[0;34m\u001b[0m\u001b[0;34m\u001b[0m\u001b[0;34m\u001b[0m\u001b[0m\n\u001b[1;32m      2\u001b[0m \u001b[0;32mdef\u001b[0m \u001b[0mmax_valid\u001b[0m\u001b[0;34m(\u001b[0m\u001b[0ma1\u001b[0m\u001b[0;34m,\u001b[0m\u001b[0ma2\u001b[0m\u001b[0;34m,\u001b[0m\u001b[0ma3\u001b[0m\u001b[0;34m,\u001b[0m\u001b[0mupper_limit\u001b[0m\u001b[0;34m=\u001b[0m\u001b[0;36m12\u001b[0m\u001b[0;34m)\u001b[0m\u001b[0;34m:\u001b[0m\u001b[0;34m\u001b[0m\u001b[0;34m\u001b[0m\u001b[0m\n\u001b[0;32m----> 3\u001b[0;31m     \u001b[0mmax_result\u001b[0m\u001b[0;34m=\u001b[0m\u001b[0mmax\u001b[0m\u001b[0;34m(\u001b[0m\u001b[0;34m[\u001b[0m\u001b[0mx\u001b[0m \u001b[0;32mfor\u001b[0m \u001b[0mx\u001b[0m \u001b[0;32min\u001b[0m \u001b[0;34m[\u001b[0m\u001b[0ma1\u001b[0m\u001b[0;34m,\u001b[0m\u001b[0ma2\u001b[0m\u001b[0;34m,\u001b[0m\u001b[0ma3\u001b[0m\u001b[0;34m]\u001b[0m \u001b[0;32mif\u001b[0m \u001b[0mx\u001b[0m \u001b[0;34m<\u001b[0m \u001b[0mupper_limit\u001b[0m\u001b[0;34m]\u001b[0m\u001b[0;34m)\u001b[0m\u001b[0;34m\u001b[0m\u001b[0;34m\u001b[0m\u001b[0m\n\u001b[0m\u001b[1;32m      4\u001b[0m     \u001b[0mprint\u001b[0m\u001b[0;34m(\u001b[0m\u001b[0;34m'Success! Max is'\u001b[0m\u001b[0;34m,\u001b[0m\u001b[0mmax_result\u001b[0m\u001b[0;34m)\u001b[0m\u001b[0;34m\u001b[0m\u001b[0;34m\u001b[0m\u001b[0m\n\u001b[1;32m      5\u001b[0m     \u001b[0;32mreturn\u001b[0m\u001b[0;34m(\u001b[0m\u001b[0mmax_result\u001b[0m\u001b[0;34m)\u001b[0m\u001b[0;34m\u001b[0m\u001b[0;34m\u001b[0m\u001b[0m\n",
      "\u001b[0;32m<ipython-input-7-3515e2cba152>\u001b[0m in \u001b[0;36m<listcomp>\u001b[0;34m(.0)\u001b[0m\n\u001b[1;32m      1\u001b[0m \u001b[0;31m## define function\u001b[0m\u001b[0;34m\u001b[0m\u001b[0;34m\u001b[0m\u001b[0;34m\u001b[0m\u001b[0m\n\u001b[1;32m      2\u001b[0m \u001b[0;32mdef\u001b[0m \u001b[0mmax_valid\u001b[0m\u001b[0;34m(\u001b[0m\u001b[0ma1\u001b[0m\u001b[0;34m,\u001b[0m\u001b[0ma2\u001b[0m\u001b[0;34m,\u001b[0m\u001b[0ma3\u001b[0m\u001b[0;34m,\u001b[0m\u001b[0mupper_limit\u001b[0m\u001b[0;34m=\u001b[0m\u001b[0;36m12\u001b[0m\u001b[0;34m)\u001b[0m\u001b[0;34m:\u001b[0m\u001b[0;34m\u001b[0m\u001b[0;34m\u001b[0m\u001b[0m\n\u001b[0;32m----> 3\u001b[0;31m     \u001b[0mmax_result\u001b[0m\u001b[0;34m=\u001b[0m\u001b[0mmax\u001b[0m\u001b[0;34m(\u001b[0m\u001b[0;34m[\u001b[0m\u001b[0mx\u001b[0m \u001b[0;32mfor\u001b[0m \u001b[0mx\u001b[0m \u001b[0;32min\u001b[0m \u001b[0;34m[\u001b[0m\u001b[0ma1\u001b[0m\u001b[0;34m,\u001b[0m\u001b[0ma2\u001b[0m\u001b[0;34m,\u001b[0m\u001b[0ma3\u001b[0m\u001b[0;34m]\u001b[0m \u001b[0;32mif\u001b[0m \u001b[0mx\u001b[0m \u001b[0;34m<\u001b[0m \u001b[0mupper_limit\u001b[0m\u001b[0;34m]\u001b[0m\u001b[0;34m)\u001b[0m\u001b[0;34m\u001b[0m\u001b[0;34m\u001b[0m\u001b[0m\n\u001b[0m\u001b[1;32m      4\u001b[0m     \u001b[0mprint\u001b[0m\u001b[0;34m(\u001b[0m\u001b[0;34m'Success! Max is'\u001b[0m\u001b[0;34m,\u001b[0m\u001b[0mmax_result\u001b[0m\u001b[0;34m)\u001b[0m\u001b[0;34m\u001b[0m\u001b[0;34m\u001b[0m\u001b[0m\n\u001b[1;32m      5\u001b[0m     \u001b[0;32mreturn\u001b[0m\u001b[0;34m(\u001b[0m\u001b[0mmax_result\u001b[0m\u001b[0;34m)\u001b[0m\u001b[0;34m\u001b[0m\u001b[0;34m\u001b[0m\u001b[0m\n",
      "\u001b[0;31mTypeError\u001b[0m: '<' not supported between instances of 'str' and 'int'"
     ]
    }
   ],
   "source": [
    "## Run code with non-integer argument\n",
    "max_valid(23, 'Ra', 10)"
   ]
  },
  {
   "cell_type": "markdown",
   "metadata": {},
   "source": [
    "There are a few options. We could code a general exception catch, so any error will cause the function to return a message:"
   ]
  },
  {
   "cell_type": "code",
   "execution_count": 15,
   "metadata": {},
   "outputs": [
    {
     "name": "stdout",
     "output_type": "stream",
     "text": [
      "Failure! Looks like you entered a non-integer?\n",
      "Failure! Looks like you entered a non-integer?\n",
      "Success! Max is 10\n"
     ]
    },
    {
     "data": {
      "text/plain": [
       "10"
      ]
     },
     "execution_count": 15,
     "metadata": {},
     "output_type": "execute_result"
    }
   ],
   "source": [
    "def max_valid3(a1,a2,a3,upper_limit=12):\n",
    "    try:\n",
    "        max_result=max([x for x in [a1,a2,a3] if x < upper_limit])\n",
    "    except:\n",
    "        print('Failure! Looks like you entered a non-integer?')\n",
    "    else:\n",
    "        print('Success! Max is',max_result)\n",
    "        return(max_result)\n",
    "## Run code with non-integer argument\n",
    "max_valid3(23,'Evan',10)\n",
    "max_valid3(23,'12',10)\n",
    "max_valid3(23,12,10)"
   ]
  },
  {
   "cell_type": "markdown",
   "metadata": {},
   "source": [
    "We could also code for a specific error type. In this case, it is a `TypeError`:"
   ]
  },
  {
   "cell_type": "code",
   "execution_count": 16,
   "metadata": {},
   "outputs": [
    {
     "name": "stdout",
     "output_type": "stream",
     "text": [
      "Failure! Looks like you entered a non-integer?\n",
      "Success! Max is 10\n"
     ]
    },
    {
     "data": {
      "text/plain": [
       "10"
      ]
     },
     "execution_count": 16,
     "metadata": {},
     "output_type": "execute_result"
    }
   ],
   "source": [
    "def max_valid4(a1,a2,a3,upper_limit=12):\n",
    "    try:\n",
    "        max_result=max([x for x in [a1,a2,a3] if x < upper_limit])\n",
    "    except TypeError:\n",
    "        print('Failure! Looks like you entered a non-integer?')\n",
    "    else:\n",
    "        print('Success! Max is',max_result)\n",
    "        return(max_result)\n",
    "## Run code with non-integer argument\n",
    "max_valid4(23,'Evan',10)\n",
    "max_valid4(23,10,20)"
   ]
  },
  {
   "cell_type": "markdown",
   "metadata": {},
   "source": [
    "And finally, we can catch the error and print it:"
   ]
  },
  {
   "cell_type": "code",
   "execution_count": 17,
   "metadata": {},
   "outputs": [
    {
     "name": "stdout",
     "output_type": "stream",
     "text": [
      "Failure! Looks like you entered a non-integer?\n",
      " '<' not supported between instances of 'str' and 'int'\n",
      "Success! Max is 10\n"
     ]
    },
    {
     "data": {
      "text/plain": [
       "10"
      ]
     },
     "execution_count": 17,
     "metadata": {},
     "output_type": "execute_result"
    }
   ],
   "source": [
    "def max_valid5(a1,a2,a3,upper_limit=12):\n",
    "    try:\n",
    "        max_result=max([x for x in [a1,a2,a3] if x < upper_limit])\n",
    "    except TypeError as e:\n",
    "        print('Failure! Looks like you entered a non-integer?\\n',e)\n",
    "    else:\n",
    "        print('Success! Max is',max_result)\n",
    "        return(max_result)\n",
    "## Run code with non-integer argument\n",
    "max_valid5(23,'Evan',10)\n",
    "max_valid5(23,10,20)"
   ]
  },
  {
   "cell_type": "markdown",
   "metadata": {},
   "source": [
    "### Docstrings"
   ]
  },
  {
   "cell_type": "markdown",
   "metadata": {},
   "source": [
    "How do we know what the function is supposed to do? Where should we document this?\n",
    "\n",
    "It turns out there is a specific way to document a function so that it is accesible from the function! This is called a docstring. If we place a string on the first line of the function, it is called the `docstring`. It will then be accessible using the `__doc__` attribute from the function. We often want a multiline string. "
   ]
  },
  {
   "cell_type": "code",
   "execution_count": 18,
   "metadata": {},
   "outputs": [
    {
     "name": "stdout",
     "output_type": "stream",
     "text": [
      "This is a small function that finds the max value of 3 numbers, subject to an upper limit. \n",
      "    The default upper limit is 12.\n"
     ]
    }
   ],
   "source": [
    "def max_valid6(a1,a2,a3,upper_limit=12):\n",
    "    '''This is a small function that finds the max value of 3 numbers, subject to an upper limit. \n",
    "    The default upper limit is 12.'''\n",
    "    try:\n",
    "        max_result=max([x for x in [a1,a2,a3] if x < upper_limit])\n",
    "    except TypeError as e:\n",
    "        print('Failure! Looks like you entered a non-integer?\\n',e)\n",
    "    else:\n",
    "        print('Success! Max is',max_result)\n",
    "        return(max_result)\n",
    "## Print doc string\n",
    "print(max_valid6.__doc__)"
   ]
  },
  {
   "cell_type": "markdown",
   "metadata": {},
   "source": [
    "### Variable length arguments"
   ]
  },
  {
   "cell_type": "markdown",
   "metadata": {},
   "source": [
    "Let's add one more final complexity. What if we wanted to take the maximum value of an unknown number of integers? It could be 3, but it could be 5?\n",
    "\n",
    "It turns out there is a way to allow variable length arguments into functions. We simply preface an input with a star, then all subsequent *positional* arguments passed are collected into a tuple:"
   ]
  },
  {
   "cell_type": "code",
   "execution_count": 19,
   "metadata": {},
   "outputs": [
    {
     "name": "stdout",
     "output_type": "stream",
     "text": [
      "Success! Max is 7\n"
     ]
    },
    {
     "data": {
      "text/plain": [
       "7"
      ]
     },
     "execution_count": 19,
     "metadata": {},
     "output_type": "execute_result"
    },
    {
     "name": "stdout",
     "output_type": "stream",
     "text": [
      "Success! Max is 19\n"
     ]
    },
    {
     "data": {
      "text/plain": [
       "19"
      ]
     },
     "execution_count": 19,
     "metadata": {},
     "output_type": "execute_result"
    }
   ],
   "source": [
    "def max_valid7(*aX,upper_limit=12):\n",
    "    '''This is a small function that finds the max value of numbers, subject to an upper limit. \n",
    "The default upper limit is 12.'''\n",
    "    try:\n",
    "        max_result=max([x for x in aX if x < upper_limit])\n",
    "    except TypeError as e:\n",
    "        print('Failure! Looks like you entered a non-integer?\\n',e)\n",
    "    else:\n",
    "        print('Success! Max is',max_result)\n",
    "        return(max_result)\n",
    "## Call function with default\n",
    "max_valid7(4,7,0,19,20,14,123,)\n",
    "## Call function with different upper limit\n",
    "max_valid7(4,7,0,19,upper_limit=20)"
   ]
  },
  {
   "cell_type": "markdown",
   "metadata": {},
   "source": [
    "If we pass a double star, then all subsequent named arguments are passed as a dictionary. "
   ]
  },
  {
   "cell_type": "code",
   "execution_count": 20,
   "metadata": {},
   "outputs": [
    {
     "name": "stdout",
     "output_type": "stream",
     "text": [
      "X is 3\n",
      "Tuple of positional args: (4, 5, 6)\n",
      "Dict of keyword args {'id': '01', 'age': 35}\n"
     ]
    }
   ],
   "source": [
    "def test_func(x,*nums,**dicts):\n",
    "    print('X is',x)\n",
    "    print('Tuple of positional args:', nums)\n",
    "    print('Dict of keyword args',dicts)\n",
    "test_func(3,4,5,6,id='01',age=35)"
   ]
  },
  {
   "cell_type": "markdown",
   "metadata": {},
   "source": [
    "## Custom Classes"
   ]
  },
  {
   "cell_type": "markdown",
   "metadata": {},
   "source": [
    "Another way to customize Python is to create our own classes. We have seen a number of different classes in Python so far in this material, but what if you want to create your own, with your own rules? \n",
    "\n",
    "\n",
    "This is actually a far deeper concept than just creating a class. Most of the code written so far has been 'procedural style' code. We write statements that manipulate data/objects in order. That is fine for many use cases, especially in data management or data science! However, we can also think of a different approach called object oriented programming. Object oriented programming means combining the data objects and associated functionality into a single object. The general form of this object is then called a class!\n",
    "\n",
    "Two things to note:\n",
    "\n",
    "* Any function assigned to a class must have *self* as the first argument. This is a placeholder for the class object. \n",
    "* When the class is instantiated, there is a special method (attached function) ran once right away. It is the __init__() method, and it allows us to instantiate input values into the object. "
   ]
  },
  {
   "cell_type": "code",
   "execution_count": 21,
   "metadata": {},
   "outputs": [],
   "source": [
    "## Create a new class for called positive integers\n",
    "class positiveInt:\n",
    "    \n",
    "    # Attribute (class variable) shared by all instances of this class\n",
    "    isnumber=True\n",
    "    \n",
    "    # function run upon instantiation of the class\n",
    "    def __init__(self,int1):\n",
    "        self.int1 = int1\n",
    "        print('Class created succesfully')\n",
    "    \n",
    "    # Attached function for adding 10 to the object\n",
    "    def add_ten(self):\n",
    "        print(self.int1 + 10)"
   ]
  },
  {
   "cell_type": "code",
   "execution_count": 22,
   "metadata": {},
   "outputs": [
    {
     "name": "stdout",
     "output_type": "stream",
     "text": [
      "Class created succesfully\n"
     ]
    },
    {
     "data": {
      "text/plain": [
       "True"
      ]
     },
     "execution_count": 22,
     "metadata": {},
     "output_type": "execute_result"
    },
    {
     "data": {
      "text/plain": [
       "5"
      ]
     },
     "execution_count": 22,
     "metadata": {},
     "output_type": "execute_result"
    },
    {
     "name": "stdout",
     "output_type": "stream",
     "text": [
      "15\n"
     ]
    }
   ],
   "source": [
    "## Instantiate the class\n",
    "x = positiveInt(5)\n",
    "## check the things attached to the class\n",
    "x.isnumber\n",
    "x.int1\n",
    "x.add_ten()"
   ]
  },
  {
   "cell_type": "markdown",
   "metadata": {},
   "source": [
    "We might think of making a class for a special sort of object, so we can organize functions and attributes around the namespace of that object. \n",
    "\n",
    "Let's make a basic employee class to explore these concepts further. Just like functions, the first string literal following the class statement is the docstring. "
   ]
  },
  {
   "cell_type": "code",
   "execution_count": 23,
   "metadata": {},
   "outputs": [],
   "source": [
    "## Create employee class\n",
    "class Employee:\n",
    "    'Employee Class'\n",
    "    ## add some attributes that apply to all employees\n",
    "    costs_money = 'yes'\n",
    "    ## add counter to assign employee id's later\n",
    "    employee_counter = 0\n",
    "    # function run upon instantiation of the class\n",
    "    def __init__(self,empl_name):\n",
    "        self.empl_name = empl_name\n",
    "        Employee.employee_counter += 1\n",
    "        self.employee_id = 100 + Employee.employee_counter\n",
    "        print('Employee number:',self.employee_id ,'created')\n",
    "    ## add a function\n",
    "    def name_print(self):\n",
    "        print('Employee name is:',self.empl_name,\n",
    "             ', Employee number is:',self.employee_id)\n",
    "    def assign_salary(self,salary):\n",
    "        self.salary = salary    "
   ]
  },
  {
   "cell_type": "code",
   "execution_count": 24,
   "metadata": {},
   "outputs": [
    {
     "name": "stdout",
     "output_type": "stream",
     "text": [
      "Employee number: 101 created\n"
     ]
    },
    {
     "data": {
      "text/plain": [
       "'Employee Class'"
      ]
     },
     "execution_count": 24,
     "metadata": {},
     "output_type": "execute_result"
    },
    {
     "data": {
      "text/plain": [
       "'Bob'"
      ]
     },
     "execution_count": 24,
     "metadata": {},
     "output_type": "execute_result"
    },
    {
     "data": {
      "text/plain": [
       "101"
      ]
     },
     "execution_count": 24,
     "metadata": {},
     "output_type": "execute_result"
    },
    {
     "name": "stdout",
     "output_type": "stream",
     "text": [
      "Employee name is: Bob , Employee number is: 101\n"
     ]
    },
    {
     "data": {
      "text/plain": [
       "50"
      ]
     },
     "execution_count": 24,
     "metadata": {},
     "output_type": "execute_result"
    }
   ],
   "source": [
    "## Instantiate the class\n",
    "x1 = Employee('Bob')\n",
    "\n",
    "## Call things attached to the class\n",
    "x1.__doc__\n",
    "x1.empl_name\n",
    "x1.employee_id\n",
    "x1.name_print()\n",
    "\n",
    "## Assign Salary\n",
    "x1.assign_salary(50)\n",
    "x1.salary"
   ]
  },
  {
   "cell_type": "markdown",
   "metadata": {},
   "source": [
    "Notice we added a bit of complexity there. We initiated a class wide variable called `employee_counter`, which we used to assign an individual employee ID automatically upon creation. Now if we create a few more instances, their ID's will keep going up. "
   ]
  },
  {
   "cell_type": "code",
   "execution_count": 25,
   "metadata": {},
   "outputs": [
    {
     "name": "stdout",
     "output_type": "stream",
     "text": [
      "Employee number: 102 created\n",
      "Employee name is: Ana , Employee number is: 102\n"
     ]
    }
   ],
   "source": [
    "## add another employee\n",
    "x2 = Employee('Ana')\n",
    "x2.name_print()\n",
    "x2.assign_salary(120)"
   ]
  },
  {
   "cell_type": "markdown",
   "metadata": {},
   "source": [
    "## Procedural example"
   ]
  },
  {
   "cell_type": "markdown",
   "metadata": {},
   "source": [
    "Many people write procedural style code using Python. However, using an object oriented approach allows you to organize your functions as well as reuse your code. In the prior example, we created a new class of an object (employees). Sometimes we create a class that represents an action, like a calculation. Let's work through a simple example of calculating a total restaraunt bill to show the difference between procedural code and object oriented code. We will start with procedural style:"
   ]
  },
  {
   "cell_type": "code",
   "execution_count": 26,
   "metadata": {},
   "outputs": [
    {
     "name": "stdout",
     "output_type": "stream",
     "text": [
      "total bill was: 130.0\n"
     ]
    },
    {
     "data": {
      "text/plain": [
       "130.0"
      ]
     },
     "execution_count": 26,
     "metadata": {},
     "output_type": "execute_result"
    }
   ],
   "source": [
    "#### Procedural style of coding: \n",
    "## Define main function to calculate total bill\n",
    "def calculate_total(pre_tax,tax_rate=.1,tip_rate=.2):\n",
    "    tax = calculate_tax(pre_tax,tax_rate)\n",
    "    tip = calculate_tip(pre_tax,tip_rate)\n",
    "    total_bill = pre_tax + tax + tip\n",
    "    print_total(total_bill)\n",
    "    return(total_bill)\n",
    "## define sub functions\n",
    "def calculate_tax(pre_tax,tax_rate):\n",
    "    tax = tax_rate*pre_tax\n",
    "    return(tax)\n",
    "def calculate_tip(pre_tax,tip_rate):\n",
    "    tip = tip_rate * pre_tax\n",
    "    return(tip)\n",
    "def print_total(total_bill):\n",
    "    print('total bill was:',total_bill)\n",
    "\n",
    "## Call function\n",
    "calculate_total(100)\n"
   ]
  },
  {
   "cell_type": "markdown",
   "metadata": {},
   "source": [
    "### Object oriented approach: classes"
   ]
  },
  {
   "cell_type": "markdown",
   "metadata": {},
   "source": [
    "There is nothing wrong with procedural coding! Many people write procedural style coding in Python. However, you may want to organize your code differently into objects. Let's explore an object oriented flavor to this calculation. \n",
    "\n",
    "We can actally create a new class for calculating a restaurant bill, then organize all the needed functions into the class. "
   ]
  },
  {
   "cell_type": "code",
   "execution_count": 27,
   "metadata": {},
   "outputs": [],
   "source": [
    "class restauraunt_bill_calculator:\n",
    "    \"\"\"This class calculates the restauraunt bill using tip, tax, and pre-tax amount. \"\"\"\n",
    "    ## add counter to assign calculation IDs\n",
    "    calculation_counter = 0\n",
    "    # function run upon instantiation of the class\n",
    "    def __init__(self,pre_tax,tax_rate=.1,tip_rate=.2):\n",
    "        self.pre_tax = pre_tax\n",
    "        self.tax_rate = tax_rate\n",
    "        self.tip_rate = tip_rate\n",
    "        self.tax = tax_rate * pre_tax\n",
    "        self.tip = pre_tax*tip_rate\n",
    "        restauraunt_bill_calculator.calculation_counter += 1\n",
    "        self.calculationID = 100 + restauraunt_bill_calculator.calculation_counter\n",
    "        \n",
    "    def calculate_total(self):\n",
    "        self.total = self.pre_tax + self.tax + self.tip\n",
    "        print('Total bill is:',self.total)\n",
    "        return(self.total)\n"
   ]
  },
  {
   "cell_type": "code",
   "execution_count": 28,
   "metadata": {},
   "outputs": [
    {
     "name": "stdout",
     "output_type": "stream",
     "text": [
      "Total bill is: 130.0\n"
     ]
    },
    {
     "data": {
      "text/plain": [
       "130.0"
      ]
     },
     "execution_count": 28,
     "metadata": {},
     "output_type": "execute_result"
    }
   ],
   "source": [
    "## Test basic class instance\n",
    "x = restauraunt_bill_calculator(pre_tax=100)\n",
    "x.calculate_total()"
   ]
  },
  {
   "cell_type": "code",
   "execution_count": 29,
   "metadata": {},
   "outputs": [
    {
     "ename": "SyntaxError",
     "evalue": "invalid syntax (<ipython-input-29-4d1070611126>, line 1)",
     "output_type": "error",
     "traceback": [
      "\u001b[0;36m  File \u001b[0;32m\"<ipython-input-29-4d1070611126>\"\u001b[0;36m, line \u001b[0;32m1\u001b[0m\n\u001b[0;31m    def __main__:\u001b[0m\n\u001b[0m                ^\u001b[0m\n\u001b[0;31mSyntaxError\u001b[0m\u001b[0;31m:\u001b[0m invalid syntax\n"
     ]
    }
   ],
   "source": [
    "def __main__:\n",
    "    #if you call from the command line, will call this main function\n",
    "    "
   ]
  },
  {
   "cell_type": "markdown",
   "metadata": {},
   "source": [
    "## More about special methods\n",
    "\n",
    "There are some other helpful special methods or dunder ( __ ) methods to be aware of in Python:\n",
    "\n",
    "Special methods are intended to be called by the Python interpreter, not in your code. You **can** redefine the `__len__` or the `__get_item__` method in your custom class, but you would probably do so only to take advantage of core language features like slicing and iterating."
   ]
  },
  {
   "cell_type": "markdown",
   "metadata": {},
   "source": [
    "## The __repr__ method\n",
    "\n",
    "The `__repr__` method is used to call a string representation of the object for inspection. For instance, with our restaurant bill calculator, if we ask for the instance of the object back we get some not-so-nice output.\n",
    "\n",
    "We can improve that by defining the `__repr__` method."
   ]
  },
  {
   "cell_type": "code",
   "execution_count": 30,
   "metadata": {},
   "outputs": [
    {
     "data": {
      "text/plain": [
       "<__main__.restauraunt_bill_calculator at 0x7fa1800e9e48>"
      ]
     },
     "execution_count": 30,
     "metadata": {},
     "output_type": "execute_result"
    }
   ],
   "source": [
    "x"
   ]
  },
  {
   "cell_type": "code",
   "execution_count": 31,
   "metadata": {},
   "outputs": [],
   "source": [
    "class restauraunt_bill_calculator:\n",
    "    \"\"\"This class calculates the restauraunt bill using tip, tax, and pre-tax amount. \"\"\"\n",
    "    ## add counter to assign calculation IDs\n",
    "    calculation_counter = 0\n",
    "    # function run upon instantiation of the class\n",
    "    \n",
    "    def __repr__(self):\n",
    "        return 'restaurant_bill_calculator: {0}'.format(self.bill)\n",
    "    \n",
    "    def __init__(self,pre_tax,tax_rate=.1,tip_rate=.2):\n",
    "        self.pre_tax = pre_tax\n",
    "        self.tax_rate = tax_rate\n",
    "        self.tip_rate = tip_rate\n",
    "        self.tax = tax_rate * pre_tax\n",
    "        self.tip = pre_tax*tip_rate\n",
    "        restauraunt_bill_calculator.calculation_counter += 1\n",
    "        self.calculationID = 100 + restauraunt_bill_calculator.calculation_counter\n",
    "        self.bill = self.pre_tax\n",
    "        \n",
    "    def calculate_total(self):\n",
    "        self.total = self.pre_tax + self.tax + self.tip\n",
    "        print('Total bill is:',self.total)\n",
    "        self.bill = self.total\n",
    "        return(self.total)"
   ]
  },
  {
   "cell_type": "code",
   "execution_count": 32,
   "metadata": {},
   "outputs": [
    {
     "data": {
      "text/plain": [
       "restaurant_bill_calculator: 100"
      ]
     },
     "execution_count": 32,
     "metadata": {},
     "output_type": "execute_result"
    }
   ],
   "source": [
    "x = restauraunt_bill_calculator(pre_tax=100)\n",
    "x"
   ]
  },
  {
   "cell_type": "code",
   "execution_count": 33,
   "metadata": {},
   "outputs": [
    {
     "name": "stdout",
     "output_type": "stream",
     "text": [
      "Total bill is: 130.0\n"
     ]
    },
    {
     "data": {
      "text/plain": [
       "130.0"
      ]
     },
     "execution_count": 33,
     "metadata": {},
     "output_type": "execute_result"
    },
    {
     "data": {
      "text/plain": [
       "restaurant_bill_calculator: 130.0"
      ]
     },
     "execution_count": 33,
     "metadata": {},
     "output_type": "execute_result"
    }
   ],
   "source": [
    "x.calculate_total()\n",
    "x"
   ]
  },
  {
   "cell_type": "markdown",
   "metadata": {},
   "source": [
    "## The `__str__` constructor\n",
    "\n",
    "The `__str__` constructor is what's called by the `str()` method on your object, and present the string output of your class. It should return a string suitable for end users.\n",
    "\n",
    "If you only implement one of these, use `__repr__` as `__str__` calls it as a fallback."
   ]
  },
  {
   "cell_type": "code",
   "execution_count": 34,
   "metadata": {},
   "outputs": [
    {
     "name": "stdout",
     "output_type": "stream",
     "text": [
      "restaurant_bill_calculator: 130.0\n"
     ]
    }
   ],
   "source": [
    "print(x)"
   ]
  },
  {
   "cell_type": "code",
   "execution_count": 35,
   "metadata": {},
   "outputs": [],
   "source": [
    "class restauraunt_bill_calculator:\n",
    "    \"\"\"This class calculates the restauraunt bill using tip, tax, and pre-tax amount. \"\"\"\n",
    "    ## add counter to assign calculation IDs\n",
    "    calculation_counter = 0\n",
    "    # function run upon instantiation of the class\n",
    "    \n",
    "    def __repr__(self):\n",
    "        return 'restaurant_bill_calculator: {0}'.format(self.bill)\n",
    "    \n",
    "    def __str__(self):\n",
    "        return 'the restaurant bill currently stands at {0}'.format(self.bill)\n",
    "    \n",
    "    def __init__(self,pre_tax,tax_rate=.1,tip_rate=.2):\n",
    "        self.pre_tax = pre_tax\n",
    "        self.tax_rate = tax_rate\n",
    "        self.tip_rate = tip_rate\n",
    "        self.tax = tax_rate * pre_tax\n",
    "        self.tip = pre_tax*tip_rate\n",
    "        restauraunt_bill_calculator.calculation_counter += 1\n",
    "        self.calculationID = 100 + restauraunt_bill_calculator.calculation_counter\n",
    "        self.bill = self.pre_tax\n",
    "        \n",
    "    def calculate_total(self):\n",
    "        self.total = self.pre_tax + self.tax + self.tip\n",
    "        print('Total bill is:',self.total)\n",
    "        self.bill = self.total\n",
    "        return(self.total)"
   ]
  },
  {
   "cell_type": "code",
   "execution_count": 36,
   "metadata": {},
   "outputs": [
    {
     "data": {
      "text/plain": [
       "restaurant_bill_calculator: 50"
      ]
     },
     "execution_count": 36,
     "metadata": {},
     "output_type": "execute_result"
    },
    {
     "name": "stdout",
     "output_type": "stream",
     "text": [
      "the restaurant bill currently stands at 50\n"
     ]
    }
   ],
   "source": [
    "x2 = restauraunt_bill_calculator(pre_tax=50)\n",
    "x2\n",
    "print(x2)"
   ]
  },
  {
   "cell_type": "markdown",
   "metadata": {},
   "source": [
    "## Conclusion\n",
    "\n",
    "\n",
    "Here we looked at implementing custom functions, as well as custom classes. This gave us a more thorough of how Object-Oriented Programming (OOP) principles apply to the Python language.\n",
    "\n",
    "In particular, we looked at the details of variable scope, exception handling and the importance of docstrings. We also looked at defining a class, along with its attributes and methods, and hence were able to contrast procedural vs OOP programming paradigms. We examined the necessary boiler-plate code needed to create the class, including the `__init__`, `self` and other methods.\n",
    "\n",
    "This OOP approach leads to clean syntax for complex data structures and is at the very heart of the Python language."
   ]
  }
 ],
 "metadata": {
  "anaconda-cloud": {},
  "kernelspec": {
   "display_name": "Python 3",
   "language": "python",
   "name": "python3"
  },
  "language_info": {
   "codemirror_mode": {
    "name": "ipython",
    "version": 3
   },
   "file_extension": ".py",
   "mimetype": "text/x-python",
   "name": "python",
   "nbconvert_exporter": "python",
   "pygments_lexer": "ipython3",
   "version": "3.6.7"
  },
  "toc": {
   "nav_menu": {},
   "number_sections": true,
   "sideBar": true,
   "skip_h1_title": false,
   "toc_cell": false,
   "toc_position": {},
   "toc_section_display": "block",
   "toc_window_display": false
  },
  "varInspector": {
   "cols": {
    "lenName": 16,
    "lenType": 16,
    "lenVar": 40
   },
   "kernels_config": {
    "python": {
     "delete_cmd_postfix": "",
     "delete_cmd_prefix": "del ",
     "library": "var_list.py",
     "varRefreshCmd": "print(var_dic_list())"
    },
    "r": {
     "delete_cmd_postfix": ") ",
     "delete_cmd_prefix": "rm(",
     "library": "var_list.r",
     "varRefreshCmd": "cat(var_dic_list()) "
    }
   },
   "position": {
    "height": "302px",
    "left": "231px",
    "right": "20px",
    "top": "23px",
    "width": "364px"
   },
   "types_to_exclude": [
    "module",
    "function",
    "builtin_function_or_method",
    "instance",
    "_Feature"
   ],
   "window_display": false
  }
 },
 "nbformat": 4,
 "nbformat_minor": 1
}
