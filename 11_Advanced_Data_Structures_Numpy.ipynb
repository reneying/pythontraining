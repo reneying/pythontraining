{
 "cells": [
  {
   "cell_type": "markdown",
   "metadata": {},
   "source": [
    "# Introduction to NumPy"
   ]
  },
  {
   "cell_type": "markdown",
   "metadata": {},
   "source": [
    "*Author: Evan Carey*\n",
    "\n",
    "*Copyright 2017-2018, BH Analytics, LLC*"
   ]
  },
  {
   "cell_type": "markdown",
   "metadata": {},
   "source": [
    "## Overview\n",
    "\n",
    "The purpose of this section is to demonstrate functionality of Python that you will be learning in this course. We will be covering the following:\n",
    "\n",
    "\n",
    "* ndArray object type\n",
    "* dtypes\n",
    "* slicing\n",
    "* broadcasting\n",
    "* summary statistics\n",
    "* random number generation"
   ]
  },
  {
   "cell_type": "markdown",
   "metadata": {},
   "source": [
    "## Libraries"
   ]
  },
  {
   "cell_type": "code",
   "execution_count": 2,
   "metadata": {},
   "outputs": [],
   "source": [
    "import sys\n",
    "import pandas as pd\n",
    "import matplotlib\n",
    "import matplotlib.pyplot as plt\n",
    "import numpy as np\n",
    "import seaborn as sns\n",
    "import os\n",
    "import textwrap"
   ]
  },
  {
   "cell_type": "code",
   "execution_count": 2,
   "metadata": {},
   "outputs": [],
   "source": [
    "## Enable inline plotting for graphics\n",
    "%matplotlib inline"
   ]
  },
  {
   "cell_type": "code",
   "execution_count": 3,
   "metadata": {},
   "outputs": [
    {
     "name": "stdout",
     "output_type": "stream",
     "text": [
      "3.6.5 |Anaconda, Inc.| (default, Apr 29 2018, 16:14:56)  [GCC 7.2.0] \n",
      "\n",
      "Pandas version: 0.23.0 \n",
      "\n",
      "Matplotlib version: 2.2.2 \n",
      "\n",
      "Numpy version: 1.14.3 \n",
      "\n",
      "Seaborn version: 0.8.1 \n",
      "\n"
     ]
    }
   ],
   "source": [
    "## Get Version information\n",
    "print(textwrap.fill(sys.version),'\\n')\n",
    "print(\"Pandas version: {0}\".format(pd.__version__),'\\n')\n",
    "print(\"Matplotlib version: {0}\".format(matplotlib.__version__),'\\n')\n",
    "print(\"Numpy version: {0}\".format(np.__version__),'\\n')\n",
    "print(\"Seaborn version: {0}\".format(sns.__version__),'\\n')\n"
   ]
  },
  {
   "cell_type": "markdown",
   "metadata": {},
   "source": [
    "## Check your working directory"
   ]
  },
  {
   "cell_type": "markdown",
   "metadata": {},
   "source": [
    "Subsequent sessions may require you to identify and update your working directory so paths correctly point at the downloaded data files. You can check your working directory like so:"
   ]
  },
  {
   "cell_type": "code",
   "execution_count": 4,
   "metadata": {},
   "outputs": [
    {
     "name": "stdout",
     "output_type": "stream",
     "text": [
      "My working directory:\n",
      "/home/ra/host/BH_Analytics/Discover/DataEngineering/notebooks\n",
      "/home/ra/host/BH_Analytics/Discover/DataEngineering\n",
      "My new working directory:\n",
      "/home/ra/host/BH_Analytics/Discover/DataEngineering\n"
     ]
    }
   ],
   "source": [
    "# Working Directory\n",
    "print(\"My working directory:\\n\" + os.getcwd())\n",
    "# Set Working Directory (if needed)\n",
    "%cd ../\n",
    "print(\"My new working directory:\\n\" + os.getcwd())"
   ]
  },
  {
   "cell_type": "markdown",
   "metadata": {
    "collapsed": true
   },
   "source": [
    "## What is NumPy?\n",
    "\n",
    "Numerical Python\n",
    "\n",
    "\n",
    "* “Foundational” module for scientific computing\n",
    "* Mimics Matlab interface\n",
    "* Provides the “ndarray”\n",
    "* This is the way linear algebra is accomplished in Python.\n",
    "* This is the main class for scientific computing\n",
    "* Has a “dtype” attribute\n",
    "* We will briefly cover this, but the analytic focus will be on Pandas structures and constructs\n"
   ]
  },
  {
   "cell_type": "markdown",
   "metadata": {},
   "source": [
    "## Setting Print Options\n",
    "\n",
    "We can set the print options for numpy like so:"
   ]
  },
  {
   "cell_type": "code",
   "execution_count": 5,
   "metadata": {},
   "outputs": [],
   "source": [
    "np.set_printoptions(linewidth=50)"
   ]
  },
  {
   "cell_type": "markdown",
   "metadata": {},
   "source": [
    "## Ndarray\n",
    "\n",
    "* It is customary to import NumPy as “np”\n",
    "* Ndarray\n",
    "  * N-dimensional array (alias is array)\n",
    "  * Created with `array()` \n"
   ]
  },
  {
   "cell_type": "code",
   "execution_count": 7,
   "metadata": {
    "scrolled": true
   },
   "outputs": [
    {
     "name": "stdout",
     "output_type": "stream",
     "text": [
      "[0 1 2 3 4 5 6 7 8 9]\n",
      " 1\n"
     ]
    }
   ],
   "source": [
    "import numpy as np\n",
    "\n",
    "# Create an array\n",
    "ar1 = np.array(range(10))\n",
    "print(ar1)\n",
    "print(\" {0}\".format(ar1.ndim))"
   ]
  },
  {
   "cell_type": "code",
   "execution_count": 11,
   "metadata": {},
   "outputs": [
    {
     "name": "stdout",
     "output_type": "stream",
     "text": [
      "[[1 2 3]\n",
      " [4 5 6]]\n"
     ]
    }
   ],
   "source": [
    "# Create another array\n",
    "ar2 = np.array([[1,2,3],[4,5,6]])\n",
    "print(ar2)"
   ]
  },
  {
   "cell_type": "code",
   "execution_count": 12,
   "metadata": {},
   "outputs": [
    {
     "name": "stdout",
     "output_type": "stream",
     "text": [
      "2\n"
     ]
    }
   ],
   "source": [
    "print(ar2.ndim)"
   ]
  },
  {
   "cell_type": "code",
   "execution_count": 15,
   "metadata": {},
   "outputs": [
    {
     "name": "stdout",
     "output_type": "stream",
     "text": [
      "(2, 3)\n"
     ]
    }
   ],
   "source": [
    "print(ar2.shape)"
   ]
  },
  {
   "cell_type": "code",
   "execution_count": 17,
   "metadata": {},
   "outputs": [
    {
     "name": "stdout",
     "output_type": "stream",
     "text": [
      "int64\n"
     ]
    }
   ],
   "source": [
    "print(ar2.dtype)"
   ]
  },
  {
   "cell_type": "markdown",
   "metadata": {},
   "source": [
    "There are several other functions to create convenient arrays. Below are examples:\n",
    "\n",
    "* `arange()`\n",
    "* `ones()`\t    create an array of all ones\n",
    "* `zeros()`     create an array of all zeros\n",
    "* `identity()`\tcreate an identity matrix\n"
   ]
  },
  {
   "cell_type": "code",
   "execution_count": 18,
   "metadata": {},
   "outputs": [
    {
     "name": "stdout",
     "output_type": "stream",
     "text": [
      "Example 1:\n",
      " [[1. 1. 1. 1.]\n",
      " [1. 1. 1. 1.]]\n",
      "\n",
      "\n",
      "\n",
      "Example 2:\n",
      " [[0. 0. 0. 0.]\n",
      " [0. 0. 0. 0.]]\n",
      "\n",
      "\n",
      "\n",
      "Example 3:\n",
      " [[1. 0. 0. 0. 0.]\n",
      " [0. 1. 0. 0. 0.]\n",
      " [0. 0. 1. 0. 0.]\n",
      " [0. 0. 0. 1. 0.]\n",
      " [0. 0. 0. 0. 1.]]\n"
     ]
    }
   ],
   "source": [
    "# More array creation\n",
    "print('Example 1:\\n', np.ones((2,4)))\n",
    "\n",
    "print('\\n\\n')\n",
    "\n",
    "print('Example 2:\\n', np.zeros((2,4)))\n",
    "print('\\n\\n')\n",
    "\n",
    "print('Example 3:\\n', np.identity(5))\n"
   ]
  },
  {
   "cell_type": "code",
   "execution_count": 14,
   "metadata": {},
   "outputs": [
    {
     "data": {
      "text/plain": [
       "array([[1., 0., 0.],\n",
       "       [0., 1., 0.],\n",
       "       [0., 0., 1.]])"
      ]
     },
     "execution_count": 14,
     "metadata": {},
     "output_type": "execute_result"
    }
   ],
   "source": [
    "np.eye(3) # another convenience function for an identity matrix"
   ]
  },
  {
   "cell_type": "markdown",
   "metadata": {},
   "source": [
    "## Attributes\n",
    "\n",
    "We can explore the attributes of NumPy arrays using the following syntax.\n",
    "\n",
    "`ndim`: number of dimensions  \n",
    "`shape`: list of the dimension lengths  \n",
    "`size`: total number of elements  \n",
    "`data`: elements of the array  \n",
    "`dtype`: data type (beyond standard Python date types)\n"
   ]
  },
  {
   "cell_type": "code",
   "execution_count": 19,
   "metadata": {},
   "outputs": [
    {
     "name": "stdout",
     "output_type": "stream",
     "text": [
      "1\n",
      "2\n",
      "(2, 3)\n",
      "int64\n",
      "6\n"
     ]
    }
   ],
   "source": [
    "# Attributes\n",
    "print(ar1.ndim)\n",
    "print(ar2.ndim)\n",
    "print(ar2.shape)\n",
    "print(ar2.dtype)\n",
    "print(ar2.size)"
   ]
  },
  {
   "cell_type": "markdown",
   "metadata": {},
   "source": [
    "## Data Types\n",
    "\n",
    "Arrays are fast, partially due to the data type mapping to lower level calls. This is mostly transparent, but we can specify the dtype\n",
    "* `np.array(object[,dtype])`\n",
    "* We can change type using `array.astype()`\n"
   ]
  },
  {
   "cell_type": "code",
   "execution_count": 18,
   "metadata": {},
   "outputs": [
    {
     "name": "stdout",
     "output_type": "stream",
     "text": [
      "float64\n"
     ]
    }
   ],
   "source": [
    "# Dtype\n",
    "ar3 = np.array([1,2,3,4,5,6], \"float\")\n",
    "print(ar3.dtype)"
   ]
  },
  {
   "cell_type": "code",
   "execution_count": 19,
   "metadata": {},
   "outputs": [
    {
     "name": "stdout",
     "output_type": "stream",
     "text": [
      "int64\n"
     ]
    }
   ],
   "source": [
    "# change dtype\n",
    "ar3 = ar3.astype(\"int\")\n",
    "print(ar3.dtype)"
   ]
  },
  {
   "cell_type": "code",
   "execution_count": 21,
   "metadata": {},
   "outputs": [
    {
     "name": "stdout",
     "output_type": "stream",
     "text": [
      "bool\n",
      "<U3\n",
      "<U3\n"
     ]
    }
   ],
   "source": [
    "# Other Dtypes:\n",
    "print(np.array([True, False], \"bool\").dtype)\n",
    "print(np.array([\"Yes\", \"No\"]).dtype)\n",
    "print(np.array([\"Yes\", \"No\"], np.str_).dtype)"
   ]
  },
  {
   "cell_type": "markdown",
   "metadata": {},
   "source": [
    "More information here:   \n",
    "https://jakevdp.github.io/PythonDataScienceHandbook/02.01-understanding-data-types.html#NumPy-Standard-Data-Types"
   ]
  },
  {
   "cell_type": "markdown",
   "metadata": {},
   "source": [
    "## Indexing\n",
    "\n",
    "* For one dimensional arrays, we index in the usual way\n",
    "* These slices are views, not copies…\n",
    "* Changes are *broadcasted* if need be\n",
    "* Indexing is **end-exclusive**\n"
   ]
  },
  {
   "cell_type": "code",
   "execution_count": 20,
   "metadata": {
    "scrolled": true
   },
   "outputs": [
    {
     "name": "stdout",
     "output_type": "stream",
     "text": [
      "Initial line ndarray:\n",
      " [ 1  2  3  4  5  6  7  8  9 10 11 12 13 14 15 16\n",
      " 17 18 19 20 21 22 23 24 25 26 27 28 29 30 31 32\n",
      " 33 34 35 36 37 38 39 40 41 42 43 44 45 46 47 48\n",
      " 49 50 51 52 53 54 55 56 57 58 59 60 61 62 63 64]\n"
     ]
    }
   ],
   "source": [
    "# Indexing (slicing)\n",
    "line = np.arange(1, 4*4*4+1)\n",
    "print('Initial line ndarray:\\n', line)"
   ]
  },
  {
   "cell_type": "code",
   "execution_count": 21,
   "metadata": {},
   "outputs": [
    {
     "name": "stdout",
     "output_type": "stream",
     "text": [
      "\n",
      "First element: 1\n"
     ]
    }
   ],
   "source": [
    "print('\\nFirst element:', line[0])"
   ]
  },
  {
   "cell_type": "code",
   "execution_count": 22,
   "metadata": {},
   "outputs": [
    {
     "name": "stdout",
     "output_type": "stream",
     "text": [
      "Elements 1 through 4 but not including 5: [1 2 3 4]\n"
     ]
    }
   ],
   "source": [
    "print('Elements 1 through 4 but not including 5:', line[:4])"
   ]
  },
  {
   "cell_type": "code",
   "execution_count": 25,
   "metadata": {},
   "outputs": [
    {
     "name": "stdout",
     "output_type": "stream",
     "text": [
      "Last element to 9th from last element: [64 63 62 61 60 59 58 57 56]\n"
     ]
    }
   ],
   "source": [
    "print('Last element to 9th from last element:', line[-1:-10:-1])"
   ]
  },
  {
   "cell_type": "code",
   "execution_count": 26,
   "metadata": {},
   "outputs": [
    {
     "name": "stdout",
     "output_type": "stream",
     "text": [
      "Elements 2, 3, 2: [2 3 2]\n"
     ]
    }
   ],
   "source": [
    "print('Elements 2, 3, 2:', line[[1, 2, 1]])"
   ]
  },
  {
   "cell_type": "code",
   "execution_count": 23,
   "metadata": {},
   "outputs": [
    {
     "data": {
      "text/plain": [
       "array([ 2,  2,  2,  4,  5,  6,  7,  8,  9, 10,\n",
       "       11, 12, 13, 14, 15, 16, 17, 18, 19, 20,\n",
       "       21, 22, 23, 24, 25, 26, 27, 28, 29, 30,\n",
       "       31, 32, 33, 34, 35, 36, 37, 38, 39, 40,\n",
       "       41, 42, 43, 44, 45, 46, 47, 48, 49, 50,\n",
       "       51, 52, 53, 54, 55, 56, 57, 58, 59, 60,\n",
       "       61, 62, 63, 64])"
      ]
     },
     "execution_count": 23,
     "metadata": {},
     "output_type": "execute_result"
    }
   ],
   "source": [
    "line[:3] = 2\n",
    "line"
   ]
  },
  {
   "cell_type": "markdown",
   "metadata": {},
   "source": [
    "## Reshaping\n",
    "\n",
    "If we need to change the shape of the array, we can reshape an array with `array.reshape()`. We often do this after creating an array if we want a specific shape/size. "
   ]
  },
  {
   "cell_type": "code",
   "execution_count": 24,
   "metadata": {},
   "outputs": [
    {
     "name": "stdout",
     "output_type": "stream",
     "text": [
      "Original array:\n",
      " [ 1  2  3  4  5  6  7  8  9 10 11 12 13 14 15 16\n",
      " 17 18 19 20 21 22 23 24 25 26 27 28 29 30 31 32\n",
      " 33 34 35 36 37 38 39 40 41 42 43 44 45 46 47 48\n",
      " 49 50 51 52 53 54 55 56 57 58 59 60 61 62 63 64]\n"
     ]
    }
   ],
   "source": [
    "# Reshaping array\n",
    "line = np.arange(1, 4*4*4+1)\n",
    "print('Original array:\\n', line)"
   ]
  },
  {
   "cell_type": "code",
   "execution_count": 25,
   "metadata": {},
   "outputs": [
    {
     "name": "stdout",
     "output_type": "stream",
     "text": [
      "4x16 rectangular reshape:\n",
      " [[ 1  2  3  4  5  6  7  8  9 10 11 12 13 14 15\n",
      "  16]\n",
      " [17 18 19 20 21 22 23 24 25 26 27 28 29 30 31\n",
      "  32]\n",
      " [33 34 35 36 37 38 39 40 41 42 43 44 45 46 47\n",
      "  48]\n",
      " [49 50 51 52 53 54 55 56 57 58 59 60 61 62 63\n",
      "  64]]\n"
     ]
    }
   ],
   "source": [
    "rectangle = line.reshape(4, 16)\n",
    "print('4x16 rectangular reshape:\\n', rectangle)"
   ]
  },
  {
   "cell_type": "markdown",
   "metadata": {},
   "source": [
    "## Multi-Dimensional Index\n",
    "\n",
    "Indexing gets more interesting with multiple dimensions\n",
    "\n",
    "Start with first axis, separate by commas. \n"
   ]
  },
  {
   "cell_type": "code",
   "execution_count": 27,
   "metadata": {},
   "outputs": [
    {
     "name": "stdout",
     "output_type": "stream",
     "text": [
      "First row of rectangle: [ 1  2  3  4  5  6  7  8  9 10 11 12 13 14 15 16]\n",
      "(64,)\n",
      "[17 18 19 20 21 22 23 24 25 26 27 28 29 30 31 32]\n"
     ]
    }
   ],
   "source": [
    "# Indexing Multiple Dimensions\n",
    "print('First row of rectangle:', rectangle[0])\n",
    "print(line.shape)\n",
    "print(rectangle[1, :]) # equivalent, implied"
   ]
  },
  {
   "cell_type": "code",
   "execution_count": 28,
   "metadata": {},
   "outputs": [
    {
     "data": {
      "text/plain": [
       "array([17, 18, 19, 20, 21, 22, 23, 24, 25, 26,\n",
       "       27, 28, 29, 30, 31, 32])"
      ]
     },
     "execution_count": 28,
     "metadata": {},
     "output_type": "execute_result"
    }
   ],
   "source": [
    "rectangle[1][:]"
   ]
  },
  {
   "cell_type": "code",
   "execution_count": 29,
   "metadata": {},
   "outputs": [
    {
     "name": "stdout",
     "output_type": "stream",
     "text": [
      "4th row, 16th column of rectangle: 64\n",
      "64\n"
     ]
    }
   ],
   "source": [
    "print('4th row, 16th column of rectangle:', rectangle[3, 15])\n",
    "print(rectangle[3][15]) # equivalent but avoid this use!"
   ]
  },
  {
   "cell_type": "markdown",
   "metadata": {},
   "source": [
    "## Boolean Index\n",
    "\n",
    "We can also index using boolean values  \n",
    "To show this, I introduce a normal random number generator from `numpy.random`... *more on this later*\n",
    "\n",
    "These boolean values can be along an axis, or cover all elements."
   ]
  },
  {
   "cell_type": "code",
   "execution_count": 30,
   "metadata": {},
   "outputs": [
    {
     "name": "stdout",
     "output_type": "stream",
     "text": [
      "[[ 0.49671415 -0.1382643 ]\n",
      " [ 0.64768854  1.52302986]\n",
      " [-0.23415337 -0.23413696]\n",
      " [ 1.57921282  0.76743473]\n",
      " [-0.46947439  0.54256004]]\n"
     ]
    }
   ],
   "source": [
    "# Boolean Index\n",
    "np.random.seed(42)\n",
    "norm_ar = np.random.randn(10).reshape(5, 2)\n",
    "print(norm_ar)"
   ]
  },
  {
   "cell_type": "code",
   "execution_count": 31,
   "metadata": {},
   "outputs": [
    {
     "name": "stdout",
     "output_type": "stream",
     "text": [
      "[[False False]\n",
      " [False  True]\n",
      " [False False]\n",
      " [ True False]\n",
      " [False False]]\n"
     ]
    }
   ],
   "source": [
    "tf = norm_ar > 1\n",
    "print(tf)"
   ]
  },
  {
   "cell_type": "code",
   "execution_count": 36,
   "metadata": {},
   "outputs": [
    {
     "data": {
      "text/plain": [
       "array([1.65143654, 1.26593626])"
      ]
     },
     "execution_count": 36,
     "metadata": {},
     "output_type": "execute_result"
    }
   ],
   "source": [
    "norm_ar[tf]"
   ]
  },
  {
   "cell_type": "code",
   "execution_count": 32,
   "metadata": {},
   "outputs": [
    {
     "data": {
      "text/plain": [
       "array([1.52302986, 1.57921282])"
      ]
     },
     "execution_count": 32,
     "metadata": {},
     "output_type": "execute_result"
    }
   ],
   "source": [
    "norm_ar[norm_ar > 1] # more typical use case"
   ]
  },
  {
   "cell_type": "markdown",
   "metadata": {},
   "source": [
    "## Broadcasting\n",
    "\n",
    "When we assign scalar elements, the results are *broadcasted* to the entire slice. For example, let's look at the `norm_ar` array we created and wherever there is a value greater than 0 let's replace it with 0."
   ]
  },
  {
   "cell_type": "code",
   "execution_count": 32,
   "metadata": {},
   "outputs": [
    {
     "name": "stdout",
     "output_type": "stream",
     "text": [
      "[[-1.0856306   0.99734545]\n",
      " [ 0.2829785  -1.50629471]\n",
      " [-0.57860025  1.65143654]\n",
      " [-2.42667924 -0.42891263]\n",
      " [ 1.26593626 -0.8667404 ]]\n"
     ]
    }
   ],
   "source": [
    "# Broadcasting\n",
    "print(norm_ar)"
   ]
  },
  {
   "cell_type": "code",
   "execution_count": 33,
   "metadata": {},
   "outputs": [
    {
     "name": "stdout",
     "output_type": "stream",
     "text": [
      "[[ 0.         -0.1382643 ]\n",
      " [ 0.          0.        ]\n",
      " [-0.23415337 -0.23413696]\n",
      " [ 0.          0.        ]\n",
      " [-0.46947439  0.        ]]\n"
     ]
    }
   ],
   "source": [
    "norm_ar[norm_ar > 0] = 0\n",
    "print(norm_ar)"
   ]
  },
  {
   "cell_type": "markdown",
   "metadata": {},
   "source": [
    "We can also perform mathematical functions between arrays and scalars. The scalar will be *broadcast*, also sometimes called vectorized calculations. Let's add the scalar, 1, to all the values in our 'norm_ar' array."
   ]
  },
  {
   "cell_type": "code",
   "execution_count": 39,
   "metadata": {},
   "outputs": [
    {
     "data": {
      "text/plain": [
       "array([[-0.0856306 ,  1.        ],\n",
       "       [ 1.        , -0.50629471],\n",
       "       [ 0.42139975,  1.        ],\n",
       "       [-1.42667924,  0.57108737],\n",
       "       [ 1.        ,  0.1332596 ]])"
      ]
     },
     "execution_count": 39,
     "metadata": {},
     "output_type": "execute_result"
    }
   ],
   "source": [
    "# Vectorized calculations\n",
    "norm_ar + 1"
   ]
  },
  {
   "cell_type": "markdown",
   "metadata": {},
   "source": [
    "**Illustration of Broadcasting from the Handbook**   \n",
    "<img src=\"https://jakevdp.github.io/PythonDataScienceHandbook/figures/02.05-broadcasting.png\">"
   ]
  },
  {
   "cell_type": "markdown",
   "metadata": {},
   "source": [
    "For a more detailed discussion of broadcasting rules, consult your handbook here:\n",
    "https://jakevdp.github.io/PythonDataScienceHandbook/02.05-computation-on-arrays-broadcasting.html"
   ]
  },
  {
   "cell_type": "markdown",
   "metadata": {},
   "source": [
    "## NumPy Functions\n",
    "\n",
    "NumPy provides many functions you would expect in data science application. Let's explore a few of those below with our `norm_ar` array. "
   ]
  },
  {
   "cell_type": "code",
   "execution_count": 34,
   "metadata": {},
   "outputs": [
    {
     "name": "stdout",
     "output_type": "stream",
     "text": [
      "[[ 0.         -0.1382643 ]\n",
      " [ 0.          0.        ]\n",
      " [-0.23415337 -0.23413696]\n",
      " [ 0.          0.        ]\n",
      " [-0.46947439  0.        ]]\n"
     ]
    }
   ],
   "source": [
    "# NumPy Functions\n",
    "print(norm_ar)"
   ]
  },
  {
   "cell_type": "code",
   "execution_count": 35,
   "metadata": {},
   "outputs": [
    {
     "name": "stdout",
     "output_type": "stream",
     "text": [
      "Mean of entire array: -0.10760290187786534\n"
     ]
    }
   ],
   "source": [
    "print('Mean of entire array:', np.mean(norm_ar))"
   ]
  },
  {
   "cell_type": "markdown",
   "metadata": {},
   "source": [
    "An additional parameter tells numpy along which axis, or in which direction (row-wise, column-wise, etc.) to calculate.\n",
    "\n",
    "- axis = 0: 'column-wise'\n",
    "- axis = 1: 'row-wise'\n"
   ]
  },
  {
   "cell_type": "markdown",
   "metadata": {},
   "source": [
    "<table border=1 style=\"border:none;background:none;\">\n",
    "<tr style=\"border:none;background:none;\"><td style=\"border:1px solid gray;\">34.6</td><td style=\"border:1px solid gray;\">78.5</td><td> &rarr; axis = 1 </td></tr>\n",
    "<tr style=\"border:none;background:none;\"><td>&darr;</td><td>&darr;</td><td></td></tr>\n",
    "<tr style=\"background:none;\"><td colspan=2 style=\"text-align:center\">&nbsp;&nbsp;axis = 0</td><td></td></tr>\n",
    "</table>"
   ]
  },
  {
   "cell_type": "code",
   "execution_count": 36,
   "metadata": {},
   "outputs": [
    {
     "name": "stdout",
     "output_type": "stream",
     "text": [
      "Means of each column: [-0.14072555 -0.07448025]\n"
     ]
    }
   ],
   "source": [
    "print('Means of each column:', np.mean(norm_ar, axis=0))"
   ]
  },
  {
   "cell_type": "code",
   "execution_count": 37,
   "metadata": {},
   "outputs": [
    {
     "name": "stdout",
     "output_type": "stream",
     "text": [
      "Means of each row:\n",
      " [-0.06913215  0.         -0.23414517  0.\n",
      " -0.23473719]\n"
     ]
    }
   ],
   "source": [
    "print('Means of each row:\\n', np.mean(norm_ar, 1))"
   ]
  },
  {
   "cell_type": "code",
   "execution_count": 43,
   "metadata": {},
   "outputs": [
    {
     "name": "stdout",
     "output_type": "stream",
     "text": [
      "Variance of entire array: 0.5855124016656363\n"
     ]
    }
   ],
   "source": [
    "print('Variance of entire array:', np.var(norm_ar))"
   ]
  },
  {
   "cell_type": "markdown",
   "metadata": {},
   "source": [
    "There is also an array min and array max function..."
   ]
  },
  {
   "cell_type": "code",
   "execution_count": 38,
   "metadata": {},
   "outputs": [
    {
     "data": {
      "text/plain": [
       "array([-0.46947439, -0.23413696])"
      ]
     },
     "execution_count": 38,
     "metadata": {},
     "output_type": "execute_result"
    }
   ],
   "source": [
    "np.amin(norm_ar, axis=0)"
   ]
  },
  {
   "cell_type": "code",
   "execution_count": 39,
   "metadata": {},
   "outputs": [
    {
     "data": {
      "text/plain": [
       "array([ 0.        ,  0.        , -0.23413696,\n",
       "        0.        ,  0.        ])"
      ]
     },
     "execution_count": 39,
     "metadata": {},
     "output_type": "execute_result"
    }
   ],
   "source": [
    "np.amax(norm_ar,axis=1)"
   ]
  },
  {
   "cell_type": "markdown",
   "metadata": {},
   "source": [
    "## uFuncs\n",
    "\n",
    "Universal functions work elementwise on an array by default. Here are a few examples:"
   ]
  },
  {
   "cell_type": "code",
   "execution_count": 45,
   "metadata": {},
   "outputs": [
    {
     "data": {
      "text/plain": [
       "array([[-10.85630603,   0.        ],\n",
       "       [  0.        , -15.06294714],\n",
       "       [ -5.78600252,   0.        ],\n",
       "       [-24.26679243,  -4.28912629],\n",
       "       [  0.        ,  -8.66740402]])"
      ]
     },
     "execution_count": 45,
     "metadata": {},
     "output_type": "execute_result"
    }
   ],
   "source": [
    "## Universal functions operate elementwise unless otherwise specified\n",
    "norm_ar*10"
   ]
  },
  {
   "cell_type": "code",
   "execution_count": 46,
   "metadata": {},
   "outputs": [
    {
     "data": {
      "text/plain": [
       "array([[1.04193599, 0.        ],\n",
       "       [0.        , 1.22731199],\n",
       "       [0.76065778, 0.        ],\n",
       "       [1.55778023, 0.65491421],\n",
       "       [0.        , 0.93098894]])"
      ]
     },
     "execution_count": 46,
     "metadata": {},
     "output_type": "execute_result"
    }
   ],
   "source": [
    "np.sqrt(np.abs(norm_ar))\n"
   ]
  },
  {
   "cell_type": "code",
   "execution_count": 47,
   "metadata": {},
   "outputs": [
    {
     "data": {
      "text/plain": [
       "array([[0.33768877, 1.        ],\n",
       "       [1.        , 0.22173003],\n",
       "       [0.56068263, 1.        ],\n",
       "       [0.08832967, 0.65121682],\n",
       "       [1.        , 0.42031939]])"
      ]
     },
     "execution_count": 47,
     "metadata": {},
     "output_type": "execute_result"
    }
   ],
   "source": [
    "np.exp(norm_ar)"
   ]
  },
  {
   "cell_type": "code",
   "execution_count": 48,
   "metadata": {},
   "outputs": [
    {
     "data": {
      "text/plain": [
       "array([[1.0856306 , 0.        ],\n",
       "       [0.        , 1.50629471],\n",
       "       [0.57860025, 0.        ],\n",
       "       [2.42667924, 0.42891263],\n",
       "       [0.        , 0.8667404 ]])"
      ]
     },
     "execution_count": 48,
     "metadata": {},
     "output_type": "execute_result"
    }
   ],
   "source": [
    "np.abs(norm_ar)"
   ]
  },
  {
   "cell_type": "markdown",
   "metadata": {},
   "source": [
    "Available ufuncs here:     \n",
    "https://docs.scipy.org/doc/numpy-1.13.0/reference/ufuncs.html#available-ufuncs"
   ]
  },
  {
   "cell_type": "markdown",
   "metadata": {},
   "source": [
    "## Random Numbers\n",
    "\n",
    "NumPy has a random number generation module: `help(np.random)`  \n",
    "We can set the seed using the `np.random.seed()`  \n",
    "http://docs.scipy.org/doc/numpy/reference/routines.random.html\n"
   ]
  },
  {
   "cell_type": "markdown",
   "metadata": {},
   "source": [
    "Here we will generate numbers from a uniform distribution between 0 and 1. "
   ]
  },
  {
   "cell_type": "code",
   "execution_count": 40,
   "metadata": {},
   "outputs": [
    {
     "data": {
      "text/plain": [
       "array([[0.37454012, 0.95071431, 0.73199394,\n",
       "        0.59865848],\n",
       "       [0.15601864, 0.15599452, 0.05808361,\n",
       "        0.86617615],\n",
       "       [0.60111501, 0.70807258, 0.02058449,\n",
       "        0.96990985],\n",
       "       [0.83244264, 0.21233911, 0.18182497,\n",
       "        0.18340451]])"
      ]
     },
     "execution_count": 40,
     "metadata": {},
     "output_type": "execute_result"
    }
   ],
   "source": [
    "np.random.seed(42)\n",
    "# uniform [0,1)\n",
    "np.random.rand(4, 4)"
   ]
  },
  {
   "cell_type": "markdown",
   "metadata": {},
   "source": [
    "This line of code will generate numbers from a normal distribution with mean 0 and variance 1. Notice we have specified the resulting shape to be in 3 dimensions. "
   ]
  },
  {
   "cell_type": "code",
   "execution_count": 41,
   "metadata": {},
   "outputs": [
    {
     "data": {
      "text/plain": [
       "array([[[ 0.49671415, -0.1382643 ],\n",
       "        [ 0.64768854,  1.52302986]],\n",
       "\n",
       "       [[-0.23415337, -0.23413696],\n",
       "        [ 1.57921282,  0.76743473]]])"
      ]
     },
     "execution_count": 41,
     "metadata": {},
     "output_type": "execute_result"
    }
   ],
   "source": [
    "np.random.seed(42)\n",
    "# normal(mean=0,var=1)\n",
    "np.random.randn(2, 2, 2)"
   ]
  },
  {
   "cell_type": "markdown",
   "metadata": {},
   "source": [
    "If I wanted to change the mean and variance, I could do so directly after the simulation like so:"
   ]
  },
  {
   "cell_type": "code",
   "execution_count": 51,
   "metadata": {},
   "outputs": [
    {
     "data": {
      "text/plain": [
       "array([[[11.98685661,  9.4469428 ],\n",
       "        [12.59075415, 16.09211943]],\n",
       "\n",
       "       [[ 9.0633865 ,  9.06345217],\n",
       "        [16.31685126, 13.06973892]]])"
      ]
     },
     "execution_count": 51,
     "metadata": {},
     "output_type": "execute_result"
    }
   ],
   "source": [
    "np.random.seed(42)\n",
    "# normal(mean=10, sd=4)\n",
    "4*np.random.randn(2,2,2) + 10"
   ]
  },
  {
   "cell_type": "markdown",
   "metadata": {},
   "source": [
    "However, there is another way to generate more complex distributions. We can call the name of the distribution directly (Check the documentation for the full list).\n",
    "\n",
    "Here is an example of the normal distribution again, using the numpy random.normal function (the distribution name function):"
   ]
  },
  {
   "cell_type": "code",
   "execution_count": 42,
   "metadata": {},
   "outputs": [
    {
     "data": {
      "text/plain": [
       "array([11.49014246,  9.5852071 , 11.94306561,\n",
       "       14.56908957,  9.29753988,  9.29758913,\n",
       "       14.73763845, 12.30230419,  8.59157684,\n",
       "       11.62768013,  8.60974692,  8.60281074,\n",
       "       10.72588681,  4.26015927,  4.8252465 ,\n",
       "        8.31313741,  6.96150664, 10.942742  ,\n",
       "        7.27592777,  5.7630889 , 14.39694631,\n",
       "        9.3226711 , 10.20258461,  5.72575544,\n",
       "        8.36685183, 10.33276777,  6.54701927,\n",
       "       11.12709406,  8.19808393,  9.12491875,\n",
       "        8.19488016, 15.55683455,  9.95950833,\n",
       "        6.82686721, 12.46763474,  6.33746905,\n",
       "       10.62659079,  4.12098963,  6.01544185,\n",
       "       10.59058371, 12.21539974, 10.51410484,\n",
       "        9.65305515,  9.09668891,  5.56443403,\n",
       "        7.84046737,  8.61808369, 13.17136668,\n",
       "       11.03085487,  4.71087953, 10.97225191,\n",
       "        8.84475316,  7.969234  , 11.83502887,\n",
       "       13.09299857, 12.79384036,  7.48234743,\n",
       "        9.07236287, 10.99379029, 12.92663538,\n",
       "        8.56247729,  9.44302307,  6.68099508,\n",
       "        6.41138013, 12.43757747, 14.06872009,\n",
       "        9.78396964, 13.01059869, 11.08490808,\n",
       "        8.06464074, 11.08418682, 14.6141097 ,\n",
       "        9.89252188, 14.69393097,  2.14076469,\n",
       "       12.46570751, 10.2611412 ,  9.10297795,\n",
       "       10.27528233,  4.03729326,  9.34098434,\n",
       "       11.07133771, 14.43368213,  8.44518935,\n",
       "        7.57451919,  8.49472887, 12.74620635,\n",
       "       10.98625333,  8.41071939, 11.5398023 ,\n",
       "       10.29123265, 12.90593497,  7.89384072,\n",
       "        9.01701356,  8.82367554,  5.60945516,\n",
       "       10.88836083, 10.78316582, 10.01534037,\n",
       "        9.2962386 ])"
      ]
     },
     "execution_count": 42,
     "metadata": {},
     "output_type": "execute_result"
    }
   ],
   "source": [
    "# normal distribution, sd = 3\n",
    "np.random.seed(42)\n",
    "norm1 = np.random.normal(loc=10, scale=3, size=100)\n",
    "norm1"
   ]
  },
  {
   "cell_type": "code",
   "execution_count": 43,
   "metadata": {},
   "outputs": [
    {
     "data": {
      "image/png": "[encoded data removed]",
      "text/plain": [
       "<Figure size 432x288 with 1 Axes>"
      ]
     },
     "metadata": {},
     "output_type": "display_data"
    }
   ],
   "source": [
    "n, bins, patches = plt.hist(norm1, bins=20)"
   ]
  },
  {
   "cell_type": "markdown",
   "metadata": {},
   "source": [
    "Here is an example of the binomial distribution:"
   ]
  },
  {
   "cell_type": "code",
   "execution_count": 44,
   "metadata": {},
   "outputs": [
    {
     "name": "stdout",
     "output_type": "stream",
     "text": [
      "[0 1 0 0 0 0 0 1 0 0 0 1 1 0 0 0 0 0 0 0 0 0 0 0\n",
      " 0 0 0 0 0 0 0 0 0 1 1 1 0 0 0 0 0 0 0 1 0 0 0 0\n",
      " 0 0 1 0 1 1 0 1 0 0 0 0 0 0 1 0 0 0 0 1 0 1 0 0\n",
      " 0 1 0 0 0 0 0 0 1 0 0 0 0 0 0 0 1 0 0 0 0 0 0 0\n",
      " 0 0 0 0]\n"
     ]
    }
   ],
   "source": [
    "np.random.seed(42)\n",
    "# binomial (100 trials, probability of success=0.2,  samples)\n",
    "bin1 = np.random.binomial(n=1, p=0.2, size=100)\n",
    "print(bin1)"
   ]
  },
  {
   "cell_type": "code",
   "execution_count": 45,
   "metadata": {},
   "outputs": [
    {
     "data": {
      "text/plain": [
       "<matplotlib.axes._subplots.AxesSubplot at 0x7f65f7c701d0>"
      ]
     },
     "execution_count": 45,
     "metadata": {},
     "output_type": "execute_result"
    },
    {
     "data": {
      "image/png": "[encoded data removed]",
      "text/plain": [
       "<Figure size 432x288 with 1 Axes>"
      ]
     },
     "metadata": {},
     "output_type": "display_data"
    }
   ],
   "source": [
    "sns.countplot(bin1)"
   ]
  },
  {
   "cell_type": "markdown",
   "metadata": {},
   "source": [
    "Here is another example of the binomial distribution with more than one trial."
   ]
  },
  {
   "cell_type": "code",
   "execution_count": 46,
   "metadata": {},
   "outputs": [
    {
     "data": {
      "text/plain": [
       "array([13, 21, 18, 20, 25, 17, 19, 23, 17, 14,\n",
       "       18, 16, 26, 23, 21, 25, 23, 16, 25, 20,\n",
       "       23, 25, 18, 15, 17, 19, 24, 24, 11, 20,\n",
       "       19, 17, 15, 18, 26, 18, 20, 22, 19, 28,\n",
       "       27, 17, 20, 18, 18, 13, 21, 20, 14, 18])"
      ]
     },
     "execution_count": 46,
     "metadata": {},
     "output_type": "execute_result"
    }
   ],
   "source": [
    "# binomial (100 trials, probability of success=0.2, 50 samples)\n",
    "np.random.binomial(n=100, p=0.2, size=50)"
   ]
  },
  {
   "cell_type": "markdown",
   "metadata": {},
   "source": [
    "Numpy provides random number generation from other probability distributions such as binomial, poisson, uniform, and many others...   \n",
    "https://docs.scipy.org/doc/numpy-1.13.0/reference/routines.random.html#distributions"
   ]
  },
  {
   "cell_type": "markdown",
   "metadata": {},
   "source": [
    "## Concatenation / Conversion\n",
    "\n",
    "* We may wish to “bind” two arrays\n",
    "* We may wish to convert an array to a list for use in a different module function which expects a list\n"
   ]
  },
  {
   "cell_type": "code",
   "execution_count": 59,
   "metadata": {},
   "outputs": [
    {
     "data": {
      "text/plain": [
       "array([[0., 1., 2., 3., 4.],\n",
       "       [0., 0., 0., 0., 0.]])"
      ]
     },
     "execution_count": 59,
     "metadata": {},
     "output_type": "execute_result"
    }
   ],
   "source": [
    "# concatenate\n",
    "bin_ar = np.array(range(5))\n",
    "ar1 = np.zeros(5)\n",
    "np.vstack((bin_ar, ar1))"
   ]
  },
  {
   "cell_type": "code",
   "execution_count": 60,
   "metadata": {},
   "outputs": [
    {
     "data": {
      "text/plain": [
       "array([[0., 0.],\n",
       "       [1., 0.],\n",
       "       [2., 0.],\n",
       "       [3., 0.],\n",
       "       [4., 0.]])"
      ]
     },
     "execution_count": 60,
     "metadata": {},
     "output_type": "execute_result"
    }
   ],
   "source": [
    "# alternatively\n",
    "bin_ar = bin_ar.reshape((5, 1))\n",
    "ar2 = np.zeros((5, 1))\n",
    "np.hstack((bin_ar, ar2))"
   ]
  },
  {
   "cell_type": "code",
   "execution_count": 61,
   "metadata": {},
   "outputs": [
    {
     "name": "stdout",
     "output_type": "stream",
     "text": [
      "[[0], [1], [2], [3], [4]]\n"
     ]
    }
   ],
   "source": [
    "# convert to (nested) list\n",
    "result = bin_ar.tolist()\n",
    "print(result)"
   ]
  },
  {
   "cell_type": "markdown",
   "metadata": {},
   "source": [
    "## Numpy Iteration\n",
    "\n",
    "If we treat an ndarray as an iterable, we will be iterating through the rows."
   ]
  },
  {
   "cell_type": "code",
   "execution_count": 49,
   "metadata": {},
   "outputs": [
    {
     "data": {
      "text/plain": [
       "array([[ 6,  8],\n",
       "       [15, 17],\n",
       "       [ 8, 16]])"
      ]
     },
     "execution_count": 49,
     "metadata": {},
     "output_type": "execute_result"
    }
   ],
   "source": [
    "## iteration through columns or rows of ndarray\n",
    "np.random.seed(12)\n",
    "ar1 = np.random.poisson(10, 6).reshape(3, 2)\n",
    "ar1"
   ]
  },
  {
   "cell_type": "code",
   "execution_count": 63,
   "metadata": {},
   "outputs": [
    {
     "name": "stdout",
     "output_type": "stream",
     "text": [
      "[6 8]\n",
      "[15 17]\n",
      "[ 8 16]\n"
     ]
    }
   ],
   "source": [
    "for i in ar1:\n",
    "    print(i)"
   ]
  },
  {
   "cell_type": "code",
   "execution_count": 50,
   "metadata": {},
   "outputs": [
    {
     "name": "stdout",
     "output_type": "stream",
     "text": [
      "[ 6 15  8]\n",
      "[ 8 17 16]\n"
     ]
    }
   ],
   "source": [
    "## How would you iterate columns?\n",
    "for i in ar1.transpose():\n",
    "    print(i)"
   ]
  },
  {
   "cell_type": "code",
   "execution_count": 51,
   "metadata": {},
   "outputs": [
    {
     "name": "stdout",
     "output_type": "stream",
     "text": [
      "[ 6 15  8]\n",
      "[ 8 17 16]\n"
     ]
    }
   ],
   "source": [
    "## More concise\n",
    "for i in ar1.T:\n",
    "    print(i)"
   ]
  },
  {
   "cell_type": "markdown",
   "metadata": {},
   "source": [
    "## Conclusion\n",
    "\n",
    "This is a *very* brief introduction to Numpy. Numpy contains many more useful methods and functions, and is leveraged by other scientific packages for its linear algebra, math and stats methods, complex arrays and more. \n",
    "\n",
    "Read the chapter on Numpy in your handbook here for more details:\n",
    "\n",
    "https://jakevdp.github.io/PythonDataScienceHandbook/02.00-introduction-to-numpy.html"
   ]
  }
 ],
 "metadata": {
  "anaconda-cloud": {},
  "kernelspec": {
   "display_name": "Python 3",
   "language": "python",
   "name": "python3"
  },
  "language_info": {
   "codemirror_mode": {
    "name": "ipython",
    "version": 3
   },
   "file_extension": ".py",
   "mimetype": "text/x-python",
   "name": "python",
   "nbconvert_exporter": "python",
   "pygments_lexer": "ipython3",
   "version": "3.6.7"
  }
 },
 "nbformat": 4,
 "nbformat_minor": 1
}
