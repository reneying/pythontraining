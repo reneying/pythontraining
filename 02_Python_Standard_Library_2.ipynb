{
 "cells": [
  {
   "cell_type": "markdown",
   "metadata": {},
   "source": [
    "# Base Python Coding Review"
   ]
  },
  {
   "cell_type": "markdown",
   "metadata": {},
   "source": [
    "*Author: Evan Carey, written for BH Analytics*\n",
    "\n",
    "*Copyright 2017-2019, BH Analytics, LLC*"
   ]
  },
  {
   "cell_type": "markdown",
   "metadata": {},
   "source": [
    "## Overview"
   ]
  },
  {
   "cell_type": "markdown",
   "metadata": {},
   "source": [
    "We will now review base Python collections (groups of values), and functions. You will use these concepts throughout your data engineering and manipulation efforts in Python. \n",
    "\n",
    "* Python Collections\n",
    "* Slicing\n",
    "* Loops / list comprehension\n",
    "* Functions\n",
    "* Generators\n",
    "* Classes and OOP design principles"
   ]
  },
  {
   "cell_type": "markdown",
   "metadata": {},
   "source": [
    "## Packages"
   ]
  },
  {
   "cell_type": "markdown",
   "metadata": {},
   "source": [
    "We will load up a few packages first:"
   ]
  },
  {
   "cell_type": "code",
   "execution_count": 1,
   "metadata": {},
   "outputs": [],
   "source": [
    "# load some packages\n",
    "import sys\n",
    "import os\n",
    "import textwrap # adding this to make wrapping text easier for printed materials. "
   ]
  },
  {
   "cell_type": "markdown",
   "metadata": {},
   "source": [
    "Now that I have loaded that package, I can access the objects inside the package by typing `package.object` generally. In this case, I am getting the Python version by typing `sys.version`, and then calling the `textwrap.fill()` function on that result. "
   ]
  },
  {
   "cell_type": "code",
   "execution_count": 2,
   "metadata": {},
   "outputs": [
    {
     "name": "stdout",
     "output_type": "stream",
     "text": [
      "3.6.7 | packaged by conda-forge | (default, Feb 26 2019, 03:50:56)\n",
      "[GCC 7.3.0] \n",
      "\n"
     ]
    }
   ],
   "source": [
    "# Get Version information\n",
    "print(textwrap.fill(sys.version),'\\n')"
   ]
  },
  {
   "cell_type": "markdown",
   "metadata": {},
   "source": [
    "I am going to add this piece of code to ensure all the Python output comes through each of the jupyter notebook chunks. If not, the default behaviour is to only print the final output. "
   ]
  },
  {
   "cell_type": "code",
   "execution_count": 3,
   "metadata": {},
   "outputs": [],
   "source": [
    "## So all output comes through from Ipython\n",
    "from IPython.core.interactiveshell import InteractiveShell\n",
    "InteractiveShell.ast_node_interactivity = \"all\""
   ]
  },
  {
   "cell_type": "markdown",
   "metadata": {},
   "source": [
    "## Check your Working Directory"
   ]
  },
  {
   "cell_type": "markdown",
   "metadata": {},
   "source": [
    "As always, I start by changing the working directory to be "
   ]
  },
  {
   "cell_type": "code",
   "execution_count": 4,
   "metadata": {},
   "outputs": [
    {
     "name": "stdout",
     "output_type": "stream",
     "text": [
      "My working directory:\n",
      "/home/ra/host/BH_Analytics/Discover/DataEngineering/notebooks\n",
      "My working directory:\n",
      "/home/ra/host/BH_Analytics/Discover/DataEngineering\n"
     ]
    }
   ],
   "source": [
    "# Working Directory\n",
    "print(\"My working directory:\\n\" + os.getcwd())\n",
    "# Set Working Directory (if needed)\n",
    "os.chdir(r\"/home/ra/host/BH_Analytics/Discover/DataEngineering/\")\n",
    "# Confirm it changed the working Directory\n",
    "print(\"My working directory:\\n\" + os.getcwd())"
   ]
  },
  {
   "cell_type": "markdown",
   "metadata": {},
   "source": [
    "## Data Structures (containers or collections)"
   ]
  },
  {
   "cell_type": "markdown",
   "metadata": {},
   "source": [
    "What if we want to organize multiple python objects into a single object? We call this a 'collection' of objects. An example might be a list of customer_ids, or a list of addresses...  \n",
    "There are multiple collections (or containers) in Python we can use. We will go over the basics here:\n",
    "\n",
    "* Tuple\n",
    " * Immutable, fixed length sequence\n",
    "* Lists\n",
    " * Mutable sequence of objects\n",
    "* Sets\n",
    " * Unique collection of objects\n",
    "* Dicts (dictionaries)\n",
    " * List of objects with a \"key\""
   ]
  },
  {
   "cell_type": "markdown",
   "metadata": {},
   "source": [
    "### Tuple\n",
    "\n",
    "A tuple is similar to a list, but it is immutable. The `()` is implied when creating a comma separated object."
   ]
  },
  {
   "cell_type": "code",
   "execution_count": 5,
   "metadata": {},
   "outputs": [
    {
     "data": {
      "text/plain": [
       "True"
      ]
     },
     "execution_count": 5,
     "metadata": {},
     "output_type": "execute_result"
    }
   ],
   "source": [
    "# Tuple\n",
    "tup1 = 3, 4, 5, 6\n",
    "tup2 = (3, 4, 5, 6)\n",
    "tup1 == tup2"
   ]
  },
  {
   "cell_type": "code",
   "execution_count": 6,
   "metadata": {
    "tags": [
     "raises-exception"
    ]
   },
   "outputs": [
    {
     "ename": "TypeError",
     "evalue": "'tuple' object does not support item assignment",
     "output_type": "error",
     "traceback": [
      "\u001b[0;31m---------------------------------------------------------------------------\u001b[0m",
      "\u001b[0;31mTypeError\u001b[0m                                 Traceback (most recent call last)",
      "\u001b[0;32m<ipython-input-6-45de58f52012>\u001b[0m in \u001b[0;36m<module>\u001b[0;34m\u001b[0m\n\u001b[1;32m      1\u001b[0m \u001b[0;31m# Immutable, assignment raises error (like strings)\u001b[0m\u001b[0;34m\u001b[0m\u001b[0;34m\u001b[0m\u001b[0;34m\u001b[0m\u001b[0m\n\u001b[0;32m----> 2\u001b[0;31m \u001b[0mtup1\u001b[0m\u001b[0;34m[\u001b[0m\u001b[0;36m1\u001b[0m\u001b[0;34m]\u001b[0m \u001b[0;34m=\u001b[0m \u001b[0;36m10\u001b[0m\u001b[0;34m\u001b[0m\u001b[0;34m\u001b[0m\u001b[0m\n\u001b[0m",
      "\u001b[0;31mTypeError\u001b[0m: 'tuple' object does not support item assignment"
     ]
    }
   ],
   "source": [
    "# Immutable, assignment raises error (like strings)\n",
    "tup1[1] = 10"
   ]
  },
  {
   "cell_type": "markdown",
   "metadata": {},
   "source": [
    "We can convert any iterable object to a tuple with the `tuple()` function. If we call this on a string, what do you expect to happen?  \n",
    "Are the two calls below identical?"
   ]
  },
  {
   "cell_type": "code",
   "execution_count": 7,
   "metadata": {},
   "outputs": [
    {
     "name": "stdout",
     "output_type": "stream",
     "text": [
      "long string!\n"
     ]
    },
    {
     "data": {
      "text/plain": [
       "str"
      ]
     },
     "execution_count": 7,
     "metadata": {},
     "output_type": "execute_result"
    }
   ],
   "source": [
    "# type conversion\n",
    "b = (\"long string!\")\n",
    "print(b)\n",
    "type(b) # didn't work"
   ]
  },
  {
   "cell_type": "code",
   "execution_count": 8,
   "metadata": {},
   "outputs": [
    {
     "name": "stdout",
     "output_type": "stream",
     "text": [
      "('long string!',)\n"
     ]
    },
    {
     "data": {
      "text/plain": [
       "tuple"
      ]
     },
     "execution_count": 8,
     "metadata": {},
     "output_type": "execute_result"
    }
   ],
   "source": [
    "# Now it is a tuple\n",
    "b = \"long string!\",\n",
    "print(b)\n",
    "type(b)"
   ]
  },
  {
   "cell_type": "code",
   "execution_count": 9,
   "metadata": {},
   "outputs": [
    {
     "name": "stdout",
     "output_type": "stream",
     "text": [
      "('l', 'o', 'n', 'g', ' ', 's', 't', 'r', 'i', 'n', 'g', '!')\n"
     ]
    }
   ],
   "source": [
    "# this converts it as an iterable, probably not what we wanted...\n",
    "b = tuple(\"long string!\")\n",
    "print(b)"
   ]
  },
  {
   "cell_type": "markdown",
   "metadata": {},
   "source": [
    "More notes on Tuples:\n",
    "* Tuples can be concatenated with `\"+\"`\n",
    "* Tuples can be nested\n",
    "* We index tuples as we have other objects\n",
    " * Use `[]` Counting starts at 0\n"
   ]
  },
  {
   "cell_type": "code",
   "execution_count": 10,
   "metadata": {},
   "outputs": [
    {
     "data": {
      "text/plain": [
       "(1, 2, 3, 4)"
      ]
     },
     "execution_count": 10,
     "metadata": {},
     "output_type": "execute_result"
    }
   ],
   "source": [
    "# Tuple concatenation\n",
    "tup1 = 1, 2\n",
    "tup2 = 3, 4\n",
    "tup1 + tup2"
   ]
  },
  {
   "cell_type": "code",
   "execution_count": 11,
   "metadata": {},
   "outputs": [
    {
     "data": {
      "text/plain": [
       "('the', 'first')"
      ]
     },
     "execution_count": 11,
     "metadata": {},
     "output_type": "execute_result"
    },
    {
     "data": {
      "text/plain": [
       "'the'"
      ]
     },
     "execution_count": 11,
     "metadata": {},
     "output_type": "execute_result"
    },
    {
     "data": {
      "text/plain": [
       "'e'"
      ]
     },
     "execution_count": 11,
     "metadata": {},
     "output_type": "execute_result"
    }
   ],
   "source": [
    "# Nesting\n",
    "nest = ((\"the\", \"first\"), (\"the\", \"second\"))\n",
    "nest[0]\n",
    "nest[0][0]\n",
    "nest[0][0][2]"
   ]
  },
  {
   "cell_type": "markdown",
   "metadata": {},
   "source": [
    "Tuple unpacking - This is a \"Pythonic\" thing. Tuples will \"unpack\" themselves upon assignment if possible."
   ]
  },
  {
   "cell_type": "code",
   "execution_count": 12,
   "metadata": {},
   "outputs": [
    {
     "name": "stdout",
     "output_type": "stream",
     "text": [
      "('the', 'first')\n",
      "the\n"
     ]
    }
   ],
   "source": [
    "# Unpacking\n",
    "a, b = nest\n",
    "print(a)\n",
    "\n",
    "(a1, a2), (b1, b2) = nest\n",
    "print(a1)"
   ]
  },
  {
   "cell_type": "markdown",
   "metadata": {},
   "source": [
    "### Lists"
   ]
  },
  {
   "cell_type": "markdown",
   "metadata": {},
   "source": [
    "A list is a container that can organize other values, much like a tuple. The main difference is that lists are mutable, so we can grow them, or change elements of them. We create a list using the square brackets `[]`"
   ]
  },
  {
   "cell_type": "code",
   "execution_count": 13,
   "metadata": {},
   "outputs": [
    {
     "data": {
      "text/plain": [
       "['white', 'yellow', 'red']"
      ]
     },
     "execution_count": 13,
     "metadata": {},
     "output_type": "execute_result"
    },
    {
     "data": {
      "text/plain": [
       "list"
      ]
     },
     "execution_count": 13,
     "metadata": {},
     "output_type": "execute_result"
    }
   ],
   "source": [
    "#### Containers\n",
    "## Lists\n",
    "colList = [\"white\", \"yellow\", \"red\"]\n",
    "colList\n",
    "type(colList)"
   ]
  },
  {
   "cell_type": "code",
   "execution_count": 14,
   "metadata": {},
   "outputs": [
    {
     "data": {
      "text/plain": [
       "'white'"
      ]
     },
     "execution_count": 14,
     "metadata": {},
     "output_type": "execute_result"
    },
    {
     "data": {
      "text/plain": [
       "['white', 'yellow']"
      ]
     },
     "execution_count": 14,
     "metadata": {},
     "output_type": "execute_result"
    },
    {
     "data": {
      "text/plain": [
       "'red'"
      ]
     },
     "execution_count": 14,
     "metadata": {},
     "output_type": "execute_result"
    }
   ],
   "source": [
    "## First Element\n",
    "colList[0]\n",
    "## First and Second Element\n",
    "colList[0:2]\n",
    "## Last element\n",
    "colList[-1]"
   ]
  },
  {
   "cell_type": "markdown",
   "metadata": {},
   "source": [
    "We can append, insert, and remove list elements with list methods. This is because they are iterable..."
   ]
  },
  {
   "cell_type": "code",
   "execution_count": 15,
   "metadata": {},
   "outputs": [
    {
     "data": {
      "text/plain": [
       "['a', 'b', 'c', 'd', 'e']"
      ]
     },
     "execution_count": 15,
     "metadata": {},
     "output_type": "execute_result"
    }
   ],
   "source": [
    "list2 = [\"a\", \"b\", \"c\"]\n",
    "list2.extend([\"d\", \"e\"])\n",
    "list2"
   ]
  },
  {
   "cell_type": "code",
   "execution_count": 16,
   "metadata": {
    "scrolled": true
   },
   "outputs": [
    {
     "data": {
      "text/plain": [
       "['a', 'b', 'c', 'd']"
      ]
     },
     "execution_count": 16,
     "metadata": {},
     "output_type": "execute_result"
    }
   ],
   "source": [
    "### List functions\n",
    "## Append an element\n",
    "list2 = [\"a\", \"b\", \"c\"]\n",
    "list2.append(\"d\")\n",
    "list2"
   ]
  },
  {
   "cell_type": "code",
   "execution_count": 17,
   "metadata": {},
   "outputs": [
    {
     "data": {
      "text/plain": [
       "['a', 'a.5', 'b', 'c', 'd']"
      ]
     },
     "execution_count": 17,
     "metadata": {},
     "output_type": "execute_result"
    }
   ],
   "source": [
    "## Insert an element\n",
    "list2.insert(1, \"a.5\")\n",
    "list2"
   ]
  },
  {
   "cell_type": "code",
   "execution_count": 18,
   "metadata": {},
   "outputs": [
    {
     "data": {
      "text/plain": [
       "['a', 'b', 'c', 'd']"
      ]
     },
     "execution_count": 18,
     "metadata": {},
     "output_type": "execute_result"
    }
   ],
   "source": [
    "## Remove an element\n",
    "list2.remove(\"a.5\")\n",
    "list2"
   ]
  },
  {
   "cell_type": "code",
   "execution_count": 19,
   "metadata": {},
   "outputs": [
    {
     "data": {
      "text/plain": [
       "['a', 'b', 'c', 'd', ['d', 'e', 'f']]"
      ]
     },
     "execution_count": 19,
     "metadata": {},
     "output_type": "execute_result"
    }
   ],
   "source": [
    "## Append another list...what happened?\n",
    "list2.append([\"d\", \"e\", \"f\"])\n",
    "list2\n",
    "# Didn’t work as expected"
   ]
  },
  {
   "cell_type": "markdown",
   "metadata": {},
   "source": [
    "We can add items onto the end of a list using either append or extend as you just saw"
   ]
  },
  {
   "cell_type": "code",
   "execution_count": 20,
   "metadata": {},
   "outputs": [
    {
     "name": "stdout",
     "output_type": "stream",
     "text": [
      "['a', 'b', 'c', 'd', ['d', 'e', 'f'], 'd', 'e', 'f']\n"
     ]
    }
   ],
   "source": [
    "# Run help(list) to view help on list module\n",
    "list2.extend([\"d\", \"e\", \"f\"])\n",
    "print(list2)"
   ]
  },
  {
   "cell_type": "markdown",
   "metadata": {},
   "source": [
    "What if we want to concatenate or repeat a list?\n",
    "\n",
    "* Lists can be concatenated with the `+` symbol  \n",
    "\n",
    "* Lists can be repeated with `*` *integer*"
   ]
  },
  {
   "cell_type": "code",
   "execution_count": 21,
   "metadata": {},
   "outputs": [
    {
     "name": "stdout",
     "output_type": "stream",
     "text": [
      "['white', 'yellow', 'red', 'Next', 'List']\n"
     ]
    },
    {
     "data": {
      "text/plain": [
       "['white', 'yellow', 'red', 'white', 'yellow', 'red']"
      ]
     },
     "execution_count": 21,
     "metadata": {},
     "output_type": "execute_result"
    }
   ],
   "source": [
    "## Concatenate lists with +\n",
    "print(colList + [\"Next\", \"List\"])\n",
    "\n",
    "## repeat a list with * (must be int)\n",
    "colList*2"
   ]
  },
  {
   "cell_type": "markdown",
   "metadata": {},
   "source": [
    "#### Tuples Versus Lists\n",
    "\n",
    "* Tuples `()` are immutable, fixed length.  \n",
    "* Lists `[]` are the opposite.\n",
    "* This is the main functional difference.  \n",
    "* Use tuples when you want implicit read-only protection on the data, implied constant.  \n",
    "* Tuples are faster to iterate through.  "
   ]
  },
  {
   "cell_type": "markdown",
   "metadata": {},
   "source": [
    "#### Slicing (Indexing)\n",
    "\n",
    "* We have seen this a few times, let’s formally address it.\n",
    "* We can slice (index) sequence like objects similarly\n",
    " * Use `[]`. Python starts counting at 0, so `var[0]` is the first element\n",
    " * We can get a range (a slice) using `\":\"` example: `var[0:2]`\n",
    " * Slices are __start__ inclusive, __finish__ exclusive"
   ]
  },
  {
   "cell_type": "code",
   "execution_count": 22,
   "metadata": {},
   "outputs": [
    {
     "data": {
      "text/plain": [
       "[1, 2, 3, 4, 5, 6, 7, 8, 9, 10]"
      ]
     },
     "execution_count": 22,
     "metadata": {},
     "output_type": "execute_result"
    }
   ],
   "source": [
    "# Slicing: first create a list of numbers\n",
    "seq1 = list(range(1, 11))\n",
    "seq1"
   ]
  },
  {
   "cell_type": "code",
   "execution_count": 23,
   "metadata": {},
   "outputs": [
    {
     "data": {
      "text/plain": [
       "[1, 2]"
      ]
     },
     "execution_count": 23,
     "metadata": {},
     "output_type": "execute_result"
    },
    {
     "data": {
      "text/plain": [
       "[3, 4, 5, 6, 7, 8, 9, 10]"
      ]
     },
     "execution_count": 23,
     "metadata": {},
     "output_type": "execute_result"
    },
    {
     "data": {
      "text/plain": [
       "[1, 2, 3, 4, 5, 6, 7, 8]"
      ]
     },
     "execution_count": 23,
     "metadata": {},
     "output_type": "execute_result"
    },
    {
     "data": {
      "text/plain": [
       "[8]"
      ]
     },
     "execution_count": 23,
     "metadata": {},
     "output_type": "execute_result"
    }
   ],
   "source": [
    "## Different slicing techniques\n",
    "# first and second\n",
    "seq1[0:2]\n",
    "# Third to the end\n",
    "seq1[2:]\n",
    "# up to the 8 element\n",
    "seq1[:8]\n",
    "# only the 8 element\n",
    "seq1[7:8]"
   ]
  },
  {
   "cell_type": "markdown",
   "metadata": {},
   "source": [
    "The `\":\"` has three arguments: *Start*, *stop*, *increment* \n",
    "\n",
    "So far, we are leaving the increment blank and therefore it is the default value of 1. \n",
    "\n",
    "*Start*/*Stop* can be negative, implying count from the end. We'll explore this below. *Increment* default value is 1, but it can be any integer (including negative values)."
   ]
  },
  {
   "cell_type": "code",
   "execution_count": 24,
   "metadata": {},
   "outputs": [
    {
     "name": "stdout",
     "output_type": "stream",
     "text": [
      "Starting sequence: [1, 2, 3, 4, 5, 6, 7, 8, 9, 10]\n"
     ]
    }
   ],
   "source": [
    "# Slice stepping \n",
    "print(\"Starting sequence:\", seq1)"
   ]
  },
  {
   "cell_type": "code",
   "execution_count": 25,
   "metadata": {},
   "outputs": [
    {
     "data": {
      "text/plain": [
       "10"
      ]
     },
     "execution_count": 25,
     "metadata": {},
     "output_type": "execute_result"
    }
   ],
   "source": [
    "# first from the end\n",
    "seq1[-1]"
   ]
  },
  {
   "cell_type": "code",
   "execution_count": 26,
   "metadata": {},
   "outputs": [
    {
     "data": {
      "text/plain": [
       "[1, 3, 5, 7, 9]"
      ]
     },
     "execution_count": 26,
     "metadata": {},
     "output_type": "execute_result"
    }
   ],
   "source": [
    "# first to the 9th by 2\n",
    "seq1[:9:2]"
   ]
  },
  {
   "cell_type": "code",
   "execution_count": 27,
   "metadata": {},
   "outputs": [
    {
     "data": {
      "text/plain": [
       "[10, 8, 6, 4, 2]"
      ]
     },
     "execution_count": 27,
     "metadata": {},
     "output_type": "execute_result"
    }
   ],
   "source": [
    "# 10th to the first by negative 2\n",
    "seq1[9:0:-2]"
   ]
  },
  {
   "cell_type": "code",
   "execution_count": 28,
   "metadata": {},
   "outputs": [
    {
     "data": {
      "text/plain": [
       "[]"
      ]
     },
     "execution_count": 28,
     "metadata": {},
     "output_type": "execute_result"
    }
   ],
   "source": [
    "# why does this not print anything?\n",
    "seq1[-2:-5]"
   ]
  },
  {
   "cell_type": "code",
   "execution_count": 29,
   "metadata": {},
   "outputs": [
    {
     "data": {
      "text/plain": [
       "[9, 8, 7]"
      ]
     },
     "execution_count": 29,
     "metadata": {},
     "output_type": "execute_result"
    }
   ],
   "source": [
    "# Because of the step! (increment)\n",
    "seq1[-2:-5:-1]"
   ]
  },
  {
   "cell_type": "code",
   "execution_count": 30,
   "metadata": {},
   "outputs": [
    {
     "data": {
      "text/plain": [
       "[10, 9, 8, 7, 6, 5, 4, 3, 2, 1]"
      ]
     },
     "execution_count": 30,
     "metadata": {},
     "output_type": "execute_result"
    }
   ],
   "source": [
    "# How would you Reverse the entire sequence? \n",
    "seq1[::-1]"
   ]
  },
  {
   "cell_type": "markdown",
   "metadata": {},
   "source": [
    "### Dictionaries\n",
    "\n",
    "A dictionary, or dict, is a collection of objects that have been mapped to a key (a collection of key-value pairs). Dicts are inherently unordered, so we subset only by using the key."
   ]
  },
  {
   "cell_type": "code",
   "execution_count": 31,
   "metadata": {},
   "outputs": [],
   "source": [
    "#### Dicts\n",
    "d1 = {'id': [1, 2, 3, 4], 'SES': [\"high\", \"low\"]}"
   ]
  },
  {
   "cell_type": "code",
   "execution_count": 32,
   "metadata": {},
   "outputs": [
    {
     "data": {
      "text/plain": [
       "[1, 2, 3, 4]"
      ]
     },
     "execution_count": 32,
     "metadata": {},
     "output_type": "execute_result"
    }
   ],
   "source": [
    "d1['id']"
   ]
  },
  {
   "cell_type": "code",
   "execution_count": 33,
   "metadata": {},
   "outputs": [
    {
     "data": {
      "text/plain": [
       "['high', 'low']"
      ]
     },
     "execution_count": 33,
     "metadata": {},
     "output_type": "execute_result"
    }
   ],
   "source": [
    "d1['SES']"
   ]
  },
  {
   "cell_type": "code",
   "execution_count": 34,
   "metadata": {},
   "outputs": [
    {
     "data": {
      "text/plain": [
       "dict_keys(['id', 'SES'])"
      ]
     },
     "execution_count": 34,
     "metadata": {},
     "output_type": "execute_result"
    }
   ],
   "source": [
    "d1.keys()"
   ]
  },
  {
   "cell_type": "code",
   "execution_count": 35,
   "metadata": {},
   "outputs": [
    {
     "data": {
      "text/plain": [
       "dict_values([[1, 2, 3, 4], ['high', 'low']])"
      ]
     },
     "execution_count": 35,
     "metadata": {},
     "output_type": "execute_result"
    }
   ],
   "source": [
    "d1.values()"
   ]
  },
  {
   "cell_type": "code",
   "execution_count": 36,
   "metadata": {},
   "outputs": [
    {
     "data": {
      "text/plain": [
       "dict_items([('id', [1, 2, 3, 4]), ('SES', ['high', 'low'])])"
      ]
     },
     "execution_count": 36,
     "metadata": {},
     "output_type": "execute_result"
    }
   ],
   "source": [
    "## print keys and values \n",
    "d1.items()"
   ]
  },
  {
   "cell_type": "markdown",
   "metadata": {},
   "source": [
    "###  Ordered Dictionaries"
   ]
  },
  {
   "cell_type": "markdown",
   "metadata": {},
   "source": [
    "We may wish to track the order of items in a dictionary for some use cases. There is a subclass of dictionaries called the `OrderedDict`. This will remember the order items were added and keep them in that order during iteration. In Python < 3.6, this behaviour would be different in dicts and ordered dicts. In Python >= 3.6 regular dicts also track the order of objects, but this is a side-effect rather than intentional behaviour. Use an ordered dict if you want to maintain a specific order during iteration. \n",
    "\n",
    "It does require importing the collections module however. Let's see a few differences:"
   ]
  },
  {
   "cell_type": "code",
   "execution_count": 37,
   "metadata": {},
   "outputs": [
    {
     "name": "stdout",
     "output_type": "stream",
     "text": [
      "User John Smith\n",
      "Age 34\n",
      "Salary 60k\n"
     ]
    }
   ],
   "source": [
    "## Regular Dict\n",
    "new_dict = {}\n",
    "new_dict['User'] = 'John Smith'\n",
    "new_dict['Age'] = 34\n",
    "new_dict['Salary'] = '60k'\n",
    "\n",
    "## print dict results\n",
    "for i, value in new_dict.items():\n",
    "    print(i, value)"
   ]
  },
  {
   "cell_type": "code",
   "execution_count": 38,
   "metadata": {},
   "outputs": [
    {
     "name": "stdout",
     "output_type": "stream",
     "text": [
      "User John Smith\n",
      "Age 34\n",
      "Salary 60k\n"
     ]
    }
   ],
   "source": [
    "## ordered dict\n",
    "import collections\n",
    "new_dict2 = collections.OrderedDict()\n",
    "new_dict2['User'] = 'John Smith'\n",
    "new_dict2['Age'] = 34\n",
    "new_dict2['Salary'] = '60k'\n",
    "\n",
    "## print dict results\n",
    "for i, value in new_dict2.items():\n",
    "    print(i, value)"
   ]
  },
  {
   "cell_type": "markdown",
   "metadata": {},
   "source": [
    "That looked the same, although it would not have in earlier version of Python. However, we can explicitly move objects to the start or end of an ordered dict: "
   ]
  },
  {
   "cell_type": "code",
   "execution_count": 39,
   "metadata": {},
   "outputs": [
    {
     "name": "stdout",
     "output_type": "stream",
     "text": [
      "User John Smith\n",
      "Salary 60k\n",
      "Age 34\n"
     ]
    }
   ],
   "source": [
    "new_dict2.move_to_end('Age')\n",
    "\n",
    "## print dict results\n",
    "for i, value in new_dict2.items():\n",
    "    print(i, value)"
   ]
  },
  {
   "cell_type": "markdown",
   "metadata": {},
   "source": [
    "## Control Flow"
   ]
  },
  {
   "cell_type": "markdown",
   "metadata": {},
   "source": [
    "### If-Else flows\n",
    "\n",
    "The `if` statement checks a condition. If true, it executes the first code block. Additional if conditions can be checked with `elif`. If none of these are true, the `else` block is executed. "
   ]
  },
  {
   "cell_type": "code",
   "execution_count": 40,
   "metadata": {},
   "outputs": [
    {
     "name": "stdout",
     "output_type": "stream",
     "text": [
      "better luck next time.\n"
     ]
    }
   ],
   "source": [
    "the_answer = 30\n",
    "\n",
    "if the_answer == 42:\n",
    "    print (\"good job.\")\n",
    "elif the_answer == 0:\n",
    "    print (\"nice try.\")\n",
    "else:\n",
    "    print (\"better luck next time.\")"
   ]
  },
  {
   "cell_type": "markdown",
   "metadata": {},
   "source": [
    "### While Loop\n",
    "\n",
    "The while loop in Python works similarly to other languages. You start with a condition, once it evaluates to false the loop is terminated.  \n"
   ]
  },
  {
   "cell_type": "code",
   "execution_count": 41,
   "metadata": {},
   "outputs": [
    {
     "name": "stdout",
     "output_type": "stream",
     "text": [
      "Still Positive...i = 5\n",
      "4\n",
      "Still Positive...i = 4\n",
      "3\n",
      "Still Positive...i = 3\n",
      "2\n",
      "Still Positive...i = 2\n",
      "1\n",
      "Still Positive...i = 1\n",
      "0\n"
     ]
    }
   ],
   "source": [
    "## While Loops\n",
    "counter = 5\n",
    "while counter > 0:\n",
    "    print(\"Still Positive...i = \" + str(counter))\n",
    "    counter = counter - 1\n",
    "    print(counter)"
   ]
  },
  {
   "cell_type": "markdown",
   "metadata": {},
   "source": [
    "### For Loops\n",
    "\n",
    "The Python for loop looks almost like Pseudo-code! Whitespace is used to indicate the interior of the loop. Indentation matters! In fact, the loop contents are defined by having similarly indented code. "
   ]
  },
  {
   "cell_type": "code",
   "execution_count": 42,
   "metadata": {},
   "outputs": [
    {
     "name": "stdout",
     "output_type": "stream",
     "text": [
      "0\n",
      "Next!\n",
      "1\n",
      "Next!\n",
      "2\n",
      "Next!\n",
      "3\n",
      "Next!\n",
      "4\n",
      "Next!\n",
      "5\n",
      "Next!\n",
      "6\n",
      "Next!\n",
      "7\n",
      "Next!\n",
      "8\n",
      "Next!\n",
      "9\n",
      "Next!\n"
     ]
    }
   ],
   "source": [
    "#### Control flow\n",
    "## For Loops\n",
    "for i in range(10):\n",
    "    print(i)\n",
    "    print('Next!')"
   ]
  },
  {
   "cell_type": "markdown",
   "metadata": {},
   "source": [
    "We often want to enumerate within the for loop (establish a counter). You can do this using tuple unpacking and the `enumerate()` function. `enumerate()` returns a generator that will yield a tuple of length two, with the values of the iterable and a counter. We haven't discussed generators yet...think of them like a lazy version of an object. In this case, instead of making the entire tuple at once, `enumerate()` creates a generator that will give us the elements of the tuple as we call them."
   ]
  },
  {
   "cell_type": "code",
   "execution_count": 43,
   "metadata": {},
   "outputs": [
    {
     "data": {
      "text/plain": [
       "<enumerate at 0x7f53946f3240>"
      ]
     },
     "execution_count": 43,
     "metadata": {},
     "output_type": "execute_result"
    }
   ],
   "source": [
    "## Create a list of names\n",
    "name_list = ['Ra', 'John', 'Kerry']\n",
    "enumerate(name_list) # this is a generator"
   ]
  },
  {
   "cell_type": "code",
   "execution_count": 44,
   "metadata": {},
   "outputs": [
    {
     "data": {
      "text/plain": [
       "(0, 'Ra')"
      ]
     },
     "execution_count": 44,
     "metadata": {},
     "output_type": "execute_result"
    },
    {
     "data": {
      "text/plain": [
       "(1, 'John')"
      ]
     },
     "execution_count": 44,
     "metadata": {},
     "output_type": "execute_result"
    },
    {
     "data": {
      "text/plain": [
       "(2, 'Kerry')"
      ]
     },
     "execution_count": 44,
     "metadata": {},
     "output_type": "execute_result"
    }
   ],
   "source": [
    "## ask for elements of the generator:\n",
    "for i in enumerate(name_list):\n",
    "    i"
   ]
  },
  {
   "cell_type": "markdown",
   "metadata": {},
   "source": [
    "We typically use tuple unpacking to catch the counter part like this:"
   ]
  },
  {
   "cell_type": "code",
   "execution_count": 45,
   "metadata": {},
   "outputs": [
    {
     "name": "stdout",
     "output_type": "stream",
     "text": [
      "First Word: The\n",
      "Next Word: Dog\n",
      "Next Word: Cat\n"
     ]
    }
   ],
   "source": [
    "## enumeration within for loop\n",
    "for counter,element in enumerate([\"The\", \"Dog\", \"Cat\"]):\n",
    "    if counter == 0:\n",
    "        print(\"First Word: \" + element)\n",
    "    else:\n",
    "        print(\"Next Word: \" + element)"
   ]
  },
  {
   "cell_type": "markdown",
   "metadata": {},
   "source": [
    "You should use `enumerate()` to keep a counter in a for loop. Open the Python enumerate help document to view more information by submitting `?enumerate`"
   ]
  },
  {
   "cell_type": "markdown",
   "metadata": {},
   "source": [
    "### List Comprehension"
   ]
  },
  {
   "cell_type": "markdown",
   "metadata": {},
   "source": [
    "List comprehension is a popular part of Python. Essentially, it's a for loop that returns a list. If we didn't have list comprehension, we would need to first declare the new list, then add in the elements as we iterated through something. That would look like this:"
   ]
  },
  {
   "cell_type": "code",
   "execution_count": 46,
   "metadata": {},
   "outputs": [
    {
     "data": {
      "text/plain": [
       "[0, 1, 2, 3, 4, 5, 6, 7, 8, 9]"
      ]
     },
     "execution_count": 46,
     "metadata": {},
     "output_type": "execute_result"
    },
    {
     "data": {
      "text/plain": [
       "[0, 1, 4, 9, 16, 25, 36, 49, 64, 81]"
      ]
     },
     "execution_count": 46,
     "metadata": {},
     "output_type": "execute_result"
    }
   ],
   "source": [
    "## Create a new variable that is x1 squared\n",
    "x1 = list(range(10))\n",
    "y1 = []\n",
    "for i in x1:\n",
    "    y1.append(i*i)\n",
    "x1\n",
    "y1"
   ]
  },
  {
   "cell_type": "markdown",
   "metadata": {},
   "source": [
    "Instead, we use list comprehension to accomplish this all at once. "
   ]
  },
  {
   "cell_type": "code",
   "execution_count": 47,
   "metadata": {},
   "outputs": [
    {
     "data": {
      "text/plain": [
       "[0, 1, 4, 9, 16, 25, 36, 49, 64, 81]"
      ]
     },
     "execution_count": 47,
     "metadata": {},
     "output_type": "execute_result"
    }
   ],
   "source": [
    "## List comprehension\n",
    "[i*i for i in range(10)]"
   ]
  },
  {
   "cell_type": "markdown",
   "metadata": {},
   "source": [
    "We can add a filter like this:"
   ]
  },
  {
   "cell_type": "code",
   "execution_count": 48,
   "metadata": {},
   "outputs": [
    {
     "data": {
      "text/plain": [
       "[36, 49, 64, 81]"
      ]
     },
     "execution_count": 48,
     "metadata": {},
     "output_type": "execute_result"
    }
   ],
   "source": [
    "[i*i for i in range(10) if i > 5]"
   ]
  },
  {
   "cell_type": "markdown",
   "metadata": {},
   "source": [
    "We can also add in a conditional return in the list comprehension:"
   ]
  },
  {
   "cell_type": "code",
   "execution_count": 49,
   "metadata": {},
   "outputs": [
    {
     "data": {
      "text/plain": [
       "[-5, -4, -3, -2, -1, 0, 1, 4, 9, 16]"
      ]
     },
     "execution_count": 49,
     "metadata": {},
     "output_type": "execute_result"
    }
   ],
   "source": [
    "## If we want a conditional we move it up front\n",
    "[i*i if i > 0 else i for i in range(-5, 5)]"
   ]
  },
  {
   "cell_type": "markdown",
   "metadata": {},
   "source": [
    "## Functions introduction\n",
    "\n",
    "We should avoid writing the same code many times. *Computers are good at iteration :)*  \n",
    "Thus, we can wrap code into functions for reuse.  \n",
    "\n",
    "* Functions in Python:\n",
    " * Use `def()` to start\n",
    " * We define the function name, the parameters (inputs)\n",
    " * Whitespace is significant as always\n",
    " * Use `return` statement to return values (multiple allowed)\n",
    "\n",
    "\n",
    "This is the general syntax to define a new function:\n",
    "\n",
    ">`Def new_func(par1,par2,some_other_par=\"default:\"):\n",
    "    _do_some_stuff_\n",
    "    return some_related_stuff`\n",
    "    \n",
    "Let's try a simple function!\n"
   ]
  },
  {
   "cell_type": "code",
   "execution_count": 50,
   "metadata": {},
   "outputs": [
    {
     "data": {
      "text/plain": [
       "12"
      ]
     },
     "execution_count": 50,
     "metadata": {},
     "output_type": "execute_result"
    },
    {
     "data": {
      "text/plain": [
       "6.0"
      ]
     },
     "execution_count": 50,
     "metadata": {},
     "output_type": "execute_result"
    },
    {
     "data": {
      "text/plain": [
       "3.0"
      ]
     },
     "execution_count": 50,
     "metadata": {},
     "output_type": "execute_result"
    }
   ],
   "source": [
    "# First Function\n",
    "def mult_by_3(x, weight=1):\n",
    "    \"\"\"Takes in a number and multiplies it by 3.\n",
    "    The result is weighted by the optional weight parameter.\"\"\"\n",
    "    result = x * weight * 3\n",
    "    return result\n",
    "\n",
    "\n",
    "mult_by_3(4)\n",
    "mult_by_3(4, 0.5)\n",
    "mult_by_3(weight=0.25, x=4)"
   ]
  },
  {
   "cell_type": "markdown",
   "metadata": {},
   "source": [
    "Functions can return multiple values (and also unpack them!)"
   ]
  },
  {
   "cell_type": "code",
   "execution_count": 51,
   "metadata": {},
   "outputs": [
    {
     "data": {
      "text/plain": [
       "2"
      ]
     },
     "execution_count": 51,
     "metadata": {},
     "output_type": "execute_result"
    }
   ],
   "source": [
    "# Multiple Values\n",
    "def multi_func(a, b, c):\n",
    "    \"\"\"Takes in three numbers and returns the \n",
    "    increment of the first, adds three to the second, and \n",
    "    takes three from the third number.\"\"\"\n",
    "    return (a + 1, b + 3, c - 3)\n",
    "    \n",
    "a1, b1, c1 = multi_func(1, 1, 1)\n",
    "\n",
    "a1"
   ]
  },
  {
   "cell_type": "markdown",
   "metadata": {},
   "source": [
    "## Anonymous Functions\n",
    "\n",
    "These are so called `\"lambda\"` functions.  \n",
    "One line function expressions (useful construct in data science):  \n",
    ">`new_func = lambda par [,par2,…]:  expression`\n",
    "\n",
    "Let's try using a `lambda` function"
   ]
  },
  {
   "cell_type": "code",
   "execution_count": 52,
   "metadata": {},
   "outputs": [
    {
     "data": {
      "text/plain": [
       "7"
      ]
     },
     "execution_count": 52,
     "metadata": {},
     "output_type": "execute_result"
    },
    {
     "data": {
      "text/plain": [
       "(7, -1)"
      ]
     },
     "execution_count": 52,
     "metadata": {},
     "output_type": "execute_result"
    }
   ],
   "source": [
    "# Lambda\n",
    "lam_func = lambda x1, x2: x1 + x2\n",
    "lam_func(3, 4)\n",
    "\n",
    "# Multiple returns\n",
    "lam_func2 = lambda x1, x2: (x1 + x2, x1 - x2)\n",
    "lam_func2(3, 4)"
   ]
  },
  {
   "cell_type": "markdown",
   "metadata": {},
   "source": [
    "### Iterables and Generators"
   ]
  },
  {
   "cell_type": "markdown",
   "metadata": {},
   "source": [
    "You have already been exposed to many objects in Python that can be considered 'iterable'. An iterable in python is any object that is capable of returning an iterator, which will be capable of returning all the elements of the object. Here are a few examples of iterable objects:"
   ]
  },
  {
   "cell_type": "code",
   "execution_count": 53,
   "metadata": {},
   "outputs": [
    {
     "name": "stdout",
     "output_type": "stream",
     "text": [
      "0\n",
      "1\n",
      "2\n",
      "3\n",
      "4\n",
      "5\n",
      "6\n",
      "7\n",
      "8\n",
      "9\n"
     ]
    }
   ],
   "source": [
    "# range() is an iterable object\n",
    "for i in range(10):\n",
    "    print(i)"
   ]
  },
  {
   "cell_type": "code",
   "execution_count": 54,
   "metadata": {},
   "outputs": [
    {
     "data": {
      "text/plain": [
       "<range_iterator at 0x7f5394631db0>"
      ]
     },
     "execution_count": 54,
     "metadata": {},
     "output_type": "execute_result"
    },
    {
     "data": {
      "text/plain": [
       "<range_iterator at 0x7f5394631bd0>"
      ]
     },
     "execution_count": 54,
     "metadata": {},
     "output_type": "execute_result"
    },
    {
     "data": {
      "text/plain": [
       "0"
      ]
     },
     "execution_count": 54,
     "metadata": {},
     "output_type": "execute_result"
    },
    {
     "data": {
      "text/plain": [
       "1"
      ]
     },
     "execution_count": 54,
     "metadata": {},
     "output_type": "execute_result"
    },
    {
     "data": {
      "text/plain": [
       "2"
      ]
     },
     "execution_count": 54,
     "metadata": {},
     "output_type": "execute_result"
    },
    {
     "data": {
      "text/plain": [
       "3"
      ]
     },
     "execution_count": 54,
     "metadata": {},
     "output_type": "execute_result"
    },
    {
     "data": {
      "text/plain": [
       "4"
      ]
     },
     "execution_count": 54,
     "metadata": {},
     "output_type": "execute_result"
    }
   ],
   "source": [
    "# retrieve the iterator from the iterable\n",
    "iter(range(10))\n",
    "range(10).__iter__() # same thing\n",
    "\n",
    "# get iterator\n",
    "range_iterator = iter(range(10))\n",
    "# ask for next object\n",
    "next(range_iterator)\n",
    "next(range_iterator)\n",
    "next(range_iterator)\n",
    "next(range_iterator)\n",
    "next(range_iterator)"
   ]
  },
  {
   "cell_type": "code",
   "execution_count": 55,
   "metadata": {},
   "outputs": [
    {
     "data": {
      "text/plain": [
       "3"
      ]
     },
     "execution_count": 55,
     "metadata": {},
     "output_type": "execute_result"
    },
    {
     "data": {
      "text/plain": [
       "5"
      ]
     },
     "execution_count": 55,
     "metadata": {},
     "output_type": "execute_result"
    }
   ],
   "source": [
    "## Lists are iterables\n",
    "x1 = [3,5,9]\n",
    "x1_iter = iter(x1)\n",
    "next(x1_iter)\n",
    "next(x1_iter)"
   ]
  },
  {
   "cell_type": "markdown",
   "metadata": {},
   "source": [
    "An iterable is essentially a data generating factory, lazily yielding one piece of itself at a time when we ask for it, until it has been exhausted.\n",
    "\n",
    "\n",
    "### Making your own iterable class\n",
    "\n",
    "Iterable are classes in Python. The defining trait is they have an __iter__ method. If you want to create your own iterable, you need to establish a new class with an __iter__ method. Here is a simple class that will generate numbers from start to stop by 10, then stop iteration once reaching the max.\n"
   ]
  },
  {
   "cell_type": "code",
   "execution_count": 56,
   "metadata": {},
   "outputs": [],
   "source": [
    "class range10:\n",
    "    def __init__(self,start,stop):\n",
    "        self.start = start\n",
    "        self.stop = stop\n",
    "        self.current = start\n",
    "    \n",
    "    def __iter__(self):\n",
    "        return self\n",
    "    \n",
    "    def __next__(self):\n",
    "        if self.current > self.stop:\n",
    "            raise StopIteration\n",
    "        self.value = self.current\n",
    "        self.current += 10\n",
    "        return self.value"
   ]
  },
  {
   "cell_type": "code",
   "execution_count": 57,
   "metadata": {},
   "outputs": [
    {
     "data": {
      "text/plain": [
       "<__main__.range10 at 0x7f53945d1978>"
      ]
     },
     "execution_count": 57,
     "metadata": {},
     "output_type": "execute_result"
    },
    {
     "data": {
      "text/plain": [
       "[0, 10, 20, 30, 40, 50]"
      ]
     },
     "execution_count": 57,
     "metadata": {},
     "output_type": "execute_result"
    }
   ],
   "source": [
    "## Test class\n",
    "range10(0,50)\n",
    "list(range10(0,50))"
   ]
  },
  {
   "cell_type": "markdown",
   "metadata": {},
   "source": [
    "That is nifty, but seems like a lot of work. A beautiful part of Python is something called a generator, which is a simple way to create an iterator.\n",
    "\n",
    "### Generators in Python\n",
    "\n",
    "If you wish to get the behaviour of an iterator, but you do not want to go to the effort of creating a new class and assigning the __iter__ and __next__ methods, you can easily create a generator by using a function combined with a yield statement. Here is an example of doing the same thing we did above, but expressing it as a generator through a function:\n"
   ]
  },
  {
   "cell_type": "code",
   "execution_count": 58,
   "metadata": {},
   "outputs": [],
   "source": [
    "## Create generator \n",
    "def range10(start,stop):\n",
    "    current_value = start\n",
    "    while current_value < stop:\n",
    "        yield current_value\n",
    "        current_value +=10"
   ]
  },
  {
   "cell_type": "code",
   "execution_count": 59,
   "metadata": {},
   "outputs": [
    {
     "data": {
      "text/plain": [
       "[0, 10, 20, 30, 40, 50, 60, 70, 80, 90, 100, 110, 120, 130, 140]"
      ]
     },
     "execution_count": 59,
     "metadata": {},
     "output_type": "execute_result"
    },
    {
     "data": {
      "text/plain": [
       "0"
      ]
     },
     "execution_count": 59,
     "metadata": {},
     "output_type": "execute_result"
    },
    {
     "data": {
      "text/plain": [
       "10"
      ]
     },
     "execution_count": 59,
     "metadata": {},
     "output_type": "execute_result"
    }
   ],
   "source": [
    "## test the result\n",
    "list(range10(0,150))\n",
    "x1 = range10(0,150)\n",
    "next(x1)\n",
    "next(x1)"
   ]
  },
  {
   "cell_type": "markdown",
   "metadata": {},
   "source": [
    "Note that we can 'exhaust' a generator object by moving through all of it's values:"
   ]
  },
  {
   "cell_type": "code",
   "execution_count": 60,
   "metadata": {},
   "outputs": [
    {
     "name": "stdout",
     "output_type": "stream",
     "text": [
      "0\n",
      "10\n",
      "20\n",
      "30\n",
      "40\n",
      "50\n",
      "60\n",
      "70\n",
      "80\n",
      "90\n",
      "100\n",
      "110\n",
      "120\n",
      "130\n",
      "140\n"
     ]
    },
    {
     "ename": "StopIteration",
     "evalue": "",
     "output_type": "error",
     "traceback": [
      "\u001b[0;31m---------------------------------------------------------------------------\u001b[0m",
      "\u001b[0;31mStopIteration\u001b[0m                             Traceback (most recent call last)",
      "\u001b[0;32m<ipython-input-60-710df0a75a9d>\u001b[0m in \u001b[0;36m<module>\u001b[0;34m\u001b[0m\n\u001b[1;32m      5\u001b[0m     \u001b[0mprint\u001b[0m\u001b[0;34m(\u001b[0m\u001b[0mi\u001b[0m\u001b[0;34m)\u001b[0m\u001b[0;34m\u001b[0m\u001b[0;34m\u001b[0m\u001b[0m\n\u001b[1;32m      6\u001b[0m \u001b[0;31m## try to get one more\u001b[0m\u001b[0;34m\u001b[0m\u001b[0;34m\u001b[0m\u001b[0;34m\u001b[0m\u001b[0m\n\u001b[0;32m----> 7\u001b[0;31m \u001b[0mnext\u001b[0m\u001b[0;34m(\u001b[0m\u001b[0mx2\u001b[0m\u001b[0;34m)\u001b[0m\u001b[0;34m\u001b[0m\u001b[0;34m\u001b[0m\u001b[0m\n\u001b[0m",
      "\u001b[0;31mStopIteration\u001b[0m: "
     ]
    }
   ],
   "source": [
    "## establish generator object\n",
    "x2 = range10(0,150)\n",
    "## exhaust it\n",
    "for i in x2:\n",
    "    print(i)\n",
    "## try to get one more\n",
    "next(x2)"
   ]
  },
  {
   "cell_type": "markdown",
   "metadata": {},
   "source": [
    "As a quick check, can you tell me why this code works, even though the code above threw an error?"
   ]
  },
  {
   "cell_type": "code",
   "execution_count": 61,
   "metadata": {},
   "outputs": [
    {
     "name": "stdout",
     "output_type": "stream",
     "text": [
      "0\n",
      "10\n",
      "20\n",
      "30\n",
      "40\n",
      "50\n",
      "60\n",
      "70\n",
      "80\n",
      "90\n",
      "100\n",
      "110\n",
      "120\n",
      "130\n",
      "140\n"
     ]
    },
    {
     "data": {
      "text/plain": [
       "0"
      ]
     },
     "execution_count": 61,
     "metadata": {},
     "output_type": "execute_result"
    }
   ],
   "source": [
    "## why no error?\n",
    "for i in range10(0,150):\n",
    "    print(i)\n",
    "## try to get one more\n",
    "next(range10(0,150))"
   ]
  },
  {
   "cell_type": "markdown",
   "metadata": {},
   "source": [
    "It is because we constructed a new generator when we called the generator function again.\n",
    "\n",
    "### Generator expressions\n",
    "\n",
    "Do you recall how list comprehension worked? It allowed use to quickly process an iterable, create a list, then populate the list with the result (optionally filtering while we go). It is an alternative to a for loop. Here is an example:\n"
   ]
  },
  {
   "cell_type": "code",
   "execution_count": 62,
   "metadata": {},
   "outputs": [
    {
     "data": {
      "text/plain": [
       "[100, 200, 300]"
      ]
     },
     "execution_count": 62,
     "metadata": {},
     "output_type": "execute_result"
    }
   ],
   "source": [
    "## list comprehension review\n",
    "data1 = [-3,-2,-1,0,1,2,3]\n",
    "[100*x for x in data1 if x > 0]"
   ]
  },
  {
   "cell_type": "markdown",
   "metadata": {},
   "source": [
    "There is something called a generator expression in Python, which is an even easier way to create a generator. We can use the same sort of syntax as list comprehension, but replace the square brackets with paranthesis. Here is an example of creating the same thing, but turning it into a generator: "
   ]
  },
  {
   "cell_type": "code",
   "execution_count": 63,
   "metadata": {},
   "outputs": [
    {
     "data": {
      "text/plain": [
       "<generator object <genexpr> at 0x7f53945c6888>"
      ]
     },
     "execution_count": 63,
     "metadata": {},
     "output_type": "execute_result"
    }
   ],
   "source": [
    "## create generator\n",
    "(100*x for x in data1 if x > 0)"
   ]
  },
  {
   "cell_type": "code",
   "execution_count": 64,
   "metadata": {},
   "outputs": [
    {
     "name": "stdout",
     "output_type": "stream",
     "text": [
      "100\n",
      "200\n",
      "300\n"
     ]
    }
   ],
   "source": [
    "## yield values from the generator\n",
    "for i in (100*x for x in data1 if x > 0):\n",
    "    print(i)"
   ]
  },
  {
   "cell_type": "markdown",
   "metadata": {},
   "source": [
    "One thing to keep in mind for all of these generator objects we have constructed: they are memory efficient! They do not store the entire object in memory upon creation, they only generate each iteration as needed (lazy evaluation). If you are working with large objects, this can be a large memory efficiency gain."
   ]
  },
  {
   "cell_type": "markdown",
   "metadata": {},
   "source": [
    "## Wrap-up!\n",
    "\n",
    "This was a non-comprehensive review of concepts from the Python standard library.\n",
    "\n",
    "\n",
    "How do you feel about the content presented here?  \n",
    "\n",
    "\n",
    "We'll be expanding these base concepts further. Be sure you're comfortable with these fundamental Python concepts so you can be successful in subsequent material.\n",
    "\n",
    "What we covered:\n",
    "\n",
    "* Python Collections\n",
    "* Slicing\n",
    "* Loops / list comprehension\n",
    "* Iterators\n",
    "* Generators"
   ]
  }
 ],
 "metadata": {
  "anaconda-cloud": {},
  "kernelspec": {
   "display_name": "Python 3",
   "language": "python",
   "name": "python3"
  },
  "language_info": {
   "codemirror_mode": {
    "name": "ipython",
    "version": 3
   },
   "file_extension": ".py",
   "mimetype": "text/x-python",
   "name": "python",
   "nbconvert_exporter": "python",
   "pygments_lexer": "ipython3",
   "version": "3.6.7"
  }
 },
 "nbformat": 4,
 "nbformat_minor": 1
}
